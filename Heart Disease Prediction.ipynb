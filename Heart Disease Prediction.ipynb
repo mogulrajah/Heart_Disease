{
  "cells": [
    {
      "cell_type": "markdown",
      "id": "7c12860b-404f-40f9-9354-2d6a5b217556",
      "metadata": {
        "id": "7c12860b-404f-40f9-9354-2d6a5b217556"
      },
      "source": [
        "CASE STUDY - INTRODUCTION\n",
        "\n",
        "The world of human anatomy or medicine is a facinating one, from patients decribing their conditions to health practitioners( Doctors) using these complaints or descriptions of illnesses to diagnose what exactly these illnesses could be. As of 11th June, 2021, World Health Organization (WHO) report stated that 17.9 millions deaths worldwide in 2019 was caused by cardiovascular diseases (CVDs)  which represnt 32% of all global death and 85% of such deaths were as a result of heart attack and stroke.\n",
        "\n",
        "Cardiovascular disease (CVD) popularly refered to as heart disease is one of  the chronic diseases in the world. National Cancer Institute (the United Stastes federal government's principal agency for cancer research and training ), defines  heart disease as  a type of disease that affects the heart or blood vessels.\n",
        "\n",
        "In Ghana, the prevalence of CVD ranges from 0.5%  to 65.0%. The data from the National Cardiothoracic Center at Korle-Bu Teaching Hospital (KBTH) showed that 60% of deaths among adults were due to heart-related diseases, with 6.5% and 19% being diabetic and hypertensive patients, respectively. Findings from autopsy reports in KBTH by Wiredu & Nyame , Edingion , and Sanuade et al., showed that 11.1%, 12.8% and 22.2% of all deaths were due to CVD, respectively.\n",
        "\n",
        "Reports from KBTH and Komfo Anokye Teaching Hospital (KATH) have indicated that there is a rise in CVD and risk factors such as hypertension, diabetes and obesity, especially among middle-aged Ghanaians . Another report showed that heart disease is the leading condition recorded at the accident and emergency centres in the KATH. Based on these reports, paying attention to cardiovascular health and controlling risk factors is essential, and it is time to implement evidence-based strategies and inexpensive policies for the prevention and control of CVD and to monitor outcomes.\n",
        "\n",
        "This review aimed to determine the Pathogenicity Predictor (PP) of CVD and risk factors in Ghana to assist health professionals, researchers, and policymakers in designing effective interventions for early prevention and management.\n",
        "\n",
        "Although the aim of this project is to be able to predict the likelehood of a ghanaian patient getting heart disease we lack the data to be able to make such prediction.Due to the scarcity of data to our disposal we outsoured data from the UCI Data Repository.This data, although not from ghana will be the best for this project due to it quality and also the symptoms of heart diseases, being  the same everywhere no matter the country.        \n",
        "\n",
        "Machine learning plays a pivotal role in Disease Outbreak Prediction and Early Warning Systems, where vast epidemiological data is analyzed to detect patterns in disease spread. This capability enables global health organizations to anticipate outbreaks early and implement proactive measures to contain infections before they escalate.\n",
        "\n",
        "This project delves into the fusion of medicine and artificial intelligence, leveraging data-driven insights to enhance diagnostics. Using patient health records, we aim to develop a predictive model that assesses the likelihood of heart disease, empowering healthcare professionals with valuable tools for early detection and prevention.\n",
        "\n",
        "This disease data is a typical example of supervised machine learning task. With this notebook, our goal is to build a predictive model that seeks to answer the question \"which people are more likely to have the disease compared to others?\n",
        "\n",
        "In this notebook, we will be using the logistic regression algorithm and the K-Nearest Neigbours(knn) algorithm,these  models are provided within the Scikit-learn library to which we will be using to  build a model that will predict those that are likely to have the heart disease and those that would not using patient data like :age, sex, cp, chol, amongst others, etc\n",
        "\n",
        "In this notebook, we will have our codes outlined in four sections where we will extensively complete an end-to-end project on the disease dataset.\n"
      ]
    },
    {
      "cell_type": "markdown",
      "id": "17f1638b-c515-48da-937d-d5320af0822c",
      "metadata": {
        "id": "17f1638b-c515-48da-937d-d5320af0822c"
      },
      "source": [
        "OBJECTIVES OF THE ANALYSIS\n",
        " - Understanding the data.\n",
        " - Data cleaning and transformation: Clean the dataset by handling missing values, duplicates, preparing it feature scaling       and model building.\n",
        " - Data Preprocessing: Undertake feature scaling and dimensionality reduction to streamline the data, enhancing the efficiency    of the prediction and model building process.\n",
        " - Data Splitting: Splitting the data into a train data to build the model and a test data to check if the model learnt on the    data.\n",
        " - Model building and prediction: Building a logistic regression model and K-Nearest Neigbours(knn) model to  predict our data.\n",
        " - Model Evaluation: After the development of our model and prediction we will use accuracy score and confution metrix to evaluate our models.   "
      ]
    },
    {
      "cell_type": "markdown",
      "id": "09379bb1-6ccd-4661-b803-9645255c6dd6",
      "metadata": {
        "id": "09379bb1-6ccd-4661-b803-9645255c6dd6"
      },
      "source": [
        "DESCRIPTION OF VARIOUS FEATURES\n",
        "-\tAge: How old a patient is.\n",
        "\n",
        "-\tSex: either the patient is male or female.\n",
        "\n",
        "-\tChestPainType: there are four chest pain type in the data (TA: Typical Angina, ATA: Atypical Angina, NAP: Non-Anginal Pain, ASY: Asymptomatic);\n",
        "1.\tTypical Angina (TA): This is a type of chest pain or discomfort caused by reduced blood flow to the heart muscle.\n",
        "2.\tAtypical Angina (ATA): This refers to chest pain or discomfort that doesn't follow the typical patterns of classic angina.\n",
        "3.\tNon-Anginal Pain (NAP): This refers to chest pains that are not related to heart problems.\n",
        "4.\tAsymptomatic (ASY): This refers to individuals who have a disease or medical condition but do not exhibit any noticeable symptoms.\n",
        "\n",
        "-\tRestingBP: resting blood pressure (mm Hg) is the measurement of blood pressure while a person is at rest.\n",
        "\n",
        "-\tCholesterol: serum cholesterol (mm/dl) is a waxy, fat-like substance found in all cells of the body and in the blood. It is important for building health cells and producing hormones, vitamin D and substances needed for digestion. However high cholesterol level turn to leads to heart disease.\n",
        "\n",
        "-\tFastingBS: fasting blood sugar (1: if FastingBS > 120 mg/dl, 0: otherwise) is usually tested to measure the blood glucose levels after not eating or drinking (except water) for at least 8 hours. The normal fasting blood sugar is with the 70 to 99mg/dL while anything higher than this value indicates cases of prediabetes and diabetes.\n",
        "\n",
        "-\tRestingECG: resting electrocardiogram results (Normal: Normal, ST: having ST-T wave abnormality (T wave inversions and/or ST elevation or depression of > 0.05 mV), LVH: showing probable or definite left ventricular hypertrophy by Estes' criteria).\n",
        "\n",
        "-\tMaxHR: maximum heart rate achieved (Numeric value between 60 and 202), is the highest number of times your heart can beat per minute during intense physical activity.\n",
        "\n",
        "-\tExerciseAngina: exercise-induced angina (Y: Yes, N: No), this is a type of chest pain that is caused by physical exertion. This chest pain comes as a result of exercise or stress that makes the heart to work harder. It is a common symptom of heart disease.\n",
        "\n",
        "-\tOldpeak: oldpeak = ST (Numeric value measured in depression), this refers to the ST depression induced by exercise relative to rest.\n",
        "\n",
        "-\tST_Slope: the slope of the peak exercise ST segment (Up: upsloping, Flat: flat, Down: down sloping)\n",
        "\n",
        "-\tHeartDisease: output class (1: has heart disease, 0: Patient do not have)  \n"
      ]
    },
    {
      "cell_type": "markdown",
      "id": "a38640ed-fa84-425a-93ab-3b4ab71be117",
      "metadata": {
        "id": "a38640ed-fa84-425a-93ab-3b4ab71be117"
      },
      "source": [
        "Taking a look at the data while outputting relevant information about it."
      ]
    },
    {
      "cell_type": "code",
      "execution_count": null,
      "id": "6924dc34-5aba-4c45-8657-4953ae8da69f",
      "metadata": {
        "id": "6924dc34-5aba-4c45-8657-4953ae8da69f"
      },
      "outputs": [],
      "source": [
        "# Import relevant libraries\n",
        "import pandas as pd\n",
        "import numpy as np\n",
        "import matplotlib.pyplot as plt\n",
        "import seaborn as sns\n",
        "from sklearn.preprocessing import LabelEncoder\n",
        "from sklearn.linear_model import LogisticRegression\n",
        "from pickle import TRUE\n",
        "from sklearn.preprocessing import StandardScaler\n",
        "from sklearn.neighbors import KNeighborsClassifier"
      ]
    },
    {
      "cell_type": "code",
      "execution_count": null,
      "id": "0b5864ce-2e9f-48e5-86fb-f95a565bc328",
      "metadata": {
        "id": "0b5864ce-2e9f-48e5-86fb-f95a565bc328",
        "outputId": "41ec1b75-8b54-436a-c004-775625a0bab1"
      },
      "outputs": [
        {
          "data": {
            "text/html": [
              "<div>\n",
              "<style scoped>\n",
              "    .dataframe tbody tr th:only-of-type {\n",
              "        vertical-align: middle;\n",
              "    }\n",
              "\n",
              "    .dataframe tbody tr th {\n",
              "        vertical-align: top;\n",
              "    }\n",
              "\n",
              "    .dataframe thead th {\n",
              "        text-align: right;\n",
              "    }\n",
              "</style>\n",
              "<table border=\"1\" class=\"dataframe\">\n",
              "  <thead>\n",
              "    <tr style=\"text-align: right;\">\n",
              "      <th></th>\n",
              "      <th>Age</th>\n",
              "      <th>Sex</th>\n",
              "      <th>ChestPainType</th>\n",
              "      <th>RestingBP</th>\n",
              "      <th>Cholesterol</th>\n",
              "      <th>FastingBS</th>\n",
              "      <th>RestingECG</th>\n",
              "      <th>MaxHR</th>\n",
              "      <th>ExerciseAngina</th>\n",
              "      <th>Oldpeak</th>\n",
              "      <th>ST_Slope</th>\n",
              "      <th>HeartDisease</th>\n",
              "    </tr>\n",
              "  </thead>\n",
              "  <tbody>\n",
              "    <tr>\n",
              "      <th>0</th>\n",
              "      <td>40</td>\n",
              "      <td>M</td>\n",
              "      <td>ATA</td>\n",
              "      <td>140</td>\n",
              "      <td>289</td>\n",
              "      <td>0</td>\n",
              "      <td>Normal</td>\n",
              "      <td>172</td>\n",
              "      <td>N</td>\n",
              "      <td>0.0</td>\n",
              "      <td>Up</td>\n",
              "      <td>0</td>\n",
              "    </tr>\n",
              "    <tr>\n",
              "      <th>1</th>\n",
              "      <td>49</td>\n",
              "      <td>F</td>\n",
              "      <td>NAP</td>\n",
              "      <td>160</td>\n",
              "      <td>180</td>\n",
              "      <td>0</td>\n",
              "      <td>Normal</td>\n",
              "      <td>156</td>\n",
              "      <td>N</td>\n",
              "      <td>1.0</td>\n",
              "      <td>Flat</td>\n",
              "      <td>1</td>\n",
              "    </tr>\n",
              "    <tr>\n",
              "      <th>2</th>\n",
              "      <td>37</td>\n",
              "      <td>M</td>\n",
              "      <td>ATA</td>\n",
              "      <td>130</td>\n",
              "      <td>283</td>\n",
              "      <td>0</td>\n",
              "      <td>ST</td>\n",
              "      <td>98</td>\n",
              "      <td>N</td>\n",
              "      <td>0.0</td>\n",
              "      <td>Up</td>\n",
              "      <td>0</td>\n",
              "    </tr>\n",
              "    <tr>\n",
              "      <th>3</th>\n",
              "      <td>48</td>\n",
              "      <td>F</td>\n",
              "      <td>ASY</td>\n",
              "      <td>138</td>\n",
              "      <td>214</td>\n",
              "      <td>0</td>\n",
              "      <td>Normal</td>\n",
              "      <td>108</td>\n",
              "      <td>Y</td>\n",
              "      <td>1.5</td>\n",
              "      <td>Flat</td>\n",
              "      <td>1</td>\n",
              "    </tr>\n",
              "    <tr>\n",
              "      <th>4</th>\n",
              "      <td>54</td>\n",
              "      <td>M</td>\n",
              "      <td>NAP</td>\n",
              "      <td>150</td>\n",
              "      <td>195</td>\n",
              "      <td>0</td>\n",
              "      <td>Normal</td>\n",
              "      <td>122</td>\n",
              "      <td>N</td>\n",
              "      <td>0.0</td>\n",
              "      <td>Up</td>\n",
              "      <td>0</td>\n",
              "    </tr>\n",
              "    <tr>\n",
              "      <th>...</th>\n",
              "      <td>...</td>\n",
              "      <td>...</td>\n",
              "      <td>...</td>\n",
              "      <td>...</td>\n",
              "      <td>...</td>\n",
              "      <td>...</td>\n",
              "      <td>...</td>\n",
              "      <td>...</td>\n",
              "      <td>...</td>\n",
              "      <td>...</td>\n",
              "      <td>...</td>\n",
              "      <td>...</td>\n",
              "    </tr>\n",
              "    <tr>\n",
              "      <th>913</th>\n",
              "      <td>45</td>\n",
              "      <td>M</td>\n",
              "      <td>TA</td>\n",
              "      <td>110</td>\n",
              "      <td>264</td>\n",
              "      <td>0</td>\n",
              "      <td>Normal</td>\n",
              "      <td>132</td>\n",
              "      <td>N</td>\n",
              "      <td>1.2</td>\n",
              "      <td>Flat</td>\n",
              "      <td>1</td>\n",
              "    </tr>\n",
              "    <tr>\n",
              "      <th>914</th>\n",
              "      <td>68</td>\n",
              "      <td>M</td>\n",
              "      <td>ASY</td>\n",
              "      <td>144</td>\n",
              "      <td>193</td>\n",
              "      <td>1</td>\n",
              "      <td>Normal</td>\n",
              "      <td>141</td>\n",
              "      <td>N</td>\n",
              "      <td>3.4</td>\n",
              "      <td>Flat</td>\n",
              "      <td>1</td>\n",
              "    </tr>\n",
              "    <tr>\n",
              "      <th>915</th>\n",
              "      <td>57</td>\n",
              "      <td>M</td>\n",
              "      <td>ASY</td>\n",
              "      <td>130</td>\n",
              "      <td>131</td>\n",
              "      <td>0</td>\n",
              "      <td>Normal</td>\n",
              "      <td>115</td>\n",
              "      <td>Y</td>\n",
              "      <td>1.2</td>\n",
              "      <td>Flat</td>\n",
              "      <td>1</td>\n",
              "    </tr>\n",
              "    <tr>\n",
              "      <th>916</th>\n",
              "      <td>57</td>\n",
              "      <td>F</td>\n",
              "      <td>ATA</td>\n",
              "      <td>130</td>\n",
              "      <td>236</td>\n",
              "      <td>0</td>\n",
              "      <td>LVH</td>\n",
              "      <td>174</td>\n",
              "      <td>N</td>\n",
              "      <td>0.0</td>\n",
              "      <td>Flat</td>\n",
              "      <td>1</td>\n",
              "    </tr>\n",
              "    <tr>\n",
              "      <th>917</th>\n",
              "      <td>38</td>\n",
              "      <td>M</td>\n",
              "      <td>NAP</td>\n",
              "      <td>138</td>\n",
              "      <td>175</td>\n",
              "      <td>0</td>\n",
              "      <td>Normal</td>\n",
              "      <td>173</td>\n",
              "      <td>N</td>\n",
              "      <td>0.0</td>\n",
              "      <td>Up</td>\n",
              "      <td>0</td>\n",
              "    </tr>\n",
              "  </tbody>\n",
              "</table>\n",
              "<p>918 rows × 12 columns</p>\n",
              "</div>"
            ],
            "text/plain": [
              "     Age Sex ChestPainType  RestingBP  Cholesterol  FastingBS RestingECG  \\\n",
              "0     40   M           ATA        140          289          0     Normal   \n",
              "1     49   F           NAP        160          180          0     Normal   \n",
              "2     37   M           ATA        130          283          0         ST   \n",
              "3     48   F           ASY        138          214          0     Normal   \n",
              "4     54   M           NAP        150          195          0     Normal   \n",
              "..   ...  ..           ...        ...          ...        ...        ...   \n",
              "913   45   M            TA        110          264          0     Normal   \n",
              "914   68   M           ASY        144          193          1     Normal   \n",
              "915   57   M           ASY        130          131          0     Normal   \n",
              "916   57   F           ATA        130          236          0        LVH   \n",
              "917   38   M           NAP        138          175          0     Normal   \n",
              "\n",
              "     MaxHR ExerciseAngina  Oldpeak ST_Slope  HeartDisease  \n",
              "0      172              N      0.0       Up             0  \n",
              "1      156              N      1.0     Flat             1  \n",
              "2       98              N      0.0       Up             0  \n",
              "3      108              Y      1.5     Flat             1  \n",
              "4      122              N      0.0       Up             0  \n",
              "..     ...            ...      ...      ...           ...  \n",
              "913    132              N      1.2     Flat             1  \n",
              "914    141              N      3.4     Flat             1  \n",
              "915    115              Y      1.2     Flat             1  \n",
              "916    174              N      0.0     Flat             1  \n",
              "917    173              N      0.0       Up             0  \n",
              "\n",
              "[918 rows x 12 columns]"
            ]
          },
          "execution_count": 750,
          "metadata": {},
          "output_type": "execute_result"
        }
      ],
      "source": [
        "# Upload and reading data\n",
        "proj = pd.read_csv('heart2.csv')\n",
        "proj"
      ]
    },
    {
      "cell_type": "code",
      "execution_count": null,
      "id": "bb47dac2-67ed-4afa-aeed-fea493f6650f",
      "metadata": {
        "id": "bb47dac2-67ed-4afa-aeed-fea493f6650f",
        "outputId": "ba50b165-c54f-4bfe-d45d-c127b6051e53"
      },
      "outputs": [
        {
          "name": "stdout",
          "output_type": "stream",
          "text": [
            "<class 'pandas.core.frame.DataFrame'>\n",
            "RangeIndex: 918 entries, 0 to 917\n",
            "Data columns (total 12 columns):\n",
            " #   Column          Non-Null Count  Dtype  \n",
            "---  ------          --------------  -----  \n",
            " 0   Age             918 non-null    int64  \n",
            " 1   Sex             918 non-null    object \n",
            " 2   ChestPainType   918 non-null    object \n",
            " 3   RestingBP       918 non-null    int64  \n",
            " 4   Cholesterol     918 non-null    int64  \n",
            " 5   FastingBS       918 non-null    int64  \n",
            " 6   RestingECG      918 non-null    object \n",
            " 7   MaxHR           918 non-null    int64  \n",
            " 8   ExerciseAngina  918 non-null    object \n",
            " 9   Oldpeak         918 non-null    float64\n",
            " 10  ST_Slope        918 non-null    object \n",
            " 11  HeartDisease    918 non-null    int64  \n",
            "dtypes: float64(1), int64(6), object(5)\n",
            "memory usage: 86.2+ KB\n"
          ]
        }
      ],
      "source": [
        "# Outputting some peculiar information about the data.\n",
        "proj.info()"
      ]
    },
    {
      "cell_type": "markdown",
      "id": "f59157bd-bd75-477c-8143-1e1b90104181",
      "metadata": {
        "id": "f59157bd-bd75-477c-8143-1e1b90104181"
      },
      "source": [
        "The .info() function gives an overview of all the features in our dataset giving us the data types of each feature being it object, integer or float. We have 6 features to be integers (heartdisease, MaxHR, FastingBS, Cholesterol, RestingBP and Age), 5 features being objects (Sex, ChestPainType, RestingECG, ExerciseAngina and ST_Slope) and one faeture being float (Oldpeak). It also shows the number of entries in each column with a total of 918 entries. Per the Non-Null Count we can say there are no empty entries  in our dataset."
      ]
    },
    {
      "cell_type": "code",
      "execution_count": null,
      "id": "da9e81a9-48c0-44ad-9dbb-ee05867617b3",
      "metadata": {
        "id": "da9e81a9-48c0-44ad-9dbb-ee05867617b3",
        "outputId": "48f65d2b-74d9-4920-ffa4-d466a6f735c7"
      },
      "outputs": [
        {
          "data": {
            "text/plain": [
              "(918, 12)"
            ]
          },
          "execution_count": 752,
          "metadata": {},
          "output_type": "execute_result"
        }
      ],
      "source": [
        "# Checking the number of sample (rows) and features (columns) in the data\n",
        "proj.shape"
      ]
    },
    {
      "cell_type": "markdown",
      "id": "307de9f3-9c75-47a7-8ae2-1e7e58ef5a67",
      "metadata": {
        "id": "307de9f3-9c75-47a7-8ae2-1e7e58ef5a67"
      },
      "source": [
        "The data has 918 samples (rows) and 12 features (columns)."
      ]
    },
    {
      "cell_type": "markdown",
      "id": "176f2864-6d21-4bae-b318-bd5bc68aac88",
      "metadata": {
        "id": "176f2864-6d21-4bae-b318-bd5bc68aac88"
      },
      "source": [
        "Outputting the summary statistics on the data. This output would emcompass the count of entries in each numeric feature, the average value of all entries in each feature, maximum and minimum values as well as the three known percentiles (25th, 50th and 75th) of the entries in each feature."
      ]
    },
    {
      "cell_type": "code",
      "execution_count": null,
      "id": "4acda8d1-bce3-453e-b7fa-2464e1665378",
      "metadata": {
        "id": "4acda8d1-bce3-453e-b7fa-2464e1665378",
        "outputId": "b92f2d4d-5a5f-4480-ef15-688991f09625"
      },
      "outputs": [
        {
          "data": {
            "text/html": [
              "<div>\n",
              "<style scoped>\n",
              "    .dataframe tbody tr th:only-of-type {\n",
              "        vertical-align: middle;\n",
              "    }\n",
              "\n",
              "    .dataframe tbody tr th {\n",
              "        vertical-align: top;\n",
              "    }\n",
              "\n",
              "    .dataframe thead th {\n",
              "        text-align: right;\n",
              "    }\n",
              "</style>\n",
              "<table border=\"1\" class=\"dataframe\">\n",
              "  <thead>\n",
              "    <tr style=\"text-align: right;\">\n",
              "      <th></th>\n",
              "      <th>Age</th>\n",
              "      <th>RestingBP</th>\n",
              "      <th>Cholesterol</th>\n",
              "      <th>FastingBS</th>\n",
              "      <th>MaxHR</th>\n",
              "      <th>Oldpeak</th>\n",
              "      <th>HeartDisease</th>\n",
              "    </tr>\n",
              "  </thead>\n",
              "  <tbody>\n",
              "    <tr>\n",
              "      <th>count</th>\n",
              "      <td>918.000000</td>\n",
              "      <td>918.000000</td>\n",
              "      <td>918.000000</td>\n",
              "      <td>918.000000</td>\n",
              "      <td>918.000000</td>\n",
              "      <td>918.000000</td>\n",
              "      <td>918.000000</td>\n",
              "    </tr>\n",
              "    <tr>\n",
              "      <th>mean</th>\n",
              "      <td>53.510893</td>\n",
              "      <td>132.396514</td>\n",
              "      <td>198.799564</td>\n",
              "      <td>0.233115</td>\n",
              "      <td>136.809368</td>\n",
              "      <td>0.887364</td>\n",
              "      <td>0.553377</td>\n",
              "    </tr>\n",
              "    <tr>\n",
              "      <th>std</th>\n",
              "      <td>9.432617</td>\n",
              "      <td>18.514154</td>\n",
              "      <td>109.384145</td>\n",
              "      <td>0.423046</td>\n",
              "      <td>25.460334</td>\n",
              "      <td>1.066570</td>\n",
              "      <td>0.497414</td>\n",
              "    </tr>\n",
              "    <tr>\n",
              "      <th>min</th>\n",
              "      <td>28.000000</td>\n",
              "      <td>0.000000</td>\n",
              "      <td>0.000000</td>\n",
              "      <td>0.000000</td>\n",
              "      <td>60.000000</td>\n",
              "      <td>-2.600000</td>\n",
              "      <td>0.000000</td>\n",
              "    </tr>\n",
              "    <tr>\n",
              "      <th>25%</th>\n",
              "      <td>47.000000</td>\n",
              "      <td>120.000000</td>\n",
              "      <td>173.250000</td>\n",
              "      <td>0.000000</td>\n",
              "      <td>120.000000</td>\n",
              "      <td>0.000000</td>\n",
              "      <td>0.000000</td>\n",
              "    </tr>\n",
              "    <tr>\n",
              "      <th>50%</th>\n",
              "      <td>54.000000</td>\n",
              "      <td>130.000000</td>\n",
              "      <td>223.000000</td>\n",
              "      <td>0.000000</td>\n",
              "      <td>138.000000</td>\n",
              "      <td>0.600000</td>\n",
              "      <td>1.000000</td>\n",
              "    </tr>\n",
              "    <tr>\n",
              "      <th>75%</th>\n",
              "      <td>60.000000</td>\n",
              "      <td>140.000000</td>\n",
              "      <td>267.000000</td>\n",
              "      <td>0.000000</td>\n",
              "      <td>156.000000</td>\n",
              "      <td>1.500000</td>\n",
              "      <td>1.000000</td>\n",
              "    </tr>\n",
              "    <tr>\n",
              "      <th>max</th>\n",
              "      <td>77.000000</td>\n",
              "      <td>200.000000</td>\n",
              "      <td>603.000000</td>\n",
              "      <td>1.000000</td>\n",
              "      <td>202.000000</td>\n",
              "      <td>6.200000</td>\n",
              "      <td>1.000000</td>\n",
              "    </tr>\n",
              "  </tbody>\n",
              "</table>\n",
              "</div>"
            ],
            "text/plain": [
              "              Age   RestingBP  Cholesterol   FastingBS       MaxHR  \\\n",
              "count  918.000000  918.000000   918.000000  918.000000  918.000000   \n",
              "mean    53.510893  132.396514   198.799564    0.233115  136.809368   \n",
              "std      9.432617   18.514154   109.384145    0.423046   25.460334   \n",
              "min     28.000000    0.000000     0.000000    0.000000   60.000000   \n",
              "25%     47.000000  120.000000   173.250000    0.000000  120.000000   \n",
              "50%     54.000000  130.000000   223.000000    0.000000  138.000000   \n",
              "75%     60.000000  140.000000   267.000000    0.000000  156.000000   \n",
              "max     77.000000  200.000000   603.000000    1.000000  202.000000   \n",
              "\n",
              "          Oldpeak  HeartDisease  \n",
              "count  918.000000    918.000000  \n",
              "mean     0.887364      0.553377  \n",
              "std      1.066570      0.497414  \n",
              "min     -2.600000      0.000000  \n",
              "25%      0.000000      0.000000  \n",
              "50%      0.600000      1.000000  \n",
              "75%      1.500000      1.000000  \n",
              "max      6.200000      1.000000  "
            ]
          },
          "execution_count": 753,
          "metadata": {},
          "output_type": "execute_result"
        }
      ],
      "source": [
        "# Outputting the statistical summary of the data.\n",
        "proj.describe()"
      ]
    },
    {
      "cell_type": "markdown",
      "id": "96b5c1c1-7e8d-49df-8247-4a3d3b2453f5",
      "metadata": {
        "id": "96b5c1c1-7e8d-49df-8247-4a3d3b2453f5"
      },
      "source": [
        "The .decsribe() function  gives us a summary statistics of each column. Let us break these numbers down according to each feature.\n",
        "\n",
        "* Age:\n",
        "- The count sums up the total number of entries in the Age feature giving us a total count of 918 entries,meaning there are no missing values in the Age feature.\n",
        "- Also, the mean gives use the average age of patients which is 53 and the std (standard deviation) help us determine how far or close the ages of patients are to the mean. With the std of 9.4, it show that the ages of patients are spread moderately from the mean.\n",
        "- The output for the minimum age of patients is 28 whereas the 25th percentile  indicates that  25% of the total ages of  patient are below the age of 47.\n",
        "- Also the 50th percentile implies that 50% of the ages of patients are  54 whilst the 75th percentile indicates that 75% of the total ages of patients are above 60 years and the max highlights the maximum age of patient being  77.\n",
        "\n",
        "* RestingBP:\n",
        "- There are no missing values in the RestingBP feature because it count is equal to the total entries in the data.\n",
        "-  However, the mean gives us the average RestingBP of the patient to be 132.The std of this feature is 18 and it indicates that the RestingBp values are moderately spread around the mean.\n",
        "-  The minimum RestingBp is 0 whereas the 25th percentile indicates that 25% of the RestingBp values are below 120.\n",
        "-  Again the 50th percentile shows that 50% of the RestingBp values are below 130 while the 75th percentile implies that 75% of RestingBp values are above 140.\n",
        "-  The maximum RestingBp value is 200 and Per this statistics the 0 minimum value will be crossedchecked since it medically not right for a patient to have 0 RestingBP. This could be an anormaly.\n",
        "\n",
        "* Cholesterol:\n",
        "- There are 918 entries meaning there are no missing values in the Cholesterol feature. The mean giving us the average Cholesterol value of the patient to be 198.\n",
        "- Also the std of 109.3 indicates that the Cholesterol levels are not clustered around the mean but rather spread out.\n",
        "- We have the minimum value to be 0 and the 25th percentile value of 173 which implies that 25% of the cholesterol levels are below 173.\n",
        "- Again the 50th percentile indicates that 50% of the Cholesterol level are above 223 whereas the 75th percentile indicates that 75% of the Cholesterol level are above 267.\n",
        "- The maximum Cholesterol level is 603. With this summary, the 0 minimum value would be crossedchecked since it is medically not feasible for a patient to have 0 cholesterol level meaning this could be an anormaly.  \n",
        "\n",
        "* FastingBS:\n",
        "- This feature contains only two variable either one or zero. With no missing values in the FastingBS feature, the count amounts to 918 entries.\n",
        "\n",
        "- It has a mean of 0.2 and a std of 0.4. The min value of FastingBS is 0 whereas that of 25th, 50th and 75th percentile ranges are all 0. It has it maximum number to be 1.\n",
        "\n",
        "* MaxHR:\n",
        "- This feature also has no missing values meaning the counts for the entries are 918. Also the mean gives the average value of MaxHR of the patients to be 136.8.\n",
        "- The std shows us how far or close the MaxHR values are to the mean and with a std of 25.4, it indicates that the MaxHR values are moderately spread around the mean (136.8).\n",
        "- The minimum MaxHR is 60 while the 25th percentile indicates that 25% of the MaxHR values are below 120.\n",
        "- Again,the 50th percentile shows that 50% of the MaxHR values are below 138 and the 75th percentile implies that 75% of MaxHR values are above 156 while the maximum MaxHR value is 202.\n",
        "- Due to how the minimum MaxHR value(60) and maximum MaxHR(202) are spread far apart from the mean(136.8), we can conclude that there are outliers(extreme values) in the MaxHR Feature.  \n",
        "\n",
        "* Oldpeak:\n",
        "- There are no missing values in the Oldpeak feature. However, the mean gives use the average Oldpeak of patient which is 0.88 and the std help us determine how far or close the Oldpeak of patients are to the mean.\n",
        "- With a std of 1.0, it show that the Oldpeak of patients are spread moderately. The minimum age of patients is -2.6 whereas the 25th percentile indicates that 25% of the patient had Oldpeak  below  0.\n",
        "- Also the 50th percentile implies that 50% of the Oldpeak of patients is 0.6 whiles the 75th percentile indicates that 75% of the total Oldpeak of patients are above 1.5. The max highlights the maximum Oldpeak of patient being 6.2.\n",
        "- Due to how the minimum Oldpeak value(-2.6) and Oldpeak MaxHR(6.2) are spread far from the mean(0.88), we can conclude that there are outliers(extreme values) in the Oldpeak Feature.\n",
        "\n",
        "\n",
        "* HeartDisease:\n",
        "- This feature contains only two variables either one or zero.The count of entries in the HeartDisease feature is 918 entries which means there are no missing values in the HeartDisease feature.\n",
        "- It has a mean of 0.5 and a std of 0.4. The min value of HeartDisease is 0 whereas the 25th percentile is 0. This HeartDisease feature has it 50th and 75th percentile range as well as it Max value to be 1.\n",
        "\n",
        "    "
      ]
    },
    {
      "cell_type": "markdown",
      "id": "a938aaa8-9fd7-40e1-8f07-1f2d071d2703",
      "metadata": {
        "id": "a938aaa8-9fd7-40e1-8f07-1f2d071d2703"
      },
      "source": [
        "Checking for inconsistencies in that and deciding on how to get them cleaned."
      ]
    },
    {
      "cell_type": "code",
      "execution_count": null,
      "id": "906903a2-e21d-42e2-a1b7-670b1c15dcb9",
      "metadata": {
        "id": "906903a2-e21d-42e2-a1b7-670b1c15dcb9",
        "outputId": "92b1a512-5e99-4e6b-d244-4f6dd9962966"
      },
      "outputs": [
        {
          "data": {
            "text/plain": [
              "Age               0\n",
              "Sex               0\n",
              "ChestPainType     0\n",
              "RestingBP         0\n",
              "Cholesterol       0\n",
              "FastingBS         0\n",
              "RestingECG        0\n",
              "MaxHR             0\n",
              "ExerciseAngina    0\n",
              "Oldpeak           0\n",
              "ST_Slope          0\n",
              "HeartDisease      0\n",
              "dtype: int64"
            ]
          },
          "execution_count": 754,
          "metadata": {},
          "output_type": "execute_result"
        }
      ],
      "source": [
        "# Checking for missing values in the data.\n",
        "proj.isnull().sum()"
      ]
    },
    {
      "cell_type": "markdown",
      "id": "006ab8c5-f925-4d93-9029-f2dbfab33568",
      "metadata": {
        "id": "006ab8c5-f925-4d93-9029-f2dbfab33568"
      },
      "source": [
        "There are no missing values in the enitre data."
      ]
    },
    {
      "cell_type": "code",
      "execution_count": null,
      "id": "c276588c-c61b-4483-8ad2-cfe43076cc56",
      "metadata": {
        "id": "c276588c-c61b-4483-8ad2-cfe43076cc56",
        "outputId": "6c425980-35a9-4ec4-e200-f4299f1d6f95"
      },
      "outputs": [
        {
          "data": {
            "text/plain": [
              "0"
            ]
          },
          "execution_count": 755,
          "metadata": {},
          "output_type": "execute_result"
        }
      ],
      "source": [
        "# Checking for duplicates\n",
        "proj.duplicated().sum()"
      ]
    },
    {
      "cell_type": "markdown",
      "id": "89714001-1d35-4f84-aed1-aeac53bc2d38",
      "metadata": {
        "id": "89714001-1d35-4f84-aed1-aeac53bc2d38"
      },
      "source": [
        "working on outliers from MaxHR and Oldpeak"
      ]
    },
    {
      "cell_type": "markdown",
      "id": "2e85a333-9aff-423d-93e3-d29310ebd1bc",
      "metadata": {
        "id": "2e85a333-9aff-423d-93e3-d29310ebd1bc"
      },
      "source": [
        "MaxHR: maximum heart rate, which is the highest number of times your heart can beat per minute during intense physical activity. Per the description of the data the Numeric value of our maxhr should be between 60 and 202."
      ]
    },
    {
      "cell_type": "code",
      "execution_count": null,
      "id": "46fbfe5c-c376-43c3-8765-c5fc3a0b545a",
      "metadata": {
        "id": "46fbfe5c-c376-43c3-8765-c5fc3a0b545a",
        "outputId": "2c1b9696-20e3-47c1-f5a8-2f9b9b3e8e20"
      },
      "outputs": [
        {
          "data": {
            "text/plain": [
              "MaxHR\n",
              "150    43\n",
              "140    41\n",
              "120    36\n",
              "130    33\n",
              "160    25\n",
              "       ..\n",
              "63      1\n",
              "83      1\n",
              "60      1\n",
              "78      1\n",
              "202     1\n",
              "Name: count, Length: 119, dtype: int64"
            ]
          },
          "execution_count": 756,
          "metadata": {},
          "output_type": "execute_result"
        }
      ],
      "source": [
        "#checking for number of entries\n",
        "proj['MaxHR'].value_counts()"
      ]
    },
    {
      "cell_type": "code",
      "execution_count": null,
      "id": "5ec04c8f-4017-4f71-87c4-4d690d9475e7",
      "metadata": {
        "id": "5ec04c8f-4017-4f71-87c4-4d690d9475e7",
        "outputId": "8f8d17ec-bec5-4d1d-9e75-b06567e83441"
      },
      "outputs": [
        {
          "data": {
            "text/plain": [
              "array([172, 156,  98, 108, 122, 170, 142, 130, 120,  99, 145, 140, 137,\n",
              "       150, 166, 165, 125, 160, 164, 138, 178, 112, 118, 127, 114, 154,\n",
              "       155,  87, 148, 100, 168, 184, 121, 153, 134,  96, 174, 175, 144,\n",
              "        82, 135, 115, 128, 116,  94, 110,  92, 180, 152, 124, 106, 185,\n",
              "       139, 190, 146, 158, 132, 176, 119, 188, 162, 105,  90, 136, 167,\n",
              "       129, 102, 143, 103,  91, 126,  93, 131, 149, 123, 182, 141,  77,\n",
              "       109, 133, 179, 113, 104,  95,  72,  97, 117,  86,  63, 157,  83,\n",
              "        60,  70, 163,  67,  78,  84, 111,  80, 107, 161,  69,  88,  73,\n",
              "       159, 151, 181, 186, 177, 173, 169, 171, 147,  71, 192, 195, 194,\n",
              "       187, 202], dtype=int64)"
            ]
          },
          "execution_count": 757,
          "metadata": {},
          "output_type": "execute_result"
        }
      ],
      "source": [
        "#outputing to see if there are strenge entries\n",
        "proj['MaxHR'].unique()"
      ]
    },
    {
      "cell_type": "markdown",
      "id": "e60298cc-830e-465b-bb77-088a15fa55ea",
      "metadata": {
        "id": "e60298cc-830e-465b-bb77-088a15fa55ea"
      },
      "source": [
        "Per the 2 output above we can say that the outliers arent really errors or wrong entries but rather the true reprensentation of the figures that were entered since all our entries fall within the range of our MaxHR and to maintain the intergrity of ur data we wouldn't remove any values.    "
      ]
    },
    {
      "cell_type": "markdown",
      "id": "2db89f67-4488-4e07-bb44-95787d403c40",
      "metadata": {
        "id": "2db89f67-4488-4e07-bb44-95787d403c40"
      },
      "source": [
        "Oldpeak:refers to the ST depression induced by exercise relative to rest."
      ]
    },
    {
      "cell_type": "code",
      "execution_count": null,
      "id": "6cbfbb58-6178-43d6-84c9-68c4d74c9d09",
      "metadata": {
        "id": "6cbfbb58-6178-43d6-84c9-68c4d74c9d09",
        "outputId": "8ff78c9c-e254-423c-93ba-c21727dc1c64"
      },
      "outputs": [
        {
          "data": {
            "text/plain": [
              "Oldpeak\n",
              " 0.0    368\n",
              " 1.0     86\n",
              " 2.0     76\n",
              " 1.5     53\n",
              " 3.0     28\n",
              " 1.2     26\n",
              " 0.2     22\n",
              " 0.5     19\n",
              " 1.4     18\n",
              " 1.8     17\n",
              " 2.5     16\n",
              " 0.8     16\n",
              " 1.6     16\n",
              " 0.1     14\n",
              " 0.6     14\n",
              " 0.4     11\n",
              " 0.3     11\n",
              " 4.0      8\n",
              " 0.7      7\n",
              " 2.8      7\n",
              " 1.9      7\n",
              " 1.3      7\n",
              " 2.6      7\n",
              " 1.1      7\n",
              " 1.7      6\n",
              " 2.2      5\n",
              " 0.9      4\n",
              " 2.4      4\n",
              " 3.6      4\n",
              " 3.4      3\n",
              " 4.2      2\n",
              " 3.5      2\n",
              "-0.5      2\n",
              " 2.3      2\n",
              " 3.2      2\n",
              " 2.1      2\n",
              "-1.0      2\n",
              "-0.1      2\n",
              " 5.6      1\n",
              " 2.9      1\n",
              " 6.2      1\n",
              " 3.8      1\n",
              "-1.5      1\n",
              " 3.1      1\n",
              "-2.0      1\n",
              " 3.7      1\n",
              "-0.8      1\n",
              "-0.7      1\n",
              "-1.1      1\n",
              "-2.6      1\n",
              "-0.9      1\n",
              " 5.0      1\n",
              " 4.4      1\n",
              "Name: count, dtype: int64"
            ]
          },
          "execution_count": 758,
          "metadata": {},
          "output_type": "execute_result"
        }
      ],
      "source": [
        "#checking the total entry\n",
        "proj['Oldpeak'].value_counts()"
      ]
    },
    {
      "cell_type": "code",
      "execution_count": null,
      "id": "01a7a32d-2f06-46e9-80a3-bcd544b9c5cf",
      "metadata": {
        "id": "01a7a32d-2f06-46e9-80a3-bcd544b9c5cf",
        "outputId": "66a107d6-bbf1-4ff2-dabb-80ea81dfe94f"
      },
      "outputs": [
        {
          "data": {
            "text/plain": [
              "array([ 0. ,  1. ,  1.5,  2. ,  3. ,  4. ,  0.5,  2.5,  5. ,  0.8,  0.7,\n",
              "        1.4,  2.1,  0.4,  0.2,  1.7,  2.2,  0.1,  1.6,  1.3,  0.3,  1.8,\n",
              "        2.6, -0.9,  2.8, -2.6, -1.5, -0.1,  0.9,  1.1,  2.4, -1. , -1.1,\n",
              "       -0.7, -0.8,  3.7,  1.2, -0.5, -2. ,  1.9,  3.5,  0.6,  3.1,  2.3,\n",
              "        3.4,  3.6,  4.2,  3.2,  5.6,  3.8,  2.9,  6.2,  4.4])"
            ]
          },
          "execution_count": 759,
          "metadata": {},
          "output_type": "execute_result"
        }
      ],
      "source": [
        "#finding unique entries\n",
        "proj['Oldpeak'].unique()"
      ]
    },
    {
      "cell_type": "markdown",
      "id": "5ef01b3f-40ab-4665-9cf6-12941f4f2668",
      "metadata": {
        "id": "5ef01b3f-40ab-4665-9cf6-12941f4f2668"
      },
      "source": [
        "Per the above outputs we can see the presence of negative values in the Oldpeak feature.this values will be treated as outliers in our case this is because doctors typically focus on positive Oldpeak values (ST depression) when assessing coronary artery diseases.Although there are rare cases where patient have negative Oldpeak value indicating a rare type of heart disease which is not the focus of our work.there are many options or ways to hundle outliers which includes replacing them with mean,mode,median or removing them. we will be replacing them with the median.  "
      ]
    },
    {
      "cell_type": "code",
      "execution_count": null,
      "id": "7c3d2824-2f9b-40d1-b676-c3af6aeaaf0b",
      "metadata": {
        "id": "7c3d2824-2f9b-40d1-b676-c3af6aeaaf0b"
      },
      "outputs": [],
      "source": [
        "#finding the median of the positive values\n",
        "oldme=proj[proj['Oldpeak'] >= 0]['Oldpeak'].median()"
      ]
    },
    {
      "cell_type": "code",
      "execution_count": null,
      "id": "321800b9-3921-41c2-97dd-18372652eed7",
      "metadata": {
        "id": "321800b9-3921-41c2-97dd-18372652eed7",
        "outputId": "cc668106-dfc7-44e1-898c-1c2f58f3ed61"
      },
      "outputs": [
        {
          "data": {
            "text/html": [
              "<div>\n",
              "<style scoped>\n",
              "    .dataframe tbody tr th:only-of-type {\n",
              "        vertical-align: middle;\n",
              "    }\n",
              "\n",
              "    .dataframe tbody tr th {\n",
              "        vertical-align: top;\n",
              "    }\n",
              "\n",
              "    .dataframe thead th {\n",
              "        text-align: right;\n",
              "    }\n",
              "</style>\n",
              "<table border=\"1\" class=\"dataframe\">\n",
              "  <thead>\n",
              "    <tr style=\"text-align: right;\">\n",
              "      <th></th>\n",
              "      <th>Age</th>\n",
              "      <th>Sex</th>\n",
              "      <th>ChestPainType</th>\n",
              "      <th>RestingBP</th>\n",
              "      <th>Cholesterol</th>\n",
              "      <th>FastingBS</th>\n",
              "      <th>RestingECG</th>\n",
              "      <th>MaxHR</th>\n",
              "      <th>ExerciseAngina</th>\n",
              "      <th>Oldpeak</th>\n",
              "      <th>ST_Slope</th>\n",
              "      <th>HeartDisease</th>\n",
              "    </tr>\n",
              "  </thead>\n",
              "  <tbody>\n",
              "    <tr>\n",
              "      <th>321</th>\n",
              "      <td>63</td>\n",
              "      <td>M</td>\n",
              "      <td>ASY</td>\n",
              "      <td>100</td>\n",
              "      <td>0</td>\n",
              "      <td>1</td>\n",
              "      <td>Normal</td>\n",
              "      <td>109</td>\n",
              "      <td>N</td>\n",
              "      <td>-0.9</td>\n",
              "      <td>Flat</td>\n",
              "      <td>1</td>\n",
              "    </tr>\n",
              "    <tr>\n",
              "      <th>324</th>\n",
              "      <td>46</td>\n",
              "      <td>M</td>\n",
              "      <td>ASY</td>\n",
              "      <td>100</td>\n",
              "      <td>0</td>\n",
              "      <td>1</td>\n",
              "      <td>ST</td>\n",
              "      <td>133</td>\n",
              "      <td>N</td>\n",
              "      <td>-2.6</td>\n",
              "      <td>Flat</td>\n",
              "      <td>1</td>\n",
              "    </tr>\n",
              "    <tr>\n",
              "      <th>325</th>\n",
              "      <td>42</td>\n",
              "      <td>M</td>\n",
              "      <td>ASY</td>\n",
              "      <td>105</td>\n",
              "      <td>0</td>\n",
              "      <td>1</td>\n",
              "      <td>Normal</td>\n",
              "      <td>128</td>\n",
              "      <td>Y</td>\n",
              "      <td>-1.5</td>\n",
              "      <td>Down</td>\n",
              "      <td>1</td>\n",
              "    </tr>\n",
              "    <tr>\n",
              "      <th>326</th>\n",
              "      <td>45</td>\n",
              "      <td>M</td>\n",
              "      <td>NAP</td>\n",
              "      <td>110</td>\n",
              "      <td>0</td>\n",
              "      <td>0</td>\n",
              "      <td>Normal</td>\n",
              "      <td>138</td>\n",
              "      <td>N</td>\n",
              "      <td>-0.1</td>\n",
              "      <td>Up</td>\n",
              "      <td>0</td>\n",
              "    </tr>\n",
              "    <tr>\n",
              "      <th>331</th>\n",
              "      <td>56</td>\n",
              "      <td>M</td>\n",
              "      <td>ASY</td>\n",
              "      <td>115</td>\n",
              "      <td>0</td>\n",
              "      <td>1</td>\n",
              "      <td>ST</td>\n",
              "      <td>82</td>\n",
              "      <td>N</td>\n",
              "      <td>-1.0</td>\n",
              "      <td>Up</td>\n",
              "      <td>1</td>\n",
              "    </tr>\n",
              "    <tr>\n",
              "      <th>332</th>\n",
              "      <td>38</td>\n",
              "      <td>M</td>\n",
              "      <td>NAP</td>\n",
              "      <td>100</td>\n",
              "      <td>0</td>\n",
              "      <td>0</td>\n",
              "      <td>Normal</td>\n",
              "      <td>179</td>\n",
              "      <td>N</td>\n",
              "      <td>-1.1</td>\n",
              "      <td>Up</td>\n",
              "      <td>0</td>\n",
              "    </tr>\n",
              "    <tr>\n",
              "      <th>334</th>\n",
              "      <td>51</td>\n",
              "      <td>M</td>\n",
              "      <td>ASY</td>\n",
              "      <td>130</td>\n",
              "      <td>0</td>\n",
              "      <td>1</td>\n",
              "      <td>Normal</td>\n",
              "      <td>170</td>\n",
              "      <td>N</td>\n",
              "      <td>-0.7</td>\n",
              "      <td>Up</td>\n",
              "      <td>1</td>\n",
              "    </tr>\n",
              "    <tr>\n",
              "      <th>335</th>\n",
              "      <td>62</td>\n",
              "      <td>M</td>\n",
              "      <td>TA</td>\n",
              "      <td>120</td>\n",
              "      <td>0</td>\n",
              "      <td>1</td>\n",
              "      <td>LVH</td>\n",
              "      <td>134</td>\n",
              "      <td>N</td>\n",
              "      <td>-0.8</td>\n",
              "      <td>Flat</td>\n",
              "      <td>1</td>\n",
              "    </tr>\n",
              "    <tr>\n",
              "      <th>352</th>\n",
              "      <td>56</td>\n",
              "      <td>M</td>\n",
              "      <td>ASY</td>\n",
              "      <td>120</td>\n",
              "      <td>0</td>\n",
              "      <td>0</td>\n",
              "      <td>ST</td>\n",
              "      <td>100</td>\n",
              "      <td>Y</td>\n",
              "      <td>-1.0</td>\n",
              "      <td>Down</td>\n",
              "      <td>1</td>\n",
              "    </tr>\n",
              "    <tr>\n",
              "      <th>407</th>\n",
              "      <td>62</td>\n",
              "      <td>M</td>\n",
              "      <td>ASY</td>\n",
              "      <td>115</td>\n",
              "      <td>0</td>\n",
              "      <td>1</td>\n",
              "      <td>Normal</td>\n",
              "      <td>72</td>\n",
              "      <td>Y</td>\n",
              "      <td>-0.5</td>\n",
              "      <td>Flat</td>\n",
              "      <td>1</td>\n",
              "    </tr>\n",
              "    <tr>\n",
              "      <th>413</th>\n",
              "      <td>56</td>\n",
              "      <td>M</td>\n",
              "      <td>NAP</td>\n",
              "      <td>125</td>\n",
              "      <td>0</td>\n",
              "      <td>1</td>\n",
              "      <td>Normal</td>\n",
              "      <td>98</td>\n",
              "      <td>N</td>\n",
              "      <td>-2.0</td>\n",
              "      <td>Flat</td>\n",
              "      <td>1</td>\n",
              "    </tr>\n",
              "    <tr>\n",
              "      <th>421</th>\n",
              "      <td>66</td>\n",
              "      <td>M</td>\n",
              "      <td>NAP</td>\n",
              "      <td>120</td>\n",
              "      <td>0</td>\n",
              "      <td>0</td>\n",
              "      <td>ST</td>\n",
              "      <td>120</td>\n",
              "      <td>N</td>\n",
              "      <td>-0.5</td>\n",
              "      <td>Up</td>\n",
              "      <td>0</td>\n",
              "    </tr>\n",
              "    <tr>\n",
              "      <th>512</th>\n",
              "      <td>35</td>\n",
              "      <td>M</td>\n",
              "      <td>NAP</td>\n",
              "      <td>123</td>\n",
              "      <td>161</td>\n",
              "      <td>0</td>\n",
              "      <td>ST</td>\n",
              "      <td>153</td>\n",
              "      <td>N</td>\n",
              "      <td>-0.1</td>\n",
              "      <td>Up</td>\n",
              "      <td>0</td>\n",
              "    </tr>\n",
              "  </tbody>\n",
              "</table>\n",
              "</div>"
            ],
            "text/plain": [
              "     Age Sex ChestPainType  RestingBP  Cholesterol  FastingBS RestingECG  \\\n",
              "321   63   M           ASY        100            0          1     Normal   \n",
              "324   46   M           ASY        100            0          1         ST   \n",
              "325   42   M           ASY        105            0          1     Normal   \n",
              "326   45   M           NAP        110            0          0     Normal   \n",
              "331   56   M           ASY        115            0          1         ST   \n",
              "332   38   M           NAP        100            0          0     Normal   \n",
              "334   51   M           ASY        130            0          1     Normal   \n",
              "335   62   M            TA        120            0          1        LVH   \n",
              "352   56   M           ASY        120            0          0         ST   \n",
              "407   62   M           ASY        115            0          1     Normal   \n",
              "413   56   M           NAP        125            0          1     Normal   \n",
              "421   66   M           NAP        120            0          0         ST   \n",
              "512   35   M           NAP        123          161          0         ST   \n",
              "\n",
              "     MaxHR ExerciseAngina  Oldpeak ST_Slope  HeartDisease  \n",
              "321    109              N     -0.9     Flat             1  \n",
              "324    133              N     -2.6     Flat             1  \n",
              "325    128              Y     -1.5     Down             1  \n",
              "326    138              N     -0.1       Up             0  \n",
              "331     82              N     -1.0       Up             1  \n",
              "332    179              N     -1.1       Up             0  \n",
              "334    170              N     -0.7       Up             1  \n",
              "335    134              N     -0.8     Flat             1  \n",
              "352    100              Y     -1.0     Down             1  \n",
              "407     72              Y     -0.5     Flat             1  \n",
              "413     98              N     -2.0     Flat             1  \n",
              "421    120              N     -0.5       Up             0  \n",
              "512    153              N     -0.1       Up             0  "
            ]
          },
          "execution_count": 761,
          "metadata": {},
          "output_type": "execute_result"
        }
      ],
      "source": [
        "proj[proj['Oldpeak'] < 0]"
      ]
    },
    {
      "cell_type": "code",
      "execution_count": null,
      "id": "78f9b7ae-be35-47a7-9eb9-7a8e2751931c",
      "metadata": {
        "id": "78f9b7ae-be35-47a7-9eb9-7a8e2751931c"
      },
      "outputs": [],
      "source": [
        "# Replace negative values with the median\n",
        "proj.loc[proj['Oldpeak'] < 0, 'Oldpeak']=oldme"
      ]
    },
    {
      "cell_type": "markdown",
      "id": "da92adf0-fe10-433c-902b-ba9fc27e83ad",
      "metadata": {
        "id": "da92adf0-fe10-433c-902b-ba9fc27e83ad"
      },
      "source": [
        "Let handle Cholesterol and RestingBp as there is an anormally in those features"
      ]
    },
    {
      "cell_type": "markdown",
      "id": "bb04e737-047c-4d3d-9258-7b0e7d942352",
      "metadata": {
        "id": "bb04e737-047c-4d3d-9258-7b0e7d942352"
      },
      "source": [
        "Cholesterol Anormaly\n",
        "what is Cholesterol in the first place:it is fat-like substance found in your blood and is essential for building healthy cells and making hormones"
      ]
    },
    {
      "cell_type": "code",
      "execution_count": null,
      "id": "1b40993d-c7a4-4288-aa0a-c0e58e0981b0",
      "metadata": {
        "id": "1b40993d-c7a4-4288-aa0a-c0e58e0981b0",
        "outputId": "46228c00-1c26-43f4-8b7c-105a655452c3"
      },
      "outputs": [
        {
          "data": {
            "image/png": "[encoded data removed]",
            "text/plain": [
              "<Figure size 640x480 with 1 Axes>"
            ]
          },
          "metadata": {},
          "output_type": "display_data"
        }
      ],
      "source": [
        "#visualizing the cholesterol levels in our dataset\n",
        "plt.hist(proj['Cholesterol'], bins=20,color='gold',edgecolor='black')\n",
        "plt.xlabel('Cholesterol')\n",
        "plt.ylabel('frequency')\n",
        "plt.title('Distribution of Cholesterol in our dataset')\n",
        "plt.show()"
      ]
    },
    {
      "cell_type": "markdown",
      "id": "1b0f6027-0ba6-4376-826c-81d64e2df644",
      "metadata": {
        "id": "1b0f6027-0ba6-4376-826c-81d64e2df644"
      },
      "source": [
        "Per the above output, we realize that there are patient with 0 Cholesterol level which is not medically feasible. The 0 value could indicate that there were no entries made while gathering the patient data. In other to solve the 0 values issue, we will need to fill all those 0 values with the median of our cholesterol feature. We will be using the median value because of the presence of outliers in our cholesterol feature. The median is more robust to outliers and preserves the distribution of the data. However, the reason why we desided to fill the 0 values is because the 0 values sum up to 172 entries in our dataset which is equivalent to  18% of our data. So filling it with the median is the best option.      "
      ]
    },
    {
      "cell_type": "code",
      "execution_count": null,
      "id": "e43f580b-de8e-4132-b118-460548056ba7",
      "metadata": {
        "id": "e43f580b-de8e-4132-b118-460548056ba7"
      },
      "outputs": [],
      "source": [
        "# Using the median to fill the 0 values in our cholesterol feature\n",
        "proj.loc[proj['Cholesterol']==0,'Cholesterol']=proj['Cholesterol'].median()\n"
      ]
    },
    {
      "cell_type": "code",
      "execution_count": null,
      "id": "7c0a08a7-6240-46ae-b29b-9c979899afda",
      "metadata": {
        "id": "7c0a08a7-6240-46ae-b29b-9c979899afda",
        "outputId": "76d93098-7ca1-45e1-eb4f-b8ea03ee463f"
      },
      "outputs": [
        {
          "data": {
            "text/plain": [
              "Cholesterol\n",
              "223    182\n",
              "254     11\n",
              "220     10\n",
              "216      9\n",
              "230      9\n",
              "      ... \n",
              "347      1\n",
              "365      1\n",
              "412      1\n",
              "491      1\n",
              "131      1\n",
              "Name: count, Length: 221, dtype: int64"
            ]
          },
          "execution_count": 765,
          "metadata": {},
          "output_type": "execute_result"
        }
      ],
      "source": [
        "# Checking the cholesterol feature after filling it with the median\n",
        "proj['Cholesterol'].value_counts()"
      ]
    },
    {
      "cell_type": "markdown",
      "id": "e310e060-50a9-4fa4-9ab5-e3957ee31c2c",
      "metadata": {
        "id": "e310e060-50a9-4fa4-9ab5-e3957ee31c2c"
      },
      "source": [
        "RestingBp Anormaly\n",
        "RestinBp:refers to the blood pressure measured while a person is at rest, usually seated and relaxed"
      ]
    },
    {
      "cell_type": "code",
      "execution_count": null,
      "id": "dbb8fc34-c47f-4165-8896-f10447548572",
      "metadata": {
        "id": "dbb8fc34-c47f-4165-8896-f10447548572",
        "outputId": "69c046e8-a552-47be-fc55-56197c254447"
      },
      "outputs": [
        {
          "data": {
            "text/plain": [
              "0      140\n",
              "1      160\n",
              "2      130\n",
              "3      138\n",
              "4      150\n",
              "      ... \n",
              "913    110\n",
              "914    144\n",
              "915    130\n",
              "916    130\n",
              "917    138\n",
              "Name: RestingBP, Length: 918, dtype: int64"
            ]
          },
          "execution_count": 766,
          "metadata": {},
          "output_type": "execute_result"
        }
      ],
      "source": [
        "# Outputing the RestingBP feature.\n",
        "proj['RestingBP']"
      ]
    },
    {
      "cell_type": "code",
      "execution_count": null,
      "id": "f5d0c06d-e409-4da9-a7f7-f49bae36e494",
      "metadata": {
        "id": "f5d0c06d-e409-4da9-a7f7-f49bae36e494",
        "outputId": "8c5da81e-b35e-4906-8dd3-0e9dc2b5db2d"
      },
      "outputs": [
        {
          "data": {
            "text/html": [
              "<div>\n",
              "<style scoped>\n",
              "    .dataframe tbody tr th:only-of-type {\n",
              "        vertical-align: middle;\n",
              "    }\n",
              "\n",
              "    .dataframe tbody tr th {\n",
              "        vertical-align: top;\n",
              "    }\n",
              "\n",
              "    .dataframe thead th {\n",
              "        text-align: right;\n",
              "    }\n",
              "</style>\n",
              "<table border=\"1\" class=\"dataframe\">\n",
              "  <thead>\n",
              "    <tr style=\"text-align: right;\">\n",
              "      <th></th>\n",
              "      <th>Age</th>\n",
              "      <th>Sex</th>\n",
              "      <th>ChestPainType</th>\n",
              "      <th>RestingBP</th>\n",
              "      <th>Cholesterol</th>\n",
              "      <th>FastingBS</th>\n",
              "      <th>RestingECG</th>\n",
              "      <th>MaxHR</th>\n",
              "      <th>ExerciseAngina</th>\n",
              "      <th>Oldpeak</th>\n",
              "      <th>ST_Slope</th>\n",
              "      <th>HeartDisease</th>\n",
              "    </tr>\n",
              "  </thead>\n",
              "  <tbody>\n",
              "    <tr>\n",
              "      <th>449</th>\n",
              "      <td>55</td>\n",
              "      <td>M</td>\n",
              "      <td>NAP</td>\n",
              "      <td>0</td>\n",
              "      <td>223</td>\n",
              "      <td>0</td>\n",
              "      <td>Normal</td>\n",
              "      <td>155</td>\n",
              "      <td>N</td>\n",
              "      <td>1.5</td>\n",
              "      <td>Flat</td>\n",
              "      <td>1</td>\n",
              "    </tr>\n",
              "  </tbody>\n",
              "</table>\n",
              "</div>"
            ],
            "text/plain": [
              "     Age Sex ChestPainType  RestingBP  Cholesterol  FastingBS RestingECG  \\\n",
              "449   55   M           NAP          0          223          0     Normal   \n",
              "\n",
              "     MaxHR ExerciseAngina  Oldpeak ST_Slope  HeartDisease  \n",
              "449    155              N      1.5     Flat             1  "
            ]
          },
          "execution_count": 767,
          "metadata": {},
          "output_type": "execute_result"
        }
      ],
      "source": [
        "# Checking the zero value in the RestingBP feature.\n",
        "proj[proj['RestingBP']==0]"
      ]
    },
    {
      "cell_type": "code",
      "execution_count": null,
      "id": "4d363140-0c92-4da7-96e7-43549490c819",
      "metadata": {
        "id": "4d363140-0c92-4da7-96e7-43549490c819",
        "outputId": "aed2c27f-e3f7-49cb-e47c-1e72b189d46b"
      },
      "outputs": [
        {
          "data": {
            "image/png": "[encoded data removed]",
            "text/plain": [
              "<Figure size 640x480 with 1 Axes>"
            ]
          },
          "metadata": {},
          "output_type": "display_data"
        }
      ],
      "source": [
        "# Visualizing the cholesterol levels in our dataset\n",
        "plt.hist(proj['RestingBP'], bins=20,color='red',edgecolor='black')\n",
        "plt.xlabel('RestingBP')\n",
        "plt.ylabel('frequency')\n",
        "plt.title('Distribution of RestingBp in our dataset')\n",
        "plt.show()"
      ]
    },
    {
      "cell_type": "markdown",
      "id": "7bd40226-69f6-45b3-abba-7d632ca56657",
      "metadata": {
        "id": "7bd40226-69f6-45b3-abba-7d632ca56657"
      },
      "source": [
        "Per the above output, we can see that the zero anomaly in the RestingBp feature is only 1 which wouldn't affect our analysis but it is best to clear the anomaly.         "
      ]
    },
    {
      "cell_type": "code",
      "execution_count": null,
      "id": "c323ab9a-6807-42fd-b374-075662e2054e",
      "metadata": {
        "id": "c323ab9a-6807-42fd-b374-075662e2054e"
      },
      "outputs": [],
      "source": [
        "# Using the median to fill the 0 values in our RestingBP feature\n",
        "proj.loc[proj['RestingBP']==0,'RestingBP']=proj['RestingBP'].median()"
      ]
    },
    {
      "cell_type": "code",
      "execution_count": null,
      "id": "6838fd4e-e17f-463d-acf5-0bfed11939f8",
      "metadata": {
        "id": "6838fd4e-e17f-463d-acf5-0bfed11939f8",
        "outputId": "8e40ebca-0330-4e50-e7ea-8a72a4b938d5"
      },
      "outputs": [
        {
          "data": {
            "text/plain": [
              "RestingBP\n",
              "120    132\n",
              "130    119\n",
              "140    107\n",
              "110     58\n",
              "150     55\n",
              "      ... \n",
              "185      1\n",
              "98       1\n",
              "92       1\n",
              "113      1\n",
              "164      1\n",
              "Name: count, Length: 66, dtype: int64"
            ]
          },
          "execution_count": 770,
          "metadata": {},
          "output_type": "execute_result"
        }
      ],
      "source": [
        "proj['RestingBP'].value_counts()"
      ]
    },
    {
      "cell_type": "markdown",
      "id": "e6cc42ab-89ed-4dcc-ad75-ed10895288d5",
      "metadata": {
        "id": "e6cc42ab-89ed-4dcc-ad75-ed10895288d5"
      },
      "source": [
        "Before we encode our catigorical viriable let us first make some insight from them first, with this we can drive more meaning or can better ralate to the features when making visualization."
      ]
    },
    {
      "cell_type": "code",
      "execution_count": null,
      "id": "6cce9332-185b-4eba-8d54-b060801858ba",
      "metadata": {
        "id": "6cce9332-185b-4eba-8d54-b060801858ba",
        "outputId": "82562ad8-5ddc-4b6a-de65-3aa8fbf171ba"
      },
      "outputs": [
        {
          "data": {
            "image/png": "[encoded data removed]",
            "text/plain": [
              "<Figure size 640x480 with 1 Axes>"
            ]
          },
          "metadata": {},
          "output_type": "display_data"
        }
      ],
      "source": [
        "# Using a count plot for the visualization of our label feature(HeartDisease)\n",
        "# '1' is presence of disease and '0' is abscence of disease\n",
        "sns.countplot(x ='HeartDisease', data =proj,hue='HeartDisease')\n",
        "plt.show()\n",
        "#proj['HeartDisease'].value_counts().plot(kind='countplot', autopct='%1.0f%%')"
      ]
    },
    {
      "cell_type": "markdown",
      "id": "81a446d5-e0ee-4968-9ad1-f54dbd578553",
      "metadata": {
        "id": "81a446d5-e0ee-4968-9ad1-f54dbd578553"
      },
      "source": [
        "The above chart gives an overview of the number of  patients with or without the heart disease, where '1' shows the presence of  heart disease and '0' represent the abscence of heart disease. The chart shows more patient having the heart disease.\n",
        "\n",
        "What could influence people contracting the heart disease? Let us get some more analysis and visualization done on the data to draw some inference."
      ]
    },
    {
      "cell_type": "markdown",
      "id": "8263613e-06ee-4ef6-9868-b61299af2ab4",
      "metadata": {
        "id": "8263613e-06ee-4ef6-9868-b61299af2ab4"
      },
      "source": [
        "Making insights from the Sex, Age and HeartDisease features in the data."
      ]
    },
    {
      "cell_type": "markdown",
      "id": "336e03bb-6a3a-4109-8525-5e10643133b6",
      "metadata": {
        "id": "336e03bb-6a3a-4109-8525-5e10643133b6"
      },
      "source": [
        "Let us make nsights on the Sex Feature."
      ]
    },
    {
      "cell_type": "code",
      "execution_count": null,
      "id": "0f650b80-a212-4e6c-adf3-02a6a71ef9a0",
      "metadata": {
        "id": "0f650b80-a212-4e6c-adf3-02a6a71ef9a0"
      },
      "outputs": [],
      "source": [
        "# Let us make some visualizations to understand the sex distributions in our dataset\n",
        "#Male distribution in the data\n",
        "male_dis =proj[proj.Sex =='M' ]\n",
        "\n",
        "# Female distribution in the data\n",
        "female_dis = proj[proj.Sex =='F']"
      ]
    },
    {
      "cell_type": "code",
      "execution_count": null,
      "id": "d8d7c4e8-58fa-4e69-97b4-b3cfc14b1124",
      "metadata": {
        "id": "d8d7c4e8-58fa-4e69-97b4-b3cfc14b1124",
        "outputId": "31ff94f7-baa9-4fc5-8291-ecf2b4dd6d55"
      },
      "outputs": [
        {
          "data": {
            "text/html": [
              "<div>\n",
              "<style scoped>\n",
              "    .dataframe tbody tr th:only-of-type {\n",
              "        vertical-align: middle;\n",
              "    }\n",
              "\n",
              "    .dataframe tbody tr th {\n",
              "        vertical-align: top;\n",
              "    }\n",
              "\n",
              "    .dataframe thead th {\n",
              "        text-align: right;\n",
              "    }\n",
              "</style>\n",
              "<table border=\"1\" class=\"dataframe\">\n",
              "  <thead>\n",
              "    <tr style=\"text-align: right;\">\n",
              "      <th></th>\n",
              "      <th>Age</th>\n",
              "      <th>Sex</th>\n",
              "      <th>ChestPainType</th>\n",
              "      <th>RestingBP</th>\n",
              "      <th>Cholesterol</th>\n",
              "      <th>FastingBS</th>\n",
              "      <th>RestingECG</th>\n",
              "      <th>MaxHR</th>\n",
              "      <th>ExerciseAngina</th>\n",
              "      <th>Oldpeak</th>\n",
              "      <th>ST_Slope</th>\n",
              "      <th>HeartDisease</th>\n",
              "    </tr>\n",
              "  </thead>\n",
              "  <tbody>\n",
              "    <tr>\n",
              "      <th>0</th>\n",
              "      <td>40</td>\n",
              "      <td>M</td>\n",
              "      <td>ATA</td>\n",
              "      <td>140</td>\n",
              "      <td>289</td>\n",
              "      <td>0</td>\n",
              "      <td>Normal</td>\n",
              "      <td>172</td>\n",
              "      <td>N</td>\n",
              "      <td>0.0</td>\n",
              "      <td>Up</td>\n",
              "      <td>0</td>\n",
              "    </tr>\n",
              "    <tr>\n",
              "      <th>2</th>\n",
              "      <td>37</td>\n",
              "      <td>M</td>\n",
              "      <td>ATA</td>\n",
              "      <td>130</td>\n",
              "      <td>283</td>\n",
              "      <td>0</td>\n",
              "      <td>ST</td>\n",
              "      <td>98</td>\n",
              "      <td>N</td>\n",
              "      <td>0.0</td>\n",
              "      <td>Up</td>\n",
              "      <td>0</td>\n",
              "    </tr>\n",
              "    <tr>\n",
              "      <th>4</th>\n",
              "      <td>54</td>\n",
              "      <td>M</td>\n",
              "      <td>NAP</td>\n",
              "      <td>150</td>\n",
              "      <td>195</td>\n",
              "      <td>0</td>\n",
              "      <td>Normal</td>\n",
              "      <td>122</td>\n",
              "      <td>N</td>\n",
              "      <td>0.0</td>\n",
              "      <td>Up</td>\n",
              "      <td>0</td>\n",
              "    </tr>\n",
              "    <tr>\n",
              "      <th>5</th>\n",
              "      <td>39</td>\n",
              "      <td>M</td>\n",
              "      <td>NAP</td>\n",
              "      <td>120</td>\n",
              "      <td>339</td>\n",
              "      <td>0</td>\n",
              "      <td>Normal</td>\n",
              "      <td>170</td>\n",
              "      <td>N</td>\n",
              "      <td>0.0</td>\n",
              "      <td>Up</td>\n",
              "      <td>0</td>\n",
              "    </tr>\n",
              "    <tr>\n",
              "      <th>7</th>\n",
              "      <td>54</td>\n",
              "      <td>M</td>\n",
              "      <td>ATA</td>\n",
              "      <td>110</td>\n",
              "      <td>208</td>\n",
              "      <td>0</td>\n",
              "      <td>Normal</td>\n",
              "      <td>142</td>\n",
              "      <td>N</td>\n",
              "      <td>0.0</td>\n",
              "      <td>Up</td>\n",
              "      <td>0</td>\n",
              "    </tr>\n",
              "  </tbody>\n",
              "</table>\n",
              "</div>"
            ],
            "text/plain": [
              "   Age Sex ChestPainType  RestingBP  Cholesterol  FastingBS RestingECG  MaxHR  \\\n",
              "0   40   M           ATA        140          289          0     Normal    172   \n",
              "2   37   M           ATA        130          283          0         ST     98   \n",
              "4   54   M           NAP        150          195          0     Normal    122   \n",
              "5   39   M           NAP        120          339          0     Normal    170   \n",
              "7   54   M           ATA        110          208          0     Normal    142   \n",
              "\n",
              "  ExerciseAngina  Oldpeak ST_Slope  HeartDisease  \n",
              "0              N      0.0       Up             0  \n",
              "2              N      0.0       Up             0  \n",
              "4              N      0.0       Up             0  \n",
              "5              N      0.0       Up             0  \n",
              "7              N      0.0       Up             0  "
            ]
          },
          "execution_count": 773,
          "metadata": {},
          "output_type": "execute_result"
        }
      ],
      "source": [
        "# Male distribution\n",
        "male_dis.head()"
      ]
    },
    {
      "cell_type": "code",
      "execution_count": null,
      "id": "8bbb7ada-c5e1-4d2d-a3b3-ea47beea2379",
      "metadata": {
        "id": "8bbb7ada-c5e1-4d2d-a3b3-ea47beea2379",
        "outputId": "adaa94cb-8553-4779-d3a5-0e157d953a37"
      },
      "outputs": [
        {
          "name": "stdout",
          "output_type": "stream",
          "text": [
            "There are 725 Men(male patient)\n"
          ]
        }
      ],
      "source": [
        "#Checking the entries of the male of patient in the data\n",
        "print('There are',len(male_dis),'Men(male patient)')"
      ]
    },
    {
      "cell_type": "code",
      "execution_count": null,
      "id": "91b62ff6-439d-4d7b-a01b-0848cce22688",
      "metadata": {
        "id": "91b62ff6-439d-4d7b-a01b-0848cce22688",
        "outputId": "a2ec43f4-c8eb-4e47-8eaf-957b73b9bc8f"
      },
      "outputs": [
        {
          "data": {
            "text/html": [
              "<div>\n",
              "<style scoped>\n",
              "    .dataframe tbody tr th:only-of-type {\n",
              "        vertical-align: middle;\n",
              "    }\n",
              "\n",
              "    .dataframe tbody tr th {\n",
              "        vertical-align: top;\n",
              "    }\n",
              "\n",
              "    .dataframe thead th {\n",
              "        text-align: right;\n",
              "    }\n",
              "</style>\n",
              "<table border=\"1\" class=\"dataframe\">\n",
              "  <thead>\n",
              "    <tr style=\"text-align: right;\">\n",
              "      <th></th>\n",
              "      <th>Age</th>\n",
              "      <th>Sex</th>\n",
              "      <th>ChestPainType</th>\n",
              "      <th>RestingBP</th>\n",
              "      <th>Cholesterol</th>\n",
              "      <th>FastingBS</th>\n",
              "      <th>RestingECG</th>\n",
              "      <th>MaxHR</th>\n",
              "      <th>ExerciseAngina</th>\n",
              "      <th>Oldpeak</th>\n",
              "      <th>ST_Slope</th>\n",
              "      <th>HeartDisease</th>\n",
              "    </tr>\n",
              "  </thead>\n",
              "  <tbody>\n",
              "    <tr>\n",
              "      <th>1</th>\n",
              "      <td>49</td>\n",
              "      <td>F</td>\n",
              "      <td>NAP</td>\n",
              "      <td>160</td>\n",
              "      <td>180</td>\n",
              "      <td>0</td>\n",
              "      <td>Normal</td>\n",
              "      <td>156</td>\n",
              "      <td>N</td>\n",
              "      <td>1.0</td>\n",
              "      <td>Flat</td>\n",
              "      <td>1</td>\n",
              "    </tr>\n",
              "    <tr>\n",
              "      <th>3</th>\n",
              "      <td>48</td>\n",
              "      <td>F</td>\n",
              "      <td>ASY</td>\n",
              "      <td>138</td>\n",
              "      <td>214</td>\n",
              "      <td>0</td>\n",
              "      <td>Normal</td>\n",
              "      <td>108</td>\n",
              "      <td>Y</td>\n",
              "      <td>1.5</td>\n",
              "      <td>Flat</td>\n",
              "      <td>1</td>\n",
              "    </tr>\n",
              "    <tr>\n",
              "      <th>6</th>\n",
              "      <td>45</td>\n",
              "      <td>F</td>\n",
              "      <td>ATA</td>\n",
              "      <td>130</td>\n",
              "      <td>237</td>\n",
              "      <td>0</td>\n",
              "      <td>Normal</td>\n",
              "      <td>170</td>\n",
              "      <td>N</td>\n",
              "      <td>0.0</td>\n",
              "      <td>Up</td>\n",
              "      <td>0</td>\n",
              "    </tr>\n",
              "    <tr>\n",
              "      <th>9</th>\n",
              "      <td>48</td>\n",
              "      <td>F</td>\n",
              "      <td>ATA</td>\n",
              "      <td>120</td>\n",
              "      <td>284</td>\n",
              "      <td>0</td>\n",
              "      <td>Normal</td>\n",
              "      <td>120</td>\n",
              "      <td>N</td>\n",
              "      <td>0.0</td>\n",
              "      <td>Up</td>\n",
              "      <td>0</td>\n",
              "    </tr>\n",
              "    <tr>\n",
              "      <th>10</th>\n",
              "      <td>37</td>\n",
              "      <td>F</td>\n",
              "      <td>NAP</td>\n",
              "      <td>130</td>\n",
              "      <td>211</td>\n",
              "      <td>0</td>\n",
              "      <td>Normal</td>\n",
              "      <td>142</td>\n",
              "      <td>N</td>\n",
              "      <td>0.0</td>\n",
              "      <td>Up</td>\n",
              "      <td>0</td>\n",
              "    </tr>\n",
              "  </tbody>\n",
              "</table>\n",
              "</div>"
            ],
            "text/plain": [
              "    Age Sex ChestPainType  RestingBP  Cholesterol  FastingBS RestingECG  \\\n",
              "1    49   F           NAP        160          180          0     Normal   \n",
              "3    48   F           ASY        138          214          0     Normal   \n",
              "6    45   F           ATA        130          237          0     Normal   \n",
              "9    48   F           ATA        120          284          0     Normal   \n",
              "10   37   F           NAP        130          211          0     Normal   \n",
              "\n",
              "    MaxHR ExerciseAngina  Oldpeak ST_Slope  HeartDisease  \n",
              "1     156              N      1.0     Flat             1  \n",
              "3     108              Y      1.5     Flat             1  \n",
              "6     170              N      0.0       Up             0  \n",
              "9     120              N      0.0       Up             0  \n",
              "10    142              N      0.0       Up             0  "
            ]
          },
          "execution_count": 775,
          "metadata": {},
          "output_type": "execute_result"
        }
      ],
      "source": [
        "# Female distribution\n",
        "female_dis.head()"
      ]
    },
    {
      "cell_type": "code",
      "execution_count": null,
      "id": "edd9ab8f-7eae-4988-8b38-06854667f09a",
      "metadata": {
        "id": "edd9ab8f-7eae-4988-8b38-06854667f09a",
        "outputId": "cf85cbcd-83eb-421d-a457-46a2e23a952a"
      },
      "outputs": [
        {
          "name": "stdout",
          "output_type": "stream",
          "text": [
            "There are 193 Female(Female patient)\n"
          ]
        }
      ],
      "source": [
        "#Checking the entries of the female of patient in the data\n",
        "print('There are',len(female_dis),'Female(Female patient)')"
      ]
    },
    {
      "cell_type": "code",
      "execution_count": null,
      "id": "0aeea13b-2640-4a70-8980-95101d7b66e6",
      "metadata": {
        "id": "0aeea13b-2640-4a70-8980-95101d7b66e6",
        "outputId": "71b978cd-68e5-460a-caf1-a6e8b267c0ff"
      },
      "outputs": [
        {
          "data": {
            "text/plain": [
              "49.89106753812636"
            ]
          },
          "execution_count": 777,
          "metadata": {},
          "output_type": "execute_result"
        }
      ],
      "source": [
        "# let us create a pie chart to visualize the percentage of males patient with heart disease and that of female patient with heart disease as well\n",
        "# Note that, computing the percentage of each shape will provide us with the count\n",
        "# Males with heart disease\n",
        "male_with_disease = male_dis[male_dis.HeartDisease ==1].shape[0]/proj.shape[0]*100\n",
        "male_with_disease"
      ]
    },
    {
      "cell_type": "markdown",
      "id": "8de9a1bc-31b4-4789-aa3c-13bc3241cefe",
      "metadata": {
        "id": "8de9a1bc-31b4-4789-aa3c-13bc3241cefe"
      },
      "source": [
        "About 49.89% male patients had the heart disease."
      ]
    },
    {
      "cell_type": "code",
      "execution_count": null,
      "id": "a8dde4cd-7252-4372-a1d2-b88b19d1ba8c",
      "metadata": {
        "id": "a8dde4cd-7252-4372-a1d2-b88b19d1ba8c",
        "outputId": "33dc0cf0-ac15-4a7b-9051-394e4c6e5f96"
      },
      "outputs": [
        {
          "data": {
            "text/plain": [
              "5.446623093681917"
            ]
          },
          "execution_count": 778,
          "metadata": {},
          "output_type": "execute_result"
        }
      ],
      "source": [
        "# Female with the disease\n",
        "female_with_disease = female_dis[female_dis.HeartDisease ==1].shape[0]/proj.shape[0]*100\n",
        "female_with_disease"
      ]
    },
    {
      "cell_type": "markdown",
      "id": "0cc663c2-df78-474b-820e-63faada50eb7",
      "metadata": {
        "id": "0cc663c2-df78-474b-820e-63faada50eb7"
      },
      "source": [
        "About 5.44% female patients had the heart disease."
      ]
    },
    {
      "cell_type": "code",
      "execution_count": null,
      "id": "647bec6a-0d69-4188-bfac-018b6ff4bebd",
      "metadata": {
        "id": "647bec6a-0d69-4188-bfac-018b6ff4bebd",
        "outputId": "89caa8bd-2020-4630-8b30-a7c5768063d9"
      },
      "outputs": [
        {
          "data": {
            "text/plain": [
              "29.08496732026144"
            ]
          },
          "execution_count": 779,
          "metadata": {},
          "output_type": "execute_result"
        }
      ],
      "source": [
        "# Male without the disease\n",
        "male_without_disease = male_dis[male_dis.HeartDisease ==0].shape[0]/proj.shape[0]*100\n",
        "male_without_disease"
      ]
    },
    {
      "cell_type": "markdown",
      "id": "cdd1fa27-4e0e-44a8-a3d0-87d30cb5ddbc",
      "metadata": {
        "id": "cdd1fa27-4e0e-44a8-a3d0-87d30cb5ddbc"
      },
      "source": [
        "About 29.08% male patients were without the heart disease."
      ]
    },
    {
      "cell_type": "code",
      "execution_count": null,
      "id": "9154e524-7334-4766-93d6-20057cc406fe",
      "metadata": {
        "id": "9154e524-7334-4766-93d6-20057cc406fe",
        "outputId": "48c07be7-f9f6-4f5c-fafa-4aa12fd5ba1a"
      },
      "outputs": [
        {
          "data": {
            "text/plain": [
              "15.577342047930284"
            ]
          },
          "execution_count": 780,
          "metadata": {},
          "output_type": "execute_result"
        }
      ],
      "source": [
        "# Female without with disease\n",
        "female_without_disease = female_dis[female_dis.HeartDisease ==0].shape[0]/proj.shape[0]*100\n",
        "female_without_disease"
      ]
    },
    {
      "cell_type": "markdown",
      "id": "f6b8949a-b5d4-4949-940b-98427469b2fd",
      "metadata": {
        "id": "f6b8949a-b5d4-4949-940b-98427469b2fd"
      },
      "source": [
        "15.57% female patients were without the heart disease."
      ]
    },
    {
      "cell_type": "code",
      "execution_count": null,
      "id": "d719614f-af11-4721-a9f4-f5e082645ea3",
      "metadata": {
        "id": "d719614f-af11-4721-a9f4-f5e082645ea3",
        "outputId": "4b9d93f4-9cfd-49fd-8aac-4d27409f1fb8"
      },
      "outputs": [
        {
          "data": {
            "image/png": "[encoded data removed]",
            "text/plain": [
              "<Figure size 640x480 with 1 Axes>"
            ]
          },
          "metadata": {},
          "output_type": "display_data"
        }
      ],
      "source": [
        "# Drawing a pie chart from our calculations of the sex distribution\n",
        "labels = 'male_with_disease', 'male_without_disease', 'female_with_disease','female_without_disease'\n",
        "sizes = [ male_with_disease, male_without_disease, female_with_disease, female_without_disease]\n",
        "plt.pie(sizes, labels=labels, autopct='%1.1f%%')\n",
        "plt.title(\"Patients With or Without Disease\")\n",
        "plt.show()"
      ]
    },
    {
      "cell_type": "markdown",
      "id": "35101afc-d0eb-4a60-a814-adb635230997",
      "metadata": {
        "id": "35101afc-d0eb-4a60-a814-adb635230997"
      },
      "source": [
        "The above visualization shows that 49.9% of males patient had heart disease, 29.1% of males were not with the disease while 15.6% of females had the disease and 5.4% of female were without heart disease. We can therefore say that majority of the male patient had heart disease."
      ]
    },
    {
      "cell_type": "code",
      "execution_count": null,
      "id": "d3bcef66-0c15-4ec7-9160-ca516d3fde4f",
      "metadata": {
        "id": "d3bcef66-0c15-4ec7-9160-ca516d3fde4f",
        "outputId": "1afee62f-428e-42e6-e712-3fc411e13a74"
      },
      "outputs": [
        {
          "data": {
            "image/png": "[encoded data removed]",
            "text/plain": [
              "<Figure size 640x480 with 1 Axes>"
            ]
          },
          "metadata": {},
          "output_type": "display_data"
        }
      ],
      "source": [
        "sns.countplot(data=proj, x='Sex', hue='HeartDisease')\n",
        "plt.title('Heart Disease Frequency for Sex')\n",
        "plt.xlabel('Sex (F = Female, M = Male)')\n",
        "plt.ylabel('Frequency')\n",
        "plt.show()"
      ]
    },
    {
      "cell_type": "markdown",
      "id": "54b3d025-7c96-4199-ae2c-3c51ce00a951",
      "metadata": {
        "id": "54b3d025-7c96-4199-ae2c-3c51ce00a951"
      },
      "source": [
        "The distribution of sex in relation to the having the heart disease or not. looking at the bar plot above, it shows that male patients happened to have had the heart disease more compared to  the female ones."
      ]
    },
    {
      "cell_type": "markdown",
      "id": "660d5148-6267-4bcd-afb8-072ba41ecc92",
      "metadata": {
        "id": "660d5148-6267-4bcd-afb8-072ba41ecc92"
      },
      "source": [
        "Let us see what other insights we can make from the Age feature then futher look at the Age feature and the heart disease feature. It would be intriguing to learn what kind of relationship there is between these two features."
      ]
    },
    {
      "cell_type": "code",
      "execution_count": null,
      "id": "2bd658c6-52cf-4b21-94d8-35e95e4d91b4",
      "metadata": {
        "id": "2bd658c6-52cf-4b21-94d8-35e95e4d91b4",
        "outputId": "4b09008f-9419-4b38-9f2b-f4ac53f206b2"
      },
      "outputs": [
        {
          "data": {
            "text/plain": [
              "0      40\n",
              "1      49\n",
              "2      37\n",
              "3      48\n",
              "4      54\n",
              "       ..\n",
              "913    45\n",
              "914    68\n",
              "915    57\n",
              "916    57\n",
              "917    38\n",
              "Name: Age, Length: 918, dtype: int64"
            ]
          },
          "execution_count": 783,
          "metadata": {},
          "output_type": "execute_result"
        }
      ],
      "source": [
        "# Looking at the output of the Age feature.\n",
        "proj['Age']"
      ]
    },
    {
      "cell_type": "code",
      "execution_count": null,
      "id": "ef2f21f8-9620-4daa-a27e-5c025c622998",
      "metadata": {
        "id": "ef2f21f8-9620-4daa-a27e-5c025c622998",
        "outputId": "c36b4b3a-effc-4165-92f4-82158636f512"
      },
      "outputs": [
        {
          "data": {
            "image/png": "[encoded data removed]",
            "text/plain": [
              "<Figure size 640x480 with 1 Axes>"
            ]
          },
          "metadata": {},
          "output_type": "display_data"
        }
      ],
      "source": [
        "#visualizing the age distribution of our dataset\n",
        "plt.hist(proj['Age'], bins=20,color='skyblue',edgecolor='black')\n",
        "plt.xlabel('Age')\n",
        "plt.ylabel('frequency')\n",
        "plt.title('Distribution of Ages in our dataset')\n",
        "plt.show()\n",
        "\n"
      ]
    },
    {
      "cell_type": "raw",
      "id": "edd77d2d-06d8-4e08-a28f-2f72da132cc9",
      "metadata": {
        "id": "edd77d2d-06d8-4e08-a28f-2f72da132cc9"
      },
      "source": [
        "From the above visualization, we can say majority of the patient in the data were within the age range of 50 to 65. This is because these ages have the heighest frequecy amoung the ages. Let dive deeper as there are more interesting insights that can be unraveled from the visualization above."
      ]
    },
    {
      "cell_type": "code",
      "execution_count": null,
      "id": "657e991e-5db6-4546-84a5-6fff829c9727",
      "metadata": {
        "id": "657e991e-5db6-4546-84a5-6fff829c9727",
        "outputId": "674f9d3f-5e52-4590-c26a-18f4e326104f"
      },
      "outputs": [
        {
          "data": {
            "text/plain": [
              "93"
            ]
          },
          "execution_count": 785,
          "metadata": {},
          "output_type": "execute_result"
        }
      ],
      "source": [
        "# finding the number of patients age 40 and below\n",
        "min_age = proj[proj.Age <=40]\n",
        "len(min_age)"
      ]
    },
    {
      "cell_type": "markdown",
      "id": "92bd6626-9e73-4d89-897a-377b478ca0c1",
      "metadata": {
        "id": "92bd6626-9e73-4d89-897a-377b478ca0c1"
      },
      "source": [
        "There are 93 patient  below the ages of 40"
      ]
    },
    {
      "cell_type": "code",
      "execution_count": null,
      "id": "0f41e9de-e526-4b34-8e11-b70c5123d249",
      "metadata": {
        "id": "0f41e9de-e526-4b34-8e11-b70c5123d249",
        "outputId": "83f51517-4e89-44b6-f51b-6e1c22ea4b83"
      },
      "outputs": [
        {
          "name": "stderr",
          "output_type": "stream",
          "text": [
            "C:\\Users\\user\\AppData\\Local\\Temp\\ipykernel_3096\\2695860901.py:2: UserWarning: Boolean Series key will be reindexed to match DataFrame index.\n",
            "  below_40_m=min_age[proj.Sex=='M']\n"
          ]
        },
        {
          "data": {
            "text/plain": [
              "73"
            ]
          },
          "execution_count": 786,
          "metadata": {},
          "output_type": "execute_result"
        }
      ],
      "source": [
        "# finding the sex of patient who are below 40 and are male\n",
        "below_40_m=min_age[proj.Sex=='M']\n",
        "mbl=len(below_40_m)\n",
        "mbl"
      ]
    },
    {
      "cell_type": "markdown",
      "id": "c2545faf-94dc-4b9b-8b69-105e8d8a056a",
      "metadata": {
        "id": "c2545faf-94dc-4b9b-8b69-105e8d8a056a"
      },
      "source": [
        "Out of the 93 patients that are below the age of 40, 73 of them are males."
      ]
    },
    {
      "cell_type": "code",
      "execution_count": null,
      "id": "1985c49b-3150-404c-b222-8b0a9ade910a",
      "metadata": {
        "id": "1985c49b-3150-404c-b222-8b0a9ade910a",
        "outputId": "4cea9f49-341a-450a-a399-3853a2b62337"
      },
      "outputs": [
        {
          "name": "stderr",
          "output_type": "stream",
          "text": [
            "C:\\Users\\user\\AppData\\Local\\Temp\\ipykernel_3096\\2008892857.py:2: UserWarning: Boolean Series key will be reindexed to match DataFrame index.\n",
            "  below_40_f=min_age[proj.Sex=='F']\n"
          ]
        },
        {
          "data": {
            "text/plain": [
              "20"
            ]
          },
          "execution_count": 787,
          "metadata": {},
          "output_type": "execute_result"
        }
      ],
      "source": [
        "#finding the sex of patient who are below 40 and are female\n",
        "below_40_f=min_age[proj.Sex=='F']\n",
        "wbl=len(below_40_f)\n",
        "wbl"
      ]
    },
    {
      "cell_type": "markdown",
      "id": "c442da2e-f7d2-4650-8082-daa125d240f9",
      "metadata": {
        "id": "c442da2e-f7d2-4650-8082-daa125d240f9"
      },
      "source": [
        "20 out of the 93 patients below the age 40 are females."
      ]
    },
    {
      "cell_type": "code",
      "execution_count": null,
      "id": "604b69b2-9cf3-4097-a4d2-7500d8cb05f6",
      "metadata": {
        "id": "604b69b2-9cf3-4097-a4d2-7500d8cb05f6",
        "outputId": "41666f81-3320-482e-a540-78d1fce82ca1"
      },
      "outputs": [
        {
          "data": {
            "image/png": "[encoded data removed]",
            "text/plain": [
              "<Figure size 640x480 with 1 Axes>"
            ]
          },
          "metadata": {},
          "output_type": "display_data"
        }
      ],
      "source": [
        "#visualizing the sex of patient below 40\n",
        "labels = 'Men below 40', 'Women below 40'\n",
        "sizes = [mbl, wbl ]\n",
        "plt.pie(sizes, labels=labels, autopct='%1.1f%%')\n",
        "plt.title(\"Sex of Patient below 40\")\n",
        "plt.show()"
      ]
    },
    {
      "cell_type": "markdown",
      "id": "7ca800f8-849a-4da2-832b-b3e6c1748672",
      "metadata": {
        "id": "7ca800f8-849a-4da2-832b-b3e6c1748672"
      },
      "source": [
        "With the above visualization, we can say that there were more men/males who were below 40 compared to women/females."
      ]
    },
    {
      "cell_type": "code",
      "execution_count": null,
      "id": "1a07bd12-a107-4369-813c-6aefecd72f6f",
      "metadata": {
        "id": "1a07bd12-a107-4369-813c-6aefecd72f6f",
        "outputId": "fc6ab39e-03a7-44ed-fc13-b546ccca6d0d"
      },
      "outputs": [
        {
          "data": {
            "text/plain": [
              "825"
            ]
          },
          "execution_count": 789,
          "metadata": {},
          "output_type": "execute_result"
        }
      ],
      "source": [
        "# Checking for number of patients above age 40\n",
        "max_age = proj[proj.Age >40]\n",
        "len(max_age)"
      ]
    },
    {
      "cell_type": "markdown",
      "id": "27618a97-71da-468c-9c96-aea040559234",
      "metadata": {
        "id": "27618a97-71da-468c-9c96-aea040559234"
      },
      "source": [
        "825 patients were above the age of 40."
      ]
    },
    {
      "cell_type": "markdown",
      "id": "31a8a132-ac90-4115-b12c-a5b475442f01",
      "metadata": {
        "id": "31a8a132-ac90-4115-b12c-a5b475442f01"
      },
      "source": [
        "Let find the gender of the patient who were above 40"
      ]
    },
    {
      "cell_type": "code",
      "execution_count": null,
      "id": "b2cef31f-b295-430e-9082-0eea8dc8d20f",
      "metadata": {
        "id": "b2cef31f-b295-430e-9082-0eea8dc8d20f",
        "outputId": "ed49a069-60b9-439e-9253-cc1d8c4182ab"
      },
      "outputs": [
        {
          "name": "stderr",
          "output_type": "stream",
          "text": [
            "C:\\Users\\user\\AppData\\Local\\Temp\\ipykernel_3096\\316047191.py:2: UserWarning: Boolean Series key will be reindexed to match DataFrame index.\n",
            "  above_40_m=max_age[proj.Sex=='M']\n"
          ]
        },
        {
          "data": {
            "text/plain": [
              "652"
            ]
          },
          "execution_count": 790,
          "metadata": {},
          "output_type": "execute_result"
        }
      ],
      "source": [
        "#finding the sex of patient who were above 40 and are male\n",
        "above_40_m=max_age[proj.Sex=='M']\n",
        "mab=len(above_40_m)\n",
        "mab"
      ]
    },
    {
      "cell_type": "markdown",
      "id": "150056ad-3cb3-475a-9307-0a5046e28d3e",
      "metadata": {
        "id": "150056ad-3cb3-475a-9307-0a5046e28d3e"
      },
      "source": [
        "Out of the 825 patients that were above the age of 40, 652 were men."
      ]
    },
    {
      "cell_type": "code",
      "execution_count": null,
      "id": "09c2a4b8-a3d1-40d2-a836-b2bf0249ce33",
      "metadata": {
        "id": "09c2a4b8-a3d1-40d2-a836-b2bf0249ce33",
        "outputId": "76ebc261-e1e0-4692-cfab-b2929e4ecf2e"
      },
      "outputs": [
        {
          "name": "stderr",
          "output_type": "stream",
          "text": [
            "C:\\Users\\user\\AppData\\Local\\Temp\\ipykernel_3096\\220045613.py:2: UserWarning: Boolean Series key will be reindexed to match DataFrame index.\n",
            "  above_40_f=max_age[proj.Sex=='F']\n"
          ]
        },
        {
          "data": {
            "text/plain": [
              "173"
            ]
          },
          "execution_count": 791,
          "metadata": {},
          "output_type": "execute_result"
        }
      ],
      "source": [
        "#finding the sex of patient who were above 40 and are female\n",
        "above_40_f=max_age[proj.Sex=='F']\n",
        "wab=len(above_40_f)\n",
        "wab"
      ]
    },
    {
      "cell_type": "markdown",
      "id": "d59809e4-a14a-4217-b710-ae1fac6d3469",
      "metadata": {
        "id": "d59809e4-a14a-4217-b710-ae1fac6d3469"
      },
      "source": [
        "There were 173 female patients above the age of 40."
      ]
    },
    {
      "cell_type": "code",
      "execution_count": null,
      "id": "2766305c-44cc-41d2-b2f5-e28f76b622aa",
      "metadata": {
        "id": "2766305c-44cc-41d2-b2f5-e28f76b622aa",
        "outputId": "0ddfe496-b969-4cbe-a4a8-9edf0e047984"
      },
      "outputs": [
        {
          "data": {
            "image/png": "[encoded data removed]",
            "text/plain": [
              "<Figure size 640x480 with 1 Axes>"
            ]
          },
          "metadata": {},
          "output_type": "display_data"
        }
      ],
      "source": [
        "#visualizing the sex of patient above 40\n",
        "labels = 'Men above 40', 'Women above 40'\n",
        "sizes = [mab, wab ]\n",
        "plt.pie(sizes, labels=labels, autopct='%1.1f%%')\n",
        "plt.title(\"Sex of Patient above 40\")\n",
        "plt.show()"
      ]
    },
    {
      "cell_type": "raw",
      "id": "7bf9eec4-71a2-4a39-9886-e866b3426666",
      "metadata": {
        "id": "7bf9eec4-71a2-4a39-9886-e866b3426666"
      },
      "source": [
        "We can boldly say from the insight drawn above and the visualization done that majority of the patient above 40 were male which accounts to 79% of all patient above 40 whereas 21% of patient above 40 were female. Knowing this, we can find the percentage or number of patient who are above or below 40 who might have had the heart disease. Below are insights made from Age and HeartDisease, ie; finding the ages that are likely to have heart disease and their sex be it male or female."
      ]
    },
    {
      "cell_type": "code",
      "execution_count": null,
      "id": "8f99560b-1bf9-415c-a296-b3e1ec696606",
      "metadata": {
        "id": "8f99560b-1bf9-415c-a296-b3e1ec696606",
        "outputId": "b39494f2-af57-4aa9-e97e-85be4f6aad2d"
      },
      "outputs": [
        {
          "data": {
            "text/plain": [
              "32"
            ]
          },
          "execution_count": 793,
          "metadata": {},
          "output_type": "execute_result"
        }
      ],
      "source": [
        "# Finding HeartDisease rate by age.\n",
        "#Those 40 and below who had the disease\n",
        "target_mn_age = min_age[min_age.HeartDisease == 1]\n",
        "target_mn_age\n",
        "below_with_disease=len(target_mn_age)\n",
        "below_with_disease"
      ]
    },
    {
      "cell_type": "markdown",
      "id": "ee846074-c3e7-4d17-9a2e-1144fbcc809c",
      "metadata": {
        "id": "ee846074-c3e7-4d17-9a2e-1144fbcc809c"
      },
      "source": [
        "There are 32 patients below the age 40 with the heart disease."
      ]
    },
    {
      "cell_type": "code",
      "execution_count": null,
      "id": "6ff3e6e8-2851-41c7-b1e7-361cd7ce91c1",
      "metadata": {
        "id": "6ff3e6e8-2851-41c7-b1e7-361cd7ce91c1",
        "outputId": "d905f173-137a-4ed3-f752-7ccb858dcd10"
      },
      "outputs": [
        {
          "data": {
            "text/plain": [
              "476"
            ]
          },
          "execution_count": 794,
          "metadata": {},
          "output_type": "execute_result"
        }
      ],
      "source": [
        "# Those above 40 who had heart disease\n",
        "target_mx_age = max_age[max_age.HeartDisease == 1]\n",
        "target_mx_age\n",
        "above_with_disease=len(target_mx_age)\n",
        "above_with_disease"
      ]
    },
    {
      "cell_type": "markdown",
      "id": "a752d548-b025-4d2e-ac70-4d28421687c6",
      "metadata": {
        "id": "a752d548-b025-4d2e-ac70-4d28421687c6"
      },
      "source": [
        "476 patientss above the age 40 had the heart disease."
      ]
    },
    {
      "cell_type": "code",
      "execution_count": null,
      "id": "9cdef040-e554-419c-b10b-863aff289fce",
      "metadata": {
        "id": "9cdef040-e554-419c-b10b-863aff289fce",
        "outputId": "195e10fd-62b9-4367-f1a5-1155bc518907"
      },
      "outputs": [
        {
          "data": {
            "image/png": "[encoded data removed]",
            "text/plain": [
              "<Figure size 640x480 with 1 Axes>"
            ]
          },
          "metadata": {},
          "output_type": "display_data"
        }
      ],
      "source": [
        "# Visualizing the age ranges of patients who are 'below' or 'above' 40 and had the disease in the data.\n",
        "labels = 'above_with_disease','below_with_disease'\n",
        "sizes = [above_with_disease,below_with_disease ]\n",
        "plt.pie(sizes, labels=labels, autopct='%1.1f%%', startangle=90)\n",
        "plt.title(\"Distribution of Patient with heart disease against Age\")\n",
        "plt.show()"
      ]
    },
    {
      "cell_type": "markdown",
      "id": "f5b9142d-b8cf-4251-aef2-6d47759abce4",
      "metadata": {
        "id": "f5b9142d-b8cf-4251-aef2-6d47759abce4"
      },
      "source": [
        "93.7% of patients above the age of 40 had heart disease as well as 6.3% of patients age 40 and below also had heart disease. Meaning more older patients had the disease compared to younger patients. What could be the reason for these outcomes, we would find out moving forward using other features."
      ]
    },
    {
      "cell_type": "code",
      "execution_count": null,
      "id": "7bc68bf7-5a66-4c86-b7b7-2c081ff2ffcd",
      "metadata": {
        "id": "7bc68bf7-5a66-4c86-b7b7-2c081ff2ffcd"
      },
      "outputs": [],
      "source": [
        "# finding the sex of patient who had heart disease and were above age 40\n",
        "#finding that of male\n",
        "target_mx_age = max_age[max_age.HeartDisease ==1]\n",
        "with_male=target_mx_age[target_mx_age['Sex']=='M']\n",
        "men=len(with_male)\n",
        "\n",
        "#finding that of female\n",
        "target_mx_age = max_age[max_age.HeartDisease ==1]\n",
        "with_female=target_mx_age[target_mx_age['Sex']=='F']\n",
        "women=len(with_female)"
      ]
    },
    {
      "cell_type": "code",
      "execution_count": null,
      "id": "ec5eed20-072b-4aab-b430-e6546fb397fe",
      "metadata": {
        "id": "ec5eed20-072b-4aab-b430-e6546fb397fe",
        "outputId": "e93f355c-0aea-4baa-b6d2-5f6af0649016"
      },
      "outputs": [
        {
          "data": {
            "image/png": "[encoded data removed]",
            "text/plain": [
              "<Figure size 640x480 with 1 Axes>"
            ]
          },
          "metadata": {},
          "output_type": "display_data"
        }
      ],
      "source": [
        "#visualizing the gender of patient that had heart disease and were above age 40\n",
        "labels = 'Men with heart disease', 'Women with heart disease'\n",
        "sizes = [men, women ]\n",
        "plt.pie(sizes, labels=labels, autopct='%1.1f%%')\n",
        "plt.title(\"Distribution by patient who have heart disese against sex \")\n",
        "plt.show()\n"
      ]
    },
    {
      "cell_type": "markdown",
      "id": "38781ea9-187e-411d-8ef1-61d0b5ea4316",
      "metadata": {
        "id": "38781ea9-187e-411d-8ef1-61d0b5ea4316"
      },
      "source": [
        "The above visualization highlights the fact that majority of patients above the age of 40 in our dataset with heart disease were men or males which account for 90% of the data and fewer females (women) turn out with the disease which is 9.7% of the data."
      ]
    },
    {
      "cell_type": "code",
      "execution_count": null,
      "id": "e5d35815-a452-44d5-a2e3-e0cb60737d74",
      "metadata": {
        "id": "e5d35815-a452-44d5-a2e3-e0cb60737d74"
      },
      "outputs": [],
      "source": [
        "# finding the sex of patient who had heart disease and were below age 40\n",
        "#finding that of male\n",
        "mwith_40 =min_age[min_age.HeartDisease == 1]\n",
        "with_male=mwith_40[mwith_40['Sex']=='M']\n",
        "Men=len(with_male)\n",
        "#finding that of female\n",
        "wwith_40 = min_age[min_age.HeartDisease == 1]\n",
        "with_female=wwith_40[wwith_40['Sex']=='F']\n",
        "Women=len(with_female)"
      ]
    },
    {
      "cell_type": "code",
      "execution_count": null,
      "id": "077aac61-cbe0-4e2e-bab6-c68dab708d4a",
      "metadata": {
        "id": "077aac61-cbe0-4e2e-bab6-c68dab708d4a",
        "outputId": "614b8215-5e5e-4234-b79a-d075f1d8975d"
      },
      "outputs": [
        {
          "data": {
            "image/png": "[encoded data removed]",
            "text/plain": [
              "<Figure size 640x480 with 1 Axes>"
            ]
          },
          "metadata": {},
          "output_type": "display_data"
        }
      ],
      "source": [
        "#visualizing the gender (sex) of patient that had heart disease and were below the age of 40\n",
        "labels = 'Men with heart disease', 'Women with heart disease'\n",
        "sizes = [Men, Women ]\n",
        "plt.pie(sizes, labels=labels, autopct='%1.1f%%')\n",
        "plt.title(\"Distribution by patient who have heart disese(beow 40) against sex \")\n",
        "plt.show()"
      ]
    },
    {
      "cell_type": "markdown",
      "id": "357f4134-aa0e-4d2a-b473-68c2f8c6d1e9",
      "metadata": {
        "id": "357f4134-aa0e-4d2a-b473-68c2f8c6d1e9"
      },
      "source": [
        "From the above, 87.5% of patients below the age of 40 were men (males) and 12.5% of patients below age 40 happen to be women (females)."
      ]
    },
    {
      "cell_type": "code",
      "execution_count": null,
      "id": "86847cf5-f862-4d62-b03c-4f669d7a7768",
      "metadata": {
        "id": "86847cf5-f862-4d62-b03c-4f669d7a7768",
        "outputId": "85a36052-6d78-4344-d612-5fb217a55088"
      },
      "outputs": [
        {
          "data": {
            "text/plain": [
              "61"
            ]
          },
          "execution_count": 800,
          "metadata": {},
          "output_type": "execute_result"
        }
      ],
      "source": [
        "# Finding the HeartDisease rate by age.\n",
        "# Patients aged 40 and below who did not have the disease.\n",
        "target_mn_without = min_age[min_age.HeartDisease == 0]\n",
        "below_without_disease = len(target_mn_without)\n",
        "below_without_disease"
      ]
    },
    {
      "cell_type": "markdown",
      "id": "d0e34288-6b44-47ca-8165-d696602bd114",
      "metadata": {
        "id": "d0e34288-6b44-47ca-8165-d696602bd114"
      },
      "source": [
        "There were 61 patients below the age 40 without heart disease."
      ]
    },
    {
      "cell_type": "code",
      "execution_count": null,
      "id": "aa71d27c-09ff-4aa8-a7bc-e835f7ea7f19",
      "metadata": {
        "id": "aa71d27c-09ff-4aa8-a7bc-e835f7ea7f19",
        "outputId": "99ea5ab0-8cb8-4662-807a-534ab6efc970"
      },
      "outputs": [
        {
          "data": {
            "text/plain": [
              "349"
            ]
          },
          "execution_count": 801,
          "metadata": {},
          "output_type": "execute_result"
        }
      ],
      "source": [
        "# Patients above age 40 who did not have the disease.\n",
        "target_mx_without = max_age[max_age.HeartDisease == 0]\n",
        "above_without_disease = len(target_mx_without)\n",
        "above_without_disease"
      ]
    },
    {
      "cell_type": "markdown",
      "id": "591ca33e-b6ff-4b2e-afdd-3732b5b1968b",
      "metadata": {
        "id": "591ca33e-b6ff-4b2e-afdd-3732b5b1968b"
      },
      "source": [
        "There were 349 patients above the age of 40 without heart disease."
      ]
    },
    {
      "cell_type": "code",
      "execution_count": null,
      "id": "29bc2a71-56d2-4113-b350-2207bcc2d39d",
      "metadata": {
        "id": "29bc2a71-56d2-4113-b350-2207bcc2d39d",
        "outputId": "0d20ad96-a563-4103-beb2-e224e4145b9d"
      },
      "outputs": [
        {
          "data": {
            "image/png": "[encoded data removed]",
            "text/plain": [
              "<Figure size 640x480 with 1 Axes>"
            ]
          },
          "metadata": {},
          "output_type": "display_data"
        }
      ],
      "source": [
        "# Visualizing the age ranges of patients without the disease\n",
        "labels = 'below_without_disease', 'above_without_disease'\n",
        "sizes = [below_without_disease, above_without_disease]\n",
        "plt.pie(sizes, labels=labels, autopct='%1.1f%%', startangle=90)\n",
        "plt.title(\"Distribution of Patient without heart disease Against age \")\n",
        "plt.show()"
      ]
    },
    {
      "cell_type": "markdown",
      "id": "83c56389-2d5e-4a4f-b73c-61f25ae7f576",
      "metadata": {
        "id": "83c56389-2d5e-4a4f-b73c-61f25ae7f576"
      },
      "source": [
        "85.1% of patients above the ages of 40 were without the disease and 14.9% of those age 40 and below were also without the disease.\n",
        "Comparing the number of patient who were below 40 who have or did not have heart disease to that of patient above 40 who have or did not have heart disease we realized that younger patients have  higher chances of not having heart disease than older patient\n",
        "Comparing the visualizations for age ranges with or without disease, it could be seen that age can be a determining factor for having the disease.\n"
      ]
    },
    {
      "cell_type": "markdown",
      "id": "38d09bd8-2b7a-496f-8ecf-9f5ab9daae70",
      "metadata": {
        "id": "38d09bd8-2b7a-496f-8ecf-9f5ab9daae70"
      },
      "source": [
        "Let sum up the above visualizaions we made so far.\n",
        "- Out of 918 patient in our data, we had 725 of the patient to be men while 193 were female.\n",
        "- 49.9% of male patient have heart disease whereas 15.6% of  female patient have the heart disease.\n",
        "- 29.1% of male do not have heart disease whereas 5.4% of females do not have heart disease, generally we can say majourity of the patient who had heart disease were male patients.\n",
        "- The maximum age in our patient data is 77 with patient above age 40 being about 682 whereas the patient below the ages of 40 were 98.\n",
        "- Out of the 682 patients 476 were male whilst 173 were female whereas  73 of the patient below the ages of 40 were males whilst 20 were females.\n",
        "- 90.3% of male  patient above age 40 had heart disease whereas 9.7% of female patient above age 40 had heart disease.\n",
        "- Also 87.5% of male patient under 40 had heart disease whilst 12.5% of female patient had heart disease.\n",
        "- With this we can conclude that the older people have higher chances of getting heart disease than younger people as our insight clearly shows that  older male patient had the heart disease more than the younger male pateint which is viceversal to the female patient too.     "
      ]
    },
    {
      "cell_type": "markdown",
      "id": "6d64a314-3ca5-47c7-83a1-7584535c84f9",
      "metadata": {
        "id": "6d64a314-3ca5-47c7-83a1-7584535c84f9"
      },
      "source": [
        "Let us make insight from other features."
      ]
    },
    {
      "cell_type": "markdown",
      "id": "82f2ec0c-4aa2-42fb-b2b9-f99a3a48944c",
      "metadata": {
        "id": "82f2ec0c-4aa2-42fb-b2b9-f99a3a48944c"
      },
      "source": [
        "One might ask what really is Chest pain as realated to heart disease:\n",
        "Chest pains or angina, is a common symptom that is typically felt as a result of pressure, tightness, or squeezing in the chest, and can radiate to the arms, neck, jaw, or back."
      ]
    },
    {
      "cell_type": "code",
      "execution_count": null,
      "id": "7ee5ac0e-4bb1-462b-b733-4d7adc74c9d8",
      "metadata": {
        "id": "7ee5ac0e-4bb1-462b-b733-4d7adc74c9d8",
        "outputId": "7e10911a-f4e8-4593-938d-931494a79e16"
      },
      "outputs": [
        {
          "data": {
            "text/plain": [
              "ChestPainType\n",
              "ASY    496\n",
              "NAP    203\n",
              "ATA    173\n",
              "TA      46\n",
              "Name: count, dtype: int64"
            ]
          },
          "execution_count": 803,
          "metadata": {},
          "output_type": "execute_result"
        }
      ],
      "source": [
        "#Type of Chest Pain\n",
        "proj['ChestPainType'].value_counts()"
      ]
    },
    {
      "cell_type": "markdown",
      "id": "3849bca9-98cf-45bb-840b-42f39a629b1f",
      "metadata": {
        "id": "3849bca9-98cf-45bb-840b-42f39a629b1f"
      },
      "source": [
        "There are four types of chestpain in the data. These includes;\n",
        "* Typical Angina (TA): this is a type of chest pain or discomfort caused by reduced blood flow to the heart muscle.\n",
        "\n",
        "* Atypical Angina (ATA): this refers to chest pain or discomfort that doesn't follow the typical patterns of classic angina.\n",
        "\n",
        "* Non-Anginal Pain (NAP):This refers to chest pains that are not related to heart problems.\n",
        "\n",
        "* Asymptomatic (ASY):This refers to individuals who have a disease or medical condition but do not exhibit any noticeable symptoms."
      ]
    },
    {
      "cell_type": "code",
      "execution_count": null,
      "id": "9581b4a8-070e-4fda-8943-bda5ac933213",
      "metadata": {
        "id": "9581b4a8-070e-4fda-8943-bda5ac933213",
        "outputId": "9d5cfac3-151d-4c7f-97cc-63236a7ea939"
      },
      "outputs": [
        {
          "data": {
            "image/png": "[encoded data removed]",
            "text/plain": [
              "<Figure size 640x480 with 1 Axes>"
            ]
          },
          "metadata": {},
          "output_type": "display_data"
        }
      ],
      "source": [
        "#Visualizing the types of chest Pains\n",
        "sns.countplot(data=proj, x='ChestPainType', hue='HeartDisease')\n",
        "plt.title('Distribution of Chest pain')\n",
        "plt.xlabel('Type Of Chest Pain ')\n",
        "plt.ylabel('Frequency')\n",
        "plt.show()"
      ]
    },
    {
      "cell_type": "markdown",
      "id": "8443f7fc-3723-4d5e-9f16-200d75193968",
      "metadata": {
        "id": "8443f7fc-3723-4d5e-9f16-200d75193968"
      },
      "source": [
        "ChestPainType: Chest pain type (TA: Typical Angina, ATA: Atypical Angina, NAP: Non-Anginal Pain, ASY: Asymptomatic)\n",
        "- Per the above visualization, we realize that mojority of the patient who had Asymptomatic(ASY) chest pain had heart disease which bring us to 400 patient out of 496 patient with the heart disease.\n",
        "- This means that patient with Asymptomatic chest pain have higher chances of getting heart disease,this is so because Asymptomatic chest pain has no noticeable symptoms making it difficult to be diagnosed.\n",
        "- Also we realized that patient with Atypical Angina(ATA) chest pain were more unlikely of getting heart disease compared to the order types of chest pain being TA (Typical Angina) and NAP (Non-Angina Pain).        "
      ]
    },
    {
      "cell_type": "markdown",
      "id": "c8bb6ec5-6599-4c64-a6b2-aa7a6b55f949",
      "metadata": {
        "id": "c8bb6ec5-6599-4c64-a6b2-aa7a6b55f949"
      },
      "source": [
        "Let make more insight from ExerciseAngina\n",
        "-ExerciseAngina is a type of chest pain or disconfort that occurs during physical activity or exertion."
      ]
    },
    {
      "cell_type": "code",
      "execution_count": null,
      "id": "8bdf867b-4d52-4e26-884a-46fea51fb7ba",
      "metadata": {
        "id": "8bdf867b-4d52-4e26-884a-46fea51fb7ba",
        "outputId": "53f29cea-db6a-4816-c7e6-11366fd681d5"
      },
      "outputs": [
        {
          "data": {
            "text/plain": [
              "ExerciseAngina\n",
              "N    547\n",
              "Y    371\n",
              "Name: count, dtype: int64"
            ]
          },
          "execution_count": 805,
          "metadata": {},
          "output_type": "execute_result"
        }
      ],
      "source": [
        "# Finding the number of patient who had the disease as a result of ExerciseAngina\n",
        "proj['ExerciseAngina'].value_counts()"
      ]
    },
    {
      "cell_type": "markdown",
      "id": "87e9dbe6-a2ae-4222-99d2-562cd7297464",
      "metadata": {
        "id": "87e9dbe6-a2ae-4222-99d2-562cd7297464"
      },
      "source": [
        "From the above output, we can see that 547 patient did not have ExerciseAngina while 371 had ExeciseAngina."
      ]
    },
    {
      "cell_type": "code",
      "execution_count": null,
      "id": "79c5e1aa-bc2b-4436-a344-e7351e270ee7",
      "metadata": {
        "id": "79c5e1aa-bc2b-4436-a344-e7351e270ee7",
        "outputId": "997e9a6e-f078-4d07-b8a3-fad8d4840b48"
      },
      "outputs": [
        {
          "data": {
            "image/png": "[encoded data removed]",
            "text/plain": [
              "<Figure size 640x480 with 1 Axes>"
            ]
          },
          "metadata": {},
          "output_type": "display_data"
        }
      ],
      "source": [
        "#Visualizing ExerciseAngina\n",
        "sns.countplot(data=proj, x='ExerciseAngina', hue='HeartDisease')\n",
        "plt.title('Distribution of ExerciseAngina')\n",
        "plt.xlabel('ExerciseAngina ')\n",
        "plt.ylabel('Frequency')\n",
        "plt.show()"
      ]
    },
    {
      "cell_type": "markdown",
      "id": "77f11cf6-fbce-4800-904b-6d5767303229",
      "metadata": {
        "id": "77f11cf6-fbce-4800-904b-6d5767303229"
      },
      "source": [
        "From the above visualization, we realize that patient who do not have ExerciseAngina were highly unlikely of having heart disease whereas patient with ExerciseAngina have higher chance of having the heart disease. Can a patient with ExerciseAngina and high Cholesterol get heart disease?. Let us find out.         "
      ]
    },
    {
      "cell_type": "code",
      "execution_count": null,
      "id": "062fabb1-0c3f-4ed1-825b-5e1f1ab5477e",
      "metadata": {
        "id": "062fabb1-0c3f-4ed1-825b-5e1f1ab5477e",
        "outputId": "08680a4a-10bd-41f2-ab8d-1491a213fa26"
      },
      "outputs": [
        {
          "data": {
            "text/plain": [
              "Cholesterol\n",
              "223    182\n",
              "254     11\n",
              "220     10\n",
              "216      9\n",
              "230      9\n",
              "      ... \n",
              "347      1\n",
              "365      1\n",
              "412      1\n",
              "491      1\n",
              "131      1\n",
              "Name: count, Length: 221, dtype: int64"
            ]
          },
          "execution_count": 807,
          "metadata": {},
          "output_type": "execute_result"
        }
      ],
      "source": [
        "#let find the various Cholesterol levels we have\n",
        "proj['Cholesterol'].value_counts()"
      ]
    },
    {
      "cell_type": "code",
      "execution_count": null,
      "id": "169c2b8f-548c-46e9-9514-a8dd6fe3161e",
      "metadata": {
        "id": "169c2b8f-548c-46e9-9514-a8dd6fe3161e",
        "outputId": "31c6213e-199b-4460-d026-d4e9c5508be7"
      },
      "outputs": [
        {
          "data": {
            "image/png": "[encoded data removed]",
            "text/plain": [
              "<Figure size 640x480 with 1 Axes>"
            ]
          },
          "metadata": {},
          "output_type": "display_data"
        }
      ],
      "source": [
        "# Visualizing the cholesterol levels in our dataset\n",
        "plt.hist(proj['Cholesterol'], bins=20,color='gold',edgecolor='black')\n",
        "plt.xlabel('Cholesterol')\n",
        "plt.ylabel('frequency')\n",
        "plt.title('Distribution of Cholesterol in our dataset')\n",
        "plt.show()"
      ]
    },
    {
      "cell_type": "markdown",
      "id": "4dc8eeae-5a26-4ef1-8575-2658114408ed",
      "metadata": {
        "id": "4dc8eeae-5a26-4ef1-8575-2658114408ed"
      },
      "source": [
        "With the cholesterol levels in the patient data, these levels ranges from about 100 to 600 and the cholesterol levels are concentrated around about 165 and 360. These cholesterol levels can be classified under either good cholesterol or bad cholesterol. At least 40mg/dL and ideally above 60mg/dL is considered good cholesterol whiles bad cholesterol levels should be below 100mg/dL. However total cholesterol levels should ideally be below 200mg/dL.\n",
        "\n",
        "With this known, we would want to check which cholesterol values from the data are associated with heart disease."
      ]
    },
    {
      "cell_type": "code",
      "execution_count": null,
      "id": "363d102b-a8d6-4526-b475-c709686c40d6",
      "metadata": {
        "id": "363d102b-a8d6-4526-b475-c709686c40d6",
        "outputId": "1938bc91-8e61-481e-f4fa-c3528c73a68e"
      },
      "outputs": [
        {
          "name": "stdout",
          "output_type": "stream",
          "text": [
            "There are 150 patient with normal cholesterol levels\n"
          ]
        }
      ],
      "source": [
        "#Finding the number of patient with normal cholesterol level(200 ) who had heart disease\n",
        "# Outputting the number of patients with the normal cholesterol levels\n",
        "chol=proj[proj['Cholesterol']<=200]\n",
        "print('There are',len(chol),'patient with normal cholesterol levels')"
      ]
    },
    {
      "cell_type": "code",
      "execution_count": null,
      "id": "accab224-f53e-46f6-8bb0-b0824b1db68e",
      "metadata": {
        "id": "accab224-f53e-46f6-8bb0-b0824b1db68e",
        "outputId": "6cf15ef5-b382-4f7d-bd83-44219aff0229"
      },
      "outputs": [
        {
          "data": {
            "text/plain": [
              "59"
            ]
          },
          "execution_count": 810,
          "metadata": {},
          "output_type": "execute_result"
        }
      ],
      "source": [
        "#finding those with the nomral cholesterol level that had heart disease\n",
        "nochol=chol[chol['HeartDisease']==1]\n",
        "nchol=len(nochol)\n",
        "nchol"
      ]
    },
    {
      "cell_type": "markdown",
      "id": "b317bb57-4bbd-4eda-b9f3-52b6972713e2",
      "metadata": {
        "id": "b317bb57-4bbd-4eda-b9f3-52b6972713e2"
      },
      "source": [
        "Per the above output, we realized that there are 59 patient out of 150 patient with normal cholesterol level who had heart disease.   "
      ]
    },
    {
      "cell_type": "code",
      "execution_count": null,
      "id": "cfee6288-9d50-4027-97ad-f514c5311111",
      "metadata": {
        "id": "cfee6288-9d50-4027-97ad-f514c5311111",
        "outputId": "cfe38082-cc3d-4e39-e242-a38be18e5a1a"
      },
      "outputs": [
        {
          "name": "stdout",
          "output_type": "stream",
          "text": [
            "There are 768 patient with high cholesterol levels\n"
          ]
        }
      ],
      "source": [
        "#Finding the number of patient with high cholesterol level(200+) who had heart disease\n",
        "# Outputting the number of patients with the high cholesterol levels\n",
        "hchol=proj[proj['Cholesterol']>200]\n",
        "print('There are',len(hchol),'patient with high cholesterol levels')"
      ]
    },
    {
      "cell_type": "code",
      "execution_count": null,
      "id": "7c6467d6-10df-48cd-a19c-44daa7cc215d",
      "metadata": {
        "id": "7c6467d6-10df-48cd-a19c-44daa7cc215d",
        "outputId": "16a91417-cec2-4003-c7f0-407594d9b1f6"
      },
      "outputs": [
        {
          "data": {
            "text/plain": [
              "449"
            ]
          },
          "execution_count": 812,
          "metadata": {},
          "output_type": "execute_result"
        }
      ],
      "source": [
        "#finding those patients with high cholesterol level that had heart disease\n",
        "morchol=hchol[hchol['HeartDisease']==1]\n",
        "hd=len(morchol)\n",
        "hd"
      ]
    },
    {
      "cell_type": "markdown",
      "id": "c32c7a80-3329-46da-ab8c-413626b4a0f9",
      "metadata": {
        "id": "c32c7a80-3329-46da-ab8c-413626b4a0f9"
      },
      "source": [
        "Per the above output, we realized that there are 449 patient out of 768 patient with high cholesterol level who had heart disease.  "
      ]
    },
    {
      "cell_type": "code",
      "execution_count": null,
      "id": "13613fd2-0b6c-46c4-9370-448dfdd46a8c",
      "metadata": {
        "id": "13613fd2-0b6c-46c4-9370-448dfdd46a8c",
        "outputId": "bc5df67a-b116-47ce-951b-79c4661daca8"
      },
      "outputs": [
        {
          "data": {
            "image/png": "[encoded data removed]",
            "text/plain": [
              "<Figure size 640x480 with 1 Axes>"
            ]
          },
          "metadata": {},
          "output_type": "display_data"
        }
      ],
      "source": [
        "# Visualizing the  patients without the disease\n",
        "labels = 'High cholesterol level with heart disease ', 'normal cholesterol level with heart desease'\n",
        "sizes = [hd, nchol]\n",
        "plt.pie(sizes, labels=labels, autopct='%1.1f%%', startangle=90)\n",
        "plt.title(\"Distribution of Cholesterol levels  \")\n",
        "plt.show()"
      ]
    },
    {
      "cell_type": "markdown",
      "id": "3912fb1f-47d0-4616-a272-8e4f59695161",
      "metadata": {
        "id": "3912fb1f-47d0-4616-a272-8e4f59695161"
      },
      "source": [
        "88.4% of 768 patient with high cholesterol had heart disease whereas 11.6% of 150 patient with normal heart cholesterol had heart disease.\n"
      ]
    },
    {
      "cell_type": "code",
      "execution_count": null,
      "id": "8412b90b-f2c0-451c-bba8-dc24759a4b51",
      "metadata": {
        "id": "8412b90b-f2c0-451c-bba8-dc24759a4b51",
        "outputId": "0b22fc12-07a7-4354-e889-93ba22f76d91"
      },
      "outputs": [
        {
          "data": {
            "text/plain": [
              "371"
            ]
          },
          "execution_count": 814,
          "metadata": {},
          "output_type": "execute_result"
        }
      ],
      "source": [
        "# Selecting patient who have ExerciseAngina\n",
        "Hex=proj[proj['ExerciseAngina']=='Y']\n",
        "len(Hex)\n"
      ]
    },
    {
      "cell_type": "markdown",
      "id": "f4673d01-e987-4c79-923f-8d43cba04f1a",
      "metadata": {
        "id": "f4673d01-e987-4c79-923f-8d43cba04f1a"
      },
      "source": [
        "From the above output, there are 371 patient with ExerciseAngina"
      ]
    },
    {
      "cell_type": "code",
      "execution_count": null,
      "id": "3f784fea-c65c-457e-9bd7-b2a90188c089",
      "metadata": {
        "id": "3f784fea-c65c-457e-9bd7-b2a90188c089",
        "outputId": "bd0c1fd4-5681-426e-ddfb-89b043875415"
      },
      "outputs": [
        {
          "data": {
            "text/plain": [
              "329"
            ]
          },
          "execution_count": 815,
          "metadata": {},
          "output_type": "execute_result"
        }
      ],
      "source": [
        "# Finding the number of patient with ExerciseAngina whose Cholesterol level is above 200\n",
        "hi=Hex[Hex['Cholesterol']>200]\n",
        "len(hi)"
      ]
    },
    {
      "cell_type": "markdown",
      "id": "4d50be15-eff9-4eb7-84a1-d80a8a8f2e35",
      "metadata": {
        "id": "4d50be15-eff9-4eb7-84a1-d80a8a8f2e35"
      },
      "source": [
        "There are 329 patients with ExerciseAnigina whose cholesterol level is above 200."
      ]
    },
    {
      "cell_type": "code",
      "execution_count": null,
      "id": "f866cbe9-af21-4463-b690-1c97ab928735",
      "metadata": {
        "id": "f866cbe9-af21-4463-b690-1c97ab928735",
        "outputId": "e2a94460-6073-4775-e0c7-6d8dc1279f1f"
      },
      "outputs": [
        {
          "data": {
            "text/plain": [
              "280"
            ]
          },
          "execution_count": 816,
          "metadata": {},
          "output_type": "execute_result"
        }
      ],
      "source": [
        "# let find the number of patients with heart disease who have ExerciseAngina and thier Cholesterol level is above 200\n",
        "pwith=hi[hi['HeartDisease']==1]\n",
        "have=len(pwith)\n",
        "have"
      ]
    },
    {
      "cell_type": "markdown",
      "id": "7a2b1fe3-31f6-4207-96dc-0d61f1e6f94d",
      "metadata": {
        "id": "7a2b1fe3-31f6-4207-96dc-0d61f1e6f94d"
      },
      "source": [
        "There are 280 patients with ExerciseAnigina whose cholesterol level is above 200 and have heart disease."
      ]
    },
    {
      "cell_type": "code",
      "execution_count": null,
      "id": "76d571bd-a545-434a-af7e-af86a0812592",
      "metadata": {
        "id": "76d571bd-a545-434a-af7e-af86a0812592",
        "outputId": "995dc834-3ca5-4b9b-ee62-3a49d693c880"
      },
      "outputs": [
        {
          "data": {
            "text/html": [
              "<div>\n",
              "<style scoped>\n",
              "    .dataframe tbody tr th:only-of-type {\n",
              "        vertical-align: middle;\n",
              "    }\n",
              "\n",
              "    .dataframe tbody tr th {\n",
              "        vertical-align: top;\n",
              "    }\n",
              "\n",
              "    .dataframe thead th {\n",
              "        text-align: right;\n",
              "    }\n",
              "</style>\n",
              "<table border=\"1\" class=\"dataframe\">\n",
              "  <thead>\n",
              "    <tr style=\"text-align: right;\">\n",
              "      <th></th>\n",
              "      <th>Age</th>\n",
              "      <th>Sex</th>\n",
              "      <th>ChestPainType</th>\n",
              "      <th>RestingBP</th>\n",
              "      <th>Cholesterol</th>\n",
              "      <th>FastingBS</th>\n",
              "      <th>RestingECG</th>\n",
              "      <th>MaxHR</th>\n",
              "      <th>ExerciseAngina</th>\n",
              "      <th>Oldpeak</th>\n",
              "      <th>ST_Slope</th>\n",
              "      <th>HeartDisease</th>\n",
              "    </tr>\n",
              "  </thead>\n",
              "  <tbody>\n",
              "    <tr>\n",
              "      <th>0</th>\n",
              "      <td>40</td>\n",
              "      <td>M</td>\n",
              "      <td>ATA</td>\n",
              "      <td>140</td>\n",
              "      <td>289</td>\n",
              "      <td>0</td>\n",
              "      <td>Normal</td>\n",
              "      <td>172</td>\n",
              "      <td>N</td>\n",
              "      <td>0.0</td>\n",
              "      <td>Up</td>\n",
              "      <td>0</td>\n",
              "    </tr>\n",
              "    <tr>\n",
              "      <th>1</th>\n",
              "      <td>49</td>\n",
              "      <td>F</td>\n",
              "      <td>NAP</td>\n",
              "      <td>160</td>\n",
              "      <td>180</td>\n",
              "      <td>0</td>\n",
              "      <td>Normal</td>\n",
              "      <td>156</td>\n",
              "      <td>N</td>\n",
              "      <td>1.0</td>\n",
              "      <td>Flat</td>\n",
              "      <td>1</td>\n",
              "    </tr>\n",
              "    <tr>\n",
              "      <th>2</th>\n",
              "      <td>37</td>\n",
              "      <td>M</td>\n",
              "      <td>ATA</td>\n",
              "      <td>130</td>\n",
              "      <td>283</td>\n",
              "      <td>0</td>\n",
              "      <td>ST</td>\n",
              "      <td>98</td>\n",
              "      <td>N</td>\n",
              "      <td>0.0</td>\n",
              "      <td>Up</td>\n",
              "      <td>0</td>\n",
              "    </tr>\n",
              "    <tr>\n",
              "      <th>4</th>\n",
              "      <td>54</td>\n",
              "      <td>M</td>\n",
              "      <td>NAP</td>\n",
              "      <td>150</td>\n",
              "      <td>195</td>\n",
              "      <td>0</td>\n",
              "      <td>Normal</td>\n",
              "      <td>122</td>\n",
              "      <td>N</td>\n",
              "      <td>0.0</td>\n",
              "      <td>Up</td>\n",
              "      <td>0</td>\n",
              "    </tr>\n",
              "    <tr>\n",
              "      <th>5</th>\n",
              "      <td>39</td>\n",
              "      <td>M</td>\n",
              "      <td>NAP</td>\n",
              "      <td>120</td>\n",
              "      <td>339</td>\n",
              "      <td>0</td>\n",
              "      <td>Normal</td>\n",
              "      <td>170</td>\n",
              "      <td>N</td>\n",
              "      <td>0.0</td>\n",
              "      <td>Up</td>\n",
              "      <td>0</td>\n",
              "    </tr>\n",
              "    <tr>\n",
              "      <th>...</th>\n",
              "      <td>...</td>\n",
              "      <td>...</td>\n",
              "      <td>...</td>\n",
              "      <td>...</td>\n",
              "      <td>...</td>\n",
              "      <td>...</td>\n",
              "      <td>...</td>\n",
              "      <td>...</td>\n",
              "      <td>...</td>\n",
              "      <td>...</td>\n",
              "      <td>...</td>\n",
              "      <td>...</td>\n",
              "    </tr>\n",
              "    <tr>\n",
              "      <th>911</th>\n",
              "      <td>59</td>\n",
              "      <td>M</td>\n",
              "      <td>ASY</td>\n",
              "      <td>164</td>\n",
              "      <td>176</td>\n",
              "      <td>1</td>\n",
              "      <td>LVH</td>\n",
              "      <td>90</td>\n",
              "      <td>N</td>\n",
              "      <td>1.0</td>\n",
              "      <td>Flat</td>\n",
              "      <td>1</td>\n",
              "    </tr>\n",
              "    <tr>\n",
              "      <th>913</th>\n",
              "      <td>45</td>\n",
              "      <td>M</td>\n",
              "      <td>TA</td>\n",
              "      <td>110</td>\n",
              "      <td>264</td>\n",
              "      <td>0</td>\n",
              "      <td>Normal</td>\n",
              "      <td>132</td>\n",
              "      <td>N</td>\n",
              "      <td>1.2</td>\n",
              "      <td>Flat</td>\n",
              "      <td>1</td>\n",
              "    </tr>\n",
              "    <tr>\n",
              "      <th>914</th>\n",
              "      <td>68</td>\n",
              "      <td>M</td>\n",
              "      <td>ASY</td>\n",
              "      <td>144</td>\n",
              "      <td>193</td>\n",
              "      <td>1</td>\n",
              "      <td>Normal</td>\n",
              "      <td>141</td>\n",
              "      <td>N</td>\n",
              "      <td>3.4</td>\n",
              "      <td>Flat</td>\n",
              "      <td>1</td>\n",
              "    </tr>\n",
              "    <tr>\n",
              "      <th>916</th>\n",
              "      <td>57</td>\n",
              "      <td>F</td>\n",
              "      <td>ATA</td>\n",
              "      <td>130</td>\n",
              "      <td>236</td>\n",
              "      <td>0</td>\n",
              "      <td>LVH</td>\n",
              "      <td>174</td>\n",
              "      <td>N</td>\n",
              "      <td>0.0</td>\n",
              "      <td>Flat</td>\n",
              "      <td>1</td>\n",
              "    </tr>\n",
              "    <tr>\n",
              "      <th>917</th>\n",
              "      <td>38</td>\n",
              "      <td>M</td>\n",
              "      <td>NAP</td>\n",
              "      <td>138</td>\n",
              "      <td>175</td>\n",
              "      <td>0</td>\n",
              "      <td>Normal</td>\n",
              "      <td>173</td>\n",
              "      <td>N</td>\n",
              "      <td>0.0</td>\n",
              "      <td>Up</td>\n",
              "      <td>0</td>\n",
              "    </tr>\n",
              "  </tbody>\n",
              "</table>\n",
              "<p>547 rows × 12 columns</p>\n",
              "</div>"
            ],
            "text/plain": [
              "     Age Sex ChestPainType  RestingBP  Cholesterol  FastingBS RestingECG  \\\n",
              "0     40   M           ATA        140          289          0     Normal   \n",
              "1     49   F           NAP        160          180          0     Normal   \n",
              "2     37   M           ATA        130          283          0         ST   \n",
              "4     54   M           NAP        150          195          0     Normal   \n",
              "5     39   M           NAP        120          339          0     Normal   \n",
              "..   ...  ..           ...        ...          ...        ...        ...   \n",
              "911   59   M           ASY        164          176          1        LVH   \n",
              "913   45   M            TA        110          264          0     Normal   \n",
              "914   68   M           ASY        144          193          1     Normal   \n",
              "916   57   F           ATA        130          236          0        LVH   \n",
              "917   38   M           NAP        138          175          0     Normal   \n",
              "\n",
              "     MaxHR ExerciseAngina  Oldpeak ST_Slope  HeartDisease  \n",
              "0      172              N      0.0       Up             0  \n",
              "1      156              N      1.0     Flat             1  \n",
              "2       98              N      0.0       Up             0  \n",
              "4      122              N      0.0       Up             0  \n",
              "5      170              N      0.0       Up             0  \n",
              "..     ...            ...      ...      ...           ...  \n",
              "911     90              N      1.0     Flat             1  \n",
              "913    132              N      1.2     Flat             1  \n",
              "914    141              N      3.4     Flat             1  \n",
              "916    174              N      0.0     Flat             1  \n",
              "917    173              N      0.0       Up             0  \n",
              "\n",
              "[547 rows x 12 columns]"
            ]
          },
          "execution_count": 817,
          "metadata": {},
          "output_type": "execute_result"
        }
      ],
      "source": [
        "# Selecting patient who do not have ExerciseAngina\n",
        "don=proj[proj['ExerciseAngina']=='N']\n",
        "don"
      ]
    },
    {
      "cell_type": "code",
      "execution_count": null,
      "id": "0d7c0f44-42e5-4327-b807-a49cfefacfb6",
      "metadata": {
        "id": "0d7c0f44-42e5-4327-b807-a49cfefacfb6",
        "outputId": "c49f3eb9-8782-420a-f577-6173356e8095"
      },
      "outputs": [
        {
          "data": {
            "text/plain": [
              "439"
            ]
          },
          "execution_count": 818,
          "metadata": {},
          "output_type": "execute_result"
        }
      ],
      "source": [
        "#finding the number of patient without ExerciseAngina whose Cholesterol level is above 200\n",
        "without=don[don['Cholesterol']>200]\n",
        "len(without)"
      ]
    },
    {
      "cell_type": "markdown",
      "id": "405f54ce-155d-4963-a909-afdf9d5640e9",
      "metadata": {
        "id": "405f54ce-155d-4963-a909-afdf9d5640e9"
      },
      "source": [
        "There are 439 patients without ExerciseAnigina whose cholesterol level is above 200."
      ]
    },
    {
      "cell_type": "code",
      "execution_count": null,
      "id": "7165e43e-0660-4b82-bbf3-95a7cbeb3707",
      "metadata": {
        "id": "7165e43e-0660-4b82-bbf3-95a7cbeb3707",
        "outputId": "25660505-7cc8-4228-c876-c5aff6e16d6b"
      },
      "outputs": [
        {
          "data": {
            "text/plain": [
              "169"
            ]
          },
          "execution_count": 819,
          "metadata": {},
          "output_type": "execute_result"
        }
      ],
      "source": [
        "# let find the number of patients with heart disease,who do not have ExerciseAngina and thier Cholesterol level is above 200\n",
        "pwitho=without[without['HeartDisease']==1]\n",
        "dhave=len(pwitho)\n",
        "dhave"
      ]
    },
    {
      "cell_type": "markdown",
      "id": "74628dc7-e269-434e-8c26-b0ab97b95415",
      "metadata": {
        "id": "74628dc7-e269-434e-8c26-b0ab97b95415"
      },
      "source": [
        "Patients without ExerciseAnigina whose cholesterol level is above 200 and had the heart disease."
      ]
    },
    {
      "cell_type": "markdown",
      "id": "5f7f3656-bdc4-49a2-a180-f21557753cf5",
      "metadata": {
        "id": "5f7f3656-bdc4-49a2-a180-f21557753cf5"
      },
      "source": [
        "Let make a visulization to answer the question we previousely asked.  "
      ]
    },
    {
      "cell_type": "code",
      "execution_count": null,
      "id": "86d633ca-597e-4df0-8d95-240d88c08ead",
      "metadata": {
        "id": "86d633ca-597e-4df0-8d95-240d88c08ead",
        "outputId": "3e5c8c9f-6b6c-42a8-ba57-f36abf8b20a2"
      },
      "outputs": [
        {
          "data": {
            "image/png": "[encoded data removed]",
            "text/plain": [
              "<Figure size 640x480 with 1 Axes>"
            ]
          },
          "metadata": {},
          "output_type": "display_data"
        }
      ],
      "source": [
        "# Visualizing patient with high cholestrol and Exercise Angina\n",
        "labels = 'Patient with ExerciseAngina and High Cholestrol', 'Patient without ExerciseAngina but High Cholestrol'\n",
        "sizes = [have, dhave ]\n",
        "plt.pie(sizes, labels=labels, autopct='%1.1f%%')\n",
        "plt.title(\"Distribution of patient with high cholestrol and Exercise Angina  \")\n",
        "plt.show()"
      ]
    },
    {
      "cell_type": "markdown",
      "id": "96486daa-773e-4b64-a2f9-26140ff058b8",
      "metadata": {
        "id": "96486daa-773e-4b64-a2f9-26140ff058b8"
      },
      "source": [
        "With this visualization, we can now say that indeed patient who have high cholestrol with Exercise Angina have higher chances of getting heart disease compared to those without ExerciseAngina but with high cholesterol."
      ]
    },
    {
      "cell_type": "markdown",
      "id": "64973baf-68ff-4b3e-bce4-c3d373cbd43a",
      "metadata": {
        "id": "64973baf-68ff-4b3e-bce4-c3d373cbd43a"
      },
      "source": [
        "-let us make some inference from the above visualizations;\n",
        "ChestPain:\n",
        "- This is one of the major causes of heart disease. Amoung all the various type of chest pains,we realized that patient with AYS(Asymptomatic)chest pains have a higher chances of getting heart disease as 400 out of 496 patient with ASY(Asymptomatic) chest pain end up getting heart disease.\n",
        "Cholesterol:\n",
        "- We realized that patient with higher cholesterol level had heart disease compared to patient with low cholesterol level,88.4% of 768 patient with high cholesterol level had heart disease whilest 11.6% of 150 patient with low cholesterol level had heart diease.\n",
        "ExerciseAngina:\n",
        "- There 371 patient with ExerciseAngina out of which 329 had high cholesterol level,out of the total patient with ExerciseAngina and high cholesterol level, 280(62.4%) had the heart disease.\n",
        "- - There where 547 patient without ExerciseAngina of which 439 had high cholesterol level,169(37.6%) of patient withot ExerciseAngina and have high cholesterol level didnt have the heart disease. we can say that patient with ExerciseAngina have a higher cholesterol level have higher chances of getting heart diease.    "
      ]
    },
    {
      "cell_type": "markdown",
      "id": "d7729cf0-bf80-48f8-afff-8b796e1efe28",
      "metadata": {
        "id": "d7729cf0-bf80-48f8-afff-8b796e1efe28"
      },
      "source": [
        "Since we have been able to draw some level of insights from our dataset, let us take a step further by tackling our categorical varibles.   "
      ]
    },
    {
      "cell_type": "code",
      "execution_count": null,
      "id": "202b4cda-a5ae-4d09-ad70-dea2f3a97c71",
      "metadata": {
        "id": "202b4cda-a5ae-4d09-ad70-dea2f3a97c71",
        "outputId": "5ece8e2d-1f9b-45b2-f94c-0b265f67f546"
      },
      "outputs": [
        {
          "data": {
            "text/html": [
              "<div>\n",
              "<style scoped>\n",
              "    .dataframe tbody tr th:only-of-type {\n",
              "        vertical-align: middle;\n",
              "    }\n",
              "\n",
              "    .dataframe tbody tr th {\n",
              "        vertical-align: top;\n",
              "    }\n",
              "\n",
              "    .dataframe thead th {\n",
              "        text-align: right;\n",
              "    }\n",
              "</style>\n",
              "<table border=\"1\" class=\"dataframe\">\n",
              "  <thead>\n",
              "    <tr style=\"text-align: right;\">\n",
              "      <th></th>\n",
              "      <th>Age</th>\n",
              "      <th>Sex</th>\n",
              "      <th>ChestPainType</th>\n",
              "      <th>RestingBP</th>\n",
              "      <th>Cholesterol</th>\n",
              "      <th>FastingBS</th>\n",
              "      <th>RestingECG</th>\n",
              "      <th>MaxHR</th>\n",
              "      <th>ExerciseAngina</th>\n",
              "      <th>Oldpeak</th>\n",
              "      <th>ST_Slope</th>\n",
              "      <th>HeartDisease</th>\n",
              "    </tr>\n",
              "  </thead>\n",
              "  <tbody>\n",
              "    <tr>\n",
              "      <th>0</th>\n",
              "      <td>40</td>\n",
              "      <td>M</td>\n",
              "      <td>ATA</td>\n",
              "      <td>140</td>\n",
              "      <td>289</td>\n",
              "      <td>0</td>\n",
              "      <td>Normal</td>\n",
              "      <td>172</td>\n",
              "      <td>N</td>\n",
              "      <td>0.0</td>\n",
              "      <td>Up</td>\n",
              "      <td>0</td>\n",
              "    </tr>\n",
              "    <tr>\n",
              "      <th>1</th>\n",
              "      <td>49</td>\n",
              "      <td>F</td>\n",
              "      <td>NAP</td>\n",
              "      <td>160</td>\n",
              "      <td>180</td>\n",
              "      <td>0</td>\n",
              "      <td>Normal</td>\n",
              "      <td>156</td>\n",
              "      <td>N</td>\n",
              "      <td>1.0</td>\n",
              "      <td>Flat</td>\n",
              "      <td>1</td>\n",
              "    </tr>\n",
              "    <tr>\n",
              "      <th>2</th>\n",
              "      <td>37</td>\n",
              "      <td>M</td>\n",
              "      <td>ATA</td>\n",
              "      <td>130</td>\n",
              "      <td>283</td>\n",
              "      <td>0</td>\n",
              "      <td>ST</td>\n",
              "      <td>98</td>\n",
              "      <td>N</td>\n",
              "      <td>0.0</td>\n",
              "      <td>Up</td>\n",
              "      <td>0</td>\n",
              "    </tr>\n",
              "    <tr>\n",
              "      <th>3</th>\n",
              "      <td>48</td>\n",
              "      <td>F</td>\n",
              "      <td>ASY</td>\n",
              "      <td>138</td>\n",
              "      <td>214</td>\n",
              "      <td>0</td>\n",
              "      <td>Normal</td>\n",
              "      <td>108</td>\n",
              "      <td>Y</td>\n",
              "      <td>1.5</td>\n",
              "      <td>Flat</td>\n",
              "      <td>1</td>\n",
              "    </tr>\n",
              "    <tr>\n",
              "      <th>4</th>\n",
              "      <td>54</td>\n",
              "      <td>M</td>\n",
              "      <td>NAP</td>\n",
              "      <td>150</td>\n",
              "      <td>195</td>\n",
              "      <td>0</td>\n",
              "      <td>Normal</td>\n",
              "      <td>122</td>\n",
              "      <td>N</td>\n",
              "      <td>0.0</td>\n",
              "      <td>Up</td>\n",
              "      <td>0</td>\n",
              "    </tr>\n",
              "  </tbody>\n",
              "</table>\n",
              "</div>"
            ],
            "text/plain": [
              "   Age Sex ChestPainType  RestingBP  Cholesterol  FastingBS RestingECG  MaxHR  \\\n",
              "0   40   M           ATA        140          289          0     Normal    172   \n",
              "1   49   F           NAP        160          180          0     Normal    156   \n",
              "2   37   M           ATA        130          283          0         ST     98   \n",
              "3   48   F           ASY        138          214          0     Normal    108   \n",
              "4   54   M           NAP        150          195          0     Normal    122   \n",
              "\n",
              "  ExerciseAngina  Oldpeak ST_Slope  HeartDisease  \n",
              "0              N      0.0       Up             0  \n",
              "1              N      1.0     Flat             1  \n",
              "2              N      0.0       Up             0  \n",
              "3              Y      1.5     Flat             1  \n",
              "4              N      0.0       Up             0  "
            ]
          },
          "execution_count": 821,
          "metadata": {},
          "output_type": "execute_result"
        }
      ],
      "source": [
        "# Taking a second look at our data.\n",
        "proj.head()"
      ]
    },
    {
      "cell_type": "code",
      "execution_count": null,
      "id": "5d7f2a35-dc93-4ad5-b635-8770d864dafe",
      "metadata": {
        "id": "5d7f2a35-dc93-4ad5-b635-8770d864dafe"
      },
      "outputs": [],
      "source": [
        "# Encoding all catigorical columns using the LabelEncoder\n",
        "le = LabelEncoder()\n",
        "proj['Sex']=le.fit_transform(proj['Sex'])\n",
        "proj['ExerciseAngina']=le.fit_transform(proj['ExerciseAngina'])\n",
        "proj['ChestPainType']=le.fit_transform(proj['ChestPainType'])\n",
        "proj['RestingECG']=le.fit_transform(proj['RestingECG'])\n",
        "proj['ST_Slope']=le.fit_transform(proj['ST_Slope'])"
      ]
    },
    {
      "cell_type": "code",
      "execution_count": null,
      "id": "4a508983-0af8-46f6-ae28-02fa7d7303f8",
      "metadata": {
        "id": "4a508983-0af8-46f6-ae28-02fa7d7303f8",
        "outputId": "27bff23c-1b5a-4011-a956-2da3680dd43b"
      },
      "outputs": [
        {
          "data": {
            "text/html": [
              "<div>\n",
              "<style scoped>\n",
              "    .dataframe tbody tr th:only-of-type {\n",
              "        vertical-align: middle;\n",
              "    }\n",
              "\n",
              "    .dataframe tbody tr th {\n",
              "        vertical-align: top;\n",
              "    }\n",
              "\n",
              "    .dataframe thead th {\n",
              "        text-align: right;\n",
              "    }\n",
              "</style>\n",
              "<table border=\"1\" class=\"dataframe\">\n",
              "  <thead>\n",
              "    <tr style=\"text-align: right;\">\n",
              "      <th></th>\n",
              "      <th>Age</th>\n",
              "      <th>Sex</th>\n",
              "      <th>ChestPainType</th>\n",
              "      <th>RestingBP</th>\n",
              "      <th>Cholesterol</th>\n",
              "      <th>FastingBS</th>\n",
              "      <th>RestingECG</th>\n",
              "      <th>MaxHR</th>\n",
              "      <th>ExerciseAngina</th>\n",
              "      <th>Oldpeak</th>\n",
              "      <th>ST_Slope</th>\n",
              "      <th>HeartDisease</th>\n",
              "    </tr>\n",
              "  </thead>\n",
              "  <tbody>\n",
              "    <tr>\n",
              "      <th>0</th>\n",
              "      <td>40</td>\n",
              "      <td>1</td>\n",
              "      <td>1</td>\n",
              "      <td>140</td>\n",
              "      <td>289</td>\n",
              "      <td>0</td>\n",
              "      <td>1</td>\n",
              "      <td>172</td>\n",
              "      <td>0</td>\n",
              "      <td>0.0</td>\n",
              "      <td>2</td>\n",
              "      <td>0</td>\n",
              "    </tr>\n",
              "    <tr>\n",
              "      <th>1</th>\n",
              "      <td>49</td>\n",
              "      <td>0</td>\n",
              "      <td>2</td>\n",
              "      <td>160</td>\n",
              "      <td>180</td>\n",
              "      <td>0</td>\n",
              "      <td>1</td>\n",
              "      <td>156</td>\n",
              "      <td>0</td>\n",
              "      <td>1.0</td>\n",
              "      <td>1</td>\n",
              "      <td>1</td>\n",
              "    </tr>\n",
              "    <tr>\n",
              "      <th>2</th>\n",
              "      <td>37</td>\n",
              "      <td>1</td>\n",
              "      <td>1</td>\n",
              "      <td>130</td>\n",
              "      <td>283</td>\n",
              "      <td>0</td>\n",
              "      <td>2</td>\n",
              "      <td>98</td>\n",
              "      <td>0</td>\n",
              "      <td>0.0</td>\n",
              "      <td>2</td>\n",
              "      <td>0</td>\n",
              "    </tr>\n",
              "    <tr>\n",
              "      <th>3</th>\n",
              "      <td>48</td>\n",
              "      <td>0</td>\n",
              "      <td>0</td>\n",
              "      <td>138</td>\n",
              "      <td>214</td>\n",
              "      <td>0</td>\n",
              "      <td>1</td>\n",
              "      <td>108</td>\n",
              "      <td>1</td>\n",
              "      <td>1.5</td>\n",
              "      <td>1</td>\n",
              "      <td>1</td>\n",
              "    </tr>\n",
              "    <tr>\n",
              "      <th>4</th>\n",
              "      <td>54</td>\n",
              "      <td>1</td>\n",
              "      <td>2</td>\n",
              "      <td>150</td>\n",
              "      <td>195</td>\n",
              "      <td>0</td>\n",
              "      <td>1</td>\n",
              "      <td>122</td>\n",
              "      <td>0</td>\n",
              "      <td>0.0</td>\n",
              "      <td>2</td>\n",
              "      <td>0</td>\n",
              "    </tr>\n",
              "  </tbody>\n",
              "</table>\n",
              "</div>"
            ],
            "text/plain": [
              "   Age  Sex  ChestPainType  RestingBP  Cholesterol  FastingBS  RestingECG  \\\n",
              "0   40    1              1        140          289          0           1   \n",
              "1   49    0              2        160          180          0           1   \n",
              "2   37    1              1        130          283          0           2   \n",
              "3   48    0              0        138          214          0           1   \n",
              "4   54    1              2        150          195          0           1   \n",
              "\n",
              "   MaxHR  ExerciseAngina  Oldpeak  ST_Slope  HeartDisease  \n",
              "0    172               0      0.0         2             0  \n",
              "1    156               0      1.0         1             1  \n",
              "2     98               0      0.0         2             0  \n",
              "3    108               1      1.5         1             1  \n",
              "4    122               0      0.0         2             0  "
            ]
          },
          "execution_count": 823,
          "metadata": {},
          "output_type": "execute_result"
        }
      ],
      "source": [
        "# Taking a look at the data once more to be sure the categorical variables are endcoded.\n",
        "proj.head()"
      ]
    },
    {
      "cell_type": "markdown",
      "id": "678ab703-0e34-4827-a0d2-f21ed115adb6",
      "metadata": {
        "id": "678ab703-0e34-4827-a0d2-f21ed115adb6"
      },
      "source": []
    },
    {
      "cell_type": "code",
      "execution_count": null,
      "id": "1530c799-17aa-45f0-864c-5417100e4ab8",
      "metadata": {
        "id": "1530c799-17aa-45f0-864c-5417100e4ab8",
        "outputId": "6e6f04d6-ab9e-4d9f-8a8b-66ec4faa9998"
      },
      "outputs": [
        {
          "data": {
            "image/png": "[encoded data removed]",
            "text/plain": [
              "<Figure size 1000x600 with 2 Axes>"
            ]
          },
          "metadata": {},
          "output_type": "display_data"
        }
      ],
      "source": [
        "# Checking the correlation matrix between various features in the data.\n",
        "plt.figure(figsize=(10,6 ))\n",
        "sns.heatmap(proj.corr(), annot=True, cmap='coolwarm', fmt=\".2f\")\n",
        "plt.title('Correlation Matrix of Features')\n",
        "plt.show()"
      ]
    },
    {
      "cell_type": "markdown",
      "id": "b8c7ef5d-2951-4c14-a6df-843a24f72bf7",
      "metadata": {
        "id": "b8c7ef5d-2951-4c14-a6df-843a24f72bf7"
      },
      "source": [
        "The above heat map seeks to show the relationship between various features in the data. We would use the this map to access if there is any relationship between each of the vsrious features.\n",
        "\n",
        "- Age and Sex\n",
        "  There is a postive correlation between the age and sex features, this is just 0.06 making it postive but weak correlation. This means there is no way the age of a person is affected by their gender or the gender affected by the age.\n",
        "  \n",
        "- Age and ChestPainType\n",
        "  The relationship between age and ChestPainType is -0.08 which indicates that they are weakly negatively correlated. This could mean that the younger one is the lesser the chance of the person having chest pain.\n",
        "\n",
        "- Age and RestingBP\n",
        "  The correlation between age and restinbp is 0.25, and this indicates that they are positively correlated. This could mean that an older person could have a higher restingbp.  \n",
        "\n",
        "- Age and Cholesterol\n",
        "  The correlation between age and cholesterol is 0.03 and indicates they are weakly positively correlated. This could mean that the age of a person doesn't determine whether they might have a good or bad cholesterol.\n",
        "\n",
        "- Age and FastingBS\n",
        "  0.20 is the correlation between age and FastingBS, meaning they are positively correlated. This means that the fasting blood sugar of a person increases as his age increases.these increase is not immense as thier correlation value is 0.20\n",
        "\n",
        "  NB: Looking at the correlation matrix above, it is evident that there is a good relationship between the age feature and all of the other features ranging from ChestPainType, cholesterol, RestingBP, FastingBS, RestingECG, MaxHR, ExerciseAngina, Oldpeak, St-Slope and the actual label feature which is heart disease.\n",
        "\n",
        " Checking the relationship between the HeartDisease feature and most of the features, it shows that there are positive correlation between most of them. Looking especially at the HeartDisease feature with age, sex, cholesterol, chestpaintype, fastingBS, restingECG, ExerciseAngina and oldpeak, it is particularly evident that age, cholesterol, chestpaintype, ExerciseAngina and oldpeak.   "
      ]
    },
    {
      "cell_type": "markdown",
      "id": "9d2d68ef-7cfb-43f6-8651-c9fba848d274",
      "metadata": {
        "id": "9d2d68ef-7cfb-43f6-8651-c9fba848d274"
      },
      "source": [
        " Feature Scaling And Building Our Model"
      ]
    },
    {
      "cell_type": "markdown",
      "id": "8e2fbfbd-aefc-41d4-98cc-d2b910031163",
      "metadata": {
        "id": "8e2fbfbd-aefc-41d4-98cc-d2b910031163"
      },
      "source": [
        "Feature Scaling is done to reduce feature that have higher numerical values in other to prevent our models from being bais towards this high values when the model is making the prediction from the the train data it has learnt on.    "
      ]
    },
    {
      "cell_type": "code",
      "execution_count": null,
      "id": "40c2315f-bd47-4711-9fd3-54d9d5681a5e",
      "metadata": {
        "id": "40c2315f-bd47-4711-9fd3-54d9d5681a5e"
      },
      "outputs": [],
      "source": [
        "#let define our x and y variable\n",
        "X=proj.drop('HeartDisease', axis=1)\n",
        "Y=proj['HeartDisease']"
      ]
    },
    {
      "cell_type": "code",
      "execution_count": null,
      "id": "320692bb-b958-4d4c-ad77-370f4991297f",
      "metadata": {
        "id": "320692bb-b958-4d4c-ad77-370f4991297f",
        "outputId": "0db32c9d-ecd4-43e3-ccc4-3dce28ae9437"
      },
      "outputs": [
        {
          "data": {
            "text/html": [
              "<div>\n",
              "<style scoped>\n",
              "    .dataframe tbody tr th:only-of-type {\n",
              "        vertical-align: middle;\n",
              "    }\n",
              "\n",
              "    .dataframe tbody tr th {\n",
              "        vertical-align: top;\n",
              "    }\n",
              "\n",
              "    .dataframe thead th {\n",
              "        text-align: right;\n",
              "    }\n",
              "</style>\n",
              "<table border=\"1\" class=\"dataframe\">\n",
              "  <thead>\n",
              "    <tr style=\"text-align: right;\">\n",
              "      <th></th>\n",
              "      <th>Age</th>\n",
              "      <th>Sex</th>\n",
              "      <th>ChestPainType</th>\n",
              "      <th>RestingBP</th>\n",
              "      <th>Cholesterol</th>\n",
              "      <th>FastingBS</th>\n",
              "      <th>RestingECG</th>\n",
              "      <th>MaxHR</th>\n",
              "      <th>ExerciseAngina</th>\n",
              "      <th>Oldpeak</th>\n",
              "      <th>ST_Slope</th>\n",
              "    </tr>\n",
              "  </thead>\n",
              "  <tbody>\n",
              "    <tr>\n",
              "      <th>0</th>\n",
              "      <td>40</td>\n",
              "      <td>1</td>\n",
              "      <td>1</td>\n",
              "      <td>140</td>\n",
              "      <td>289</td>\n",
              "      <td>0</td>\n",
              "      <td>1</td>\n",
              "      <td>172</td>\n",
              "      <td>0</td>\n",
              "      <td>0.0</td>\n",
              "      <td>2</td>\n",
              "    </tr>\n",
              "    <tr>\n",
              "      <th>1</th>\n",
              "      <td>49</td>\n",
              "      <td>0</td>\n",
              "      <td>2</td>\n",
              "      <td>160</td>\n",
              "      <td>180</td>\n",
              "      <td>0</td>\n",
              "      <td>1</td>\n",
              "      <td>156</td>\n",
              "      <td>0</td>\n",
              "      <td>1.0</td>\n",
              "      <td>1</td>\n",
              "    </tr>\n",
              "    <tr>\n",
              "      <th>2</th>\n",
              "      <td>37</td>\n",
              "      <td>1</td>\n",
              "      <td>1</td>\n",
              "      <td>130</td>\n",
              "      <td>283</td>\n",
              "      <td>0</td>\n",
              "      <td>2</td>\n",
              "      <td>98</td>\n",
              "      <td>0</td>\n",
              "      <td>0.0</td>\n",
              "      <td>2</td>\n",
              "    </tr>\n",
              "    <tr>\n",
              "      <th>3</th>\n",
              "      <td>48</td>\n",
              "      <td>0</td>\n",
              "      <td>0</td>\n",
              "      <td>138</td>\n",
              "      <td>214</td>\n",
              "      <td>0</td>\n",
              "      <td>1</td>\n",
              "      <td>108</td>\n",
              "      <td>1</td>\n",
              "      <td>1.5</td>\n",
              "      <td>1</td>\n",
              "    </tr>\n",
              "    <tr>\n",
              "      <th>4</th>\n",
              "      <td>54</td>\n",
              "      <td>1</td>\n",
              "      <td>2</td>\n",
              "      <td>150</td>\n",
              "      <td>195</td>\n",
              "      <td>0</td>\n",
              "      <td>1</td>\n",
              "      <td>122</td>\n",
              "      <td>0</td>\n",
              "      <td>0.0</td>\n",
              "      <td>2</td>\n",
              "    </tr>\n",
              "  </tbody>\n",
              "</table>\n",
              "</div>"
            ],
            "text/plain": [
              "   Age  Sex  ChestPainType  RestingBP  Cholesterol  FastingBS  RestingECG  \\\n",
              "0   40    1              1        140          289          0           1   \n",
              "1   49    0              2        160          180          0           1   \n",
              "2   37    1              1        130          283          0           2   \n",
              "3   48    0              0        138          214          0           1   \n",
              "4   54    1              2        150          195          0           1   \n",
              "\n",
              "   MaxHR  ExerciseAngina  Oldpeak  ST_Slope  \n",
              "0    172               0      0.0         2  \n",
              "1    156               0      1.0         1  \n",
              "2     98               0      0.0         2  \n",
              "3    108               1      1.5         1  \n",
              "4    122               0      0.0         2  "
            ]
          },
          "execution_count": 828,
          "metadata": {},
          "output_type": "execute_result"
        }
      ],
      "source": [
        "#let have a look at our X vriable. X will be without our label feature (y-variable) that is HeartDisease\n",
        "X.head()"
      ]
    },
    {
      "cell_type": "code",
      "execution_count": null,
      "id": "1fbdf985-61a8-454a-8f26-b7edcc32eaa1",
      "metadata": {
        "id": "1fbdf985-61a8-454a-8f26-b7edcc32eaa1",
        "outputId": "3ccf89ef-7df6-44bc-9e7a-f69f5f0e8d1e"
      },
      "outputs": [
        {
          "data": {
            "text/plain": [
              "918"
            ]
          },
          "execution_count": 829,
          "metadata": {},
          "output_type": "execute_result"
        }
      ],
      "source": [
        "#Checking the entries in the X in our data\n",
        "len(X)"
      ]
    },
    {
      "cell_type": "markdown",
      "id": "2352b9b1-3663-4c61-b6f4-e18fac430b19",
      "metadata": {
        "id": "2352b9b1-3663-4c61-b6f4-e18fac430b19"
      },
      "source": [
        "There are 918 entries in the X"
      ]
    },
    {
      "cell_type": "code",
      "execution_count": null,
      "id": "e6eaf33c-c72b-4264-b1dc-0892b15d5f89",
      "metadata": {
        "id": "e6eaf33c-c72b-4264-b1dc-0892b15d5f89",
        "outputId": "e6b12ac6-10a1-40f2-a010-25799ab92960"
      },
      "outputs": [
        {
          "data": {
            "text/plain": [
              "0    0\n",
              "1    1\n",
              "2    0\n",
              "3    1\n",
              "4    0\n",
              "Name: HeartDisease, dtype: int64"
            ]
          },
          "execution_count": 830,
          "metadata": {},
          "output_type": "execute_result"
        }
      ],
      "source": [
        "# Havig a look at our Y variable. Y contains ouy label feature\n",
        "Y.head()"
      ]
    },
    {
      "cell_type": "code",
      "execution_count": null,
      "id": "2edc219f-2c74-4f30-98d3-a5d8a92a83bb",
      "metadata": {
        "id": "2edc219f-2c74-4f30-98d3-a5d8a92a83bb",
        "outputId": "da4beaf5-9d22-4ee2-cd0c-3d131def5876"
      },
      "outputs": [
        {
          "data": {
            "text/plain": [
              "918"
            ]
          },
          "execution_count": 831,
          "metadata": {},
          "output_type": "execute_result"
        }
      ],
      "source": [
        "# Checking the number of entries in the Y label.\n",
        "len(Y)"
      ]
    },
    {
      "cell_type": "markdown",
      "id": "24673bab-f1cc-464f-a733-fd74b037e755",
      "metadata": {
        "id": "24673bab-f1cc-464f-a733-fd74b037e755"
      },
      "source": [
        "There are 918 entries in the Y"
      ]
    },
    {
      "cell_type": "code",
      "execution_count": null,
      "id": "649ef14d-43d2-44e1-bb59-c30946128c25",
      "metadata": {
        "id": "649ef14d-43d2-44e1-bb59-c30946128c25"
      },
      "outputs": [],
      "source": [
        "#since we have declaerd our X and Y variable let Feature scale\n",
        "# we will be feature scalling the following faetures Age,RestingBP,Cholesterol,MaxHR and Oldpeak\n",
        "from sklearn import preprocessing\n",
        "X['Age']= preprocessing.scale(X['Age'])\n",
        "X['RestingBP']=preprocessing.scale(X['RestingBP'])\n",
        "X['Cholesterol']=preprocessing.scale(X['Cholesterol'])\n",
        "X['MaxHR']=preprocessing.scale(X['MaxHR'])\n",
        "X['Oldpeak']=preprocessing.scale (X['Oldpeak'])"
      ]
    },
    {
      "cell_type": "code",
      "execution_count": null,
      "id": "6531f882-3cb4-4ae7-99b4-5dd6229bd223",
      "metadata": {
        "id": "6531f882-3cb4-4ae7-99b4-5dd6229bd223",
        "outputId": "b7dad74e-e20f-4b6a-ec93-f7a2957cce79"
      },
      "outputs": [
        {
          "data": {
            "text/html": [
              "<div>\n",
              "<style scoped>\n",
              "    .dataframe tbody tr th:only-of-type {\n",
              "        vertical-align: middle;\n",
              "    }\n",
              "\n",
              "    .dataframe tbody tr th {\n",
              "        vertical-align: top;\n",
              "    }\n",
              "\n",
              "    .dataframe thead th {\n",
              "        text-align: right;\n",
              "    }\n",
              "</style>\n",
              "<table border=\"1\" class=\"dataframe\">\n",
              "  <thead>\n",
              "    <tr style=\"text-align: right;\">\n",
              "      <th></th>\n",
              "      <th>Age</th>\n",
              "      <th>Sex</th>\n",
              "      <th>ChestPainType</th>\n",
              "      <th>RestingBP</th>\n",
              "      <th>Cholesterol</th>\n",
              "      <th>FastingBS</th>\n",
              "      <th>RestingECG</th>\n",
              "      <th>MaxHR</th>\n",
              "      <th>ExerciseAngina</th>\n",
              "      <th>Oldpeak</th>\n",
              "      <th>ST_Slope</th>\n",
              "    </tr>\n",
              "  </thead>\n",
              "  <tbody>\n",
              "    <tr>\n",
              "      <th>0</th>\n",
              "      <td>-1.433140</td>\n",
              "      <td>1</td>\n",
              "      <td>1</td>\n",
              "      <td>0.415002</td>\n",
              "      <td>0.897407</td>\n",
              "      <td>0</td>\n",
              "      <td>1</td>\n",
              "      <td>1.382928</td>\n",
              "      <td>0</td>\n",
              "      <td>-0.875154</td>\n",
              "      <td>2</td>\n",
              "    </tr>\n",
              "    <tr>\n",
              "      <th>1</th>\n",
              "      <td>-0.478484</td>\n",
              "      <td>0</td>\n",
              "      <td>2</td>\n",
              "      <td>1.527329</td>\n",
              "      <td>-1.122849</td>\n",
              "      <td>0</td>\n",
              "      <td>1</td>\n",
              "      <td>0.754157</td>\n",
              "      <td>0</td>\n",
              "      <td>0.086761</td>\n",
              "      <td>1</td>\n",
              "    </tr>\n",
              "    <tr>\n",
              "      <th>2</th>\n",
              "      <td>-1.751359</td>\n",
              "      <td>1</td>\n",
              "      <td>1</td>\n",
              "      <td>-0.141161</td>\n",
              "      <td>0.786200</td>\n",
              "      <td>0</td>\n",
              "      <td>2</td>\n",
              "      <td>-1.525138</td>\n",
              "      <td>0</td>\n",
              "      <td>-0.875154</td>\n",
              "      <td>2</td>\n",
              "    </tr>\n",
              "    <tr>\n",
              "      <th>3</th>\n",
              "      <td>-0.584556</td>\n",
              "      <td>0</td>\n",
              "      <td>0</td>\n",
              "      <td>0.303769</td>\n",
              "      <td>-0.492677</td>\n",
              "      <td>0</td>\n",
              "      <td>1</td>\n",
              "      <td>-1.132156</td>\n",
              "      <td>1</td>\n",
              "      <td>0.567718</td>\n",
              "      <td>1</td>\n",
              "    </tr>\n",
              "    <tr>\n",
              "      <th>4</th>\n",
              "      <td>0.051881</td>\n",
              "      <td>1</td>\n",
              "      <td>2</td>\n",
              "      <td>0.971166</td>\n",
              "      <td>-0.844832</td>\n",
              "      <td>0</td>\n",
              "      <td>1</td>\n",
              "      <td>-0.581981</td>\n",
              "      <td>0</td>\n",
              "      <td>-0.875154</td>\n",
              "      <td>2</td>\n",
              "    </tr>\n",
              "    <tr>\n",
              "      <th>...</th>\n",
              "      <td>...</td>\n",
              "      <td>...</td>\n",
              "      <td>...</td>\n",
              "      <td>...</td>\n",
              "      <td>...</td>\n",
              "      <td>...</td>\n",
              "      <td>...</td>\n",
              "      <td>...</td>\n",
              "      <td>...</td>\n",
              "      <td>...</td>\n",
              "      <td>...</td>\n",
              "    </tr>\n",
              "    <tr>\n",
              "      <th>913</th>\n",
              "      <td>-0.902775</td>\n",
              "      <td>1</td>\n",
              "      <td>3</td>\n",
              "      <td>-1.253488</td>\n",
              "      <td>0.434046</td>\n",
              "      <td>0</td>\n",
              "      <td>1</td>\n",
              "      <td>-0.188999</td>\n",
              "      <td>0</td>\n",
              "      <td>0.279144</td>\n",
              "      <td>1</td>\n",
              "    </tr>\n",
              "    <tr>\n",
              "      <th>914</th>\n",
              "      <td>1.536902</td>\n",
              "      <td>1</td>\n",
              "      <td>0</td>\n",
              "      <td>0.637468</td>\n",
              "      <td>-0.881901</td>\n",
              "      <td>1</td>\n",
              "      <td>1</td>\n",
              "      <td>0.164684</td>\n",
              "      <td>0</td>\n",
              "      <td>2.395357</td>\n",
              "      <td>1</td>\n",
              "    </tr>\n",
              "    <tr>\n",
              "      <th>915</th>\n",
              "      <td>0.370100</td>\n",
              "      <td>1</td>\n",
              "      <td>0</td>\n",
              "      <td>-0.141161</td>\n",
              "      <td>-2.031038</td>\n",
              "      <td>0</td>\n",
              "      <td>1</td>\n",
              "      <td>-0.857069</td>\n",
              "      <td>1</td>\n",
              "      <td>0.279144</td>\n",
              "      <td>1</td>\n",
              "    </tr>\n",
              "    <tr>\n",
              "      <th>916</th>\n",
              "      <td>0.370100</td>\n",
              "      <td>0</td>\n",
              "      <td>1</td>\n",
              "      <td>-0.141161</td>\n",
              "      <td>-0.084919</td>\n",
              "      <td>0</td>\n",
              "      <td>0</td>\n",
              "      <td>1.461525</td>\n",
              "      <td>0</td>\n",
              "      <td>-0.875154</td>\n",
              "      <td>1</td>\n",
              "    </tr>\n",
              "    <tr>\n",
              "      <th>917</th>\n",
              "      <td>-1.645286</td>\n",
              "      <td>1</td>\n",
              "      <td>2</td>\n",
              "      <td>0.303769</td>\n",
              "      <td>-1.215521</td>\n",
              "      <td>0</td>\n",
              "      <td>1</td>\n",
              "      <td>1.422226</td>\n",
              "      <td>0</td>\n",
              "      <td>-0.875154</td>\n",
              "      <td>2</td>\n",
              "    </tr>\n",
              "  </tbody>\n",
              "</table>\n",
              "<p>918 rows × 11 columns</p>\n",
              "</div>"
            ],
            "text/plain": [
              "          Age  Sex  ChestPainType  RestingBP  Cholesterol  FastingBS  \\\n",
              "0   -1.433140    1              1   0.415002     0.897407          0   \n",
              "1   -0.478484    0              2   1.527329    -1.122849          0   \n",
              "2   -1.751359    1              1  -0.141161     0.786200          0   \n",
              "3   -0.584556    0              0   0.303769    -0.492677          0   \n",
              "4    0.051881    1              2   0.971166    -0.844832          0   \n",
              "..        ...  ...            ...        ...          ...        ...   \n",
              "913 -0.902775    1              3  -1.253488     0.434046          0   \n",
              "914  1.536902    1              0   0.637468    -0.881901          1   \n",
              "915  0.370100    1              0  -0.141161    -2.031038          0   \n",
              "916  0.370100    0              1  -0.141161    -0.084919          0   \n",
              "917 -1.645286    1              2   0.303769    -1.215521          0   \n",
              "\n",
              "     RestingECG     MaxHR  ExerciseAngina   Oldpeak  ST_Slope  \n",
              "0             1  1.382928               0 -0.875154         2  \n",
              "1             1  0.754157               0  0.086761         1  \n",
              "2             2 -1.525138               0 -0.875154         2  \n",
              "3             1 -1.132156               1  0.567718         1  \n",
              "4             1 -0.581981               0 -0.875154         2  \n",
              "..          ...       ...             ...       ...       ...  \n",
              "913           1 -0.188999               0  0.279144         1  \n",
              "914           1  0.164684               0  2.395357         1  \n",
              "915           1 -0.857069               1  0.279144         1  \n",
              "916           0  1.461525               0 -0.875154         1  \n",
              "917           1  1.422226               0 -0.875154         2  \n",
              "\n",
              "[918 rows x 11 columns]"
            ]
          },
          "execution_count": 849,
          "metadata": {},
          "output_type": "execute_result"
        }
      ],
      "source": [
        "# The scaled data\n",
        "X"
      ]
    },
    {
      "cell_type": "code",
      "execution_count": null,
      "id": "31009e8f-9f30-4237-817a-fa1d3e205b68",
      "metadata": {
        "id": "31009e8f-9f30-4237-817a-fa1d3e205b68",
        "outputId": "1e4ce8d1-6efc-49e1-c04e-cc5242937af6"
      },
      "outputs": [
        {
          "data": {
            "text/plain": [
              "795    0\n",
              "25     0\n",
              "84     1\n",
              "10     0\n",
              "344    1\n",
              "      ..\n",
              "106    0\n",
              "270    0\n",
              "860    1\n",
              "435    0\n",
              "102    1\n",
              "Name: HeartDisease, Length: 734, dtype: int64"
            ]
          },
          "execution_count": 850,
          "metadata": {},
          "output_type": "execute_result"
        }
      ],
      "source": [
        "# Splitting our data into 80% and 20%. The 80 is for our train data while the 20 is for our test data\n",
        "from sklearn.model_selection import train_test_split\n",
        "X_train, X_test, Y_train, Y_test = train_test_split(X, Y, test_size=0.2, random_state=42)\n",
        "Y_train"
      ]
    },
    {
      "cell_type": "code",
      "execution_count": null,
      "id": "fdd7844f-c20e-4fec-9fc6-5ac56050cd13",
      "metadata": {
        "id": "fdd7844f-c20e-4fec-9fc6-5ac56050cd13",
        "outputId": "4269d849-8293-4b6e-b3d8-7df816df83e6"
      },
      "outputs": [
        {
          "data": {
            "text/plain": [
              "734"
            ]
          },
          "execution_count": 851,
          "metadata": {},
          "output_type": "execute_result"
        }
      ],
      "source": [
        "# Checking our data after splitting\n",
        "# Viewing the train data\n",
        "len(Y_train)"
      ]
    },
    {
      "cell_type": "markdown",
      "id": "84870d00-38b7-4cf8-8a7e-a614a5a8ed6e",
      "metadata": {
        "id": "84870d00-38b7-4cf8-8a7e-a614a5a8ed6e"
      },
      "source": [
        "There are 734 entries in the Y_train data"
      ]
    },
    {
      "cell_type": "code",
      "execution_count": null,
      "id": "d7339d1f-aff0-494b-8c3d-7915c4280565",
      "metadata": {
        "id": "d7339d1f-aff0-494b-8c3d-7915c4280565",
        "outputId": "3d883506-780d-45f7-9fa3-7aaacde74bbd"
      },
      "outputs": [
        {
          "data": {
            "text/plain": [
              "184"
            ]
          },
          "execution_count": 852,
          "metadata": {},
          "output_type": "execute_result"
        }
      ],
      "source": [
        "#checking our data after splitting\n",
        "len(Y_test)"
      ]
    },
    {
      "cell_type": "markdown",
      "id": "c1f3a96c-c9ff-4006-970a-8d5f674871b0",
      "metadata": {
        "id": "c1f3a96c-c9ff-4006-970a-8d5f674871b0"
      },
      "source": [
        "There are 184 entries in the Y_test data"
      ]
    },
    {
      "cell_type": "code",
      "execution_count": null,
      "id": "814e3c1c-0ef1-44c5-876a-de5dbaeb3180",
      "metadata": {
        "id": "814e3c1c-0ef1-44c5-876a-de5dbaeb3180",
        "outputId": "05889ee1-1ad9-4694-fb1f-66dfb7b7441a"
      },
      "outputs": [
        {
          "data": {
            "text/plain": [
              "184"
            ]
          },
          "execution_count": 853,
          "metadata": {},
          "output_type": "execute_result"
        }
      ],
      "source": [
        "#checking our data after splitting\n",
        "len(X_test)"
      ]
    },
    {
      "cell_type": "markdown",
      "id": "20094416-f471-41d3-a291-c48e23dbdd69",
      "metadata": {
        "id": "20094416-f471-41d3-a291-c48e23dbdd69"
      },
      "source": [
        "There are 184 entries in the X_test data"
      ]
    },
    {
      "cell_type": "code",
      "execution_count": null,
      "id": "d11024d0-4448-4678-9032-1be8e19ca825",
      "metadata": {
        "id": "d11024d0-4448-4678-9032-1be8e19ca825",
        "outputId": "54874e6c-b8fe-434c-c826-b8cfcf61921d"
      },
      "outputs": [
        {
          "data": {
            "text/plain": [
              "734"
            ]
          },
          "execution_count": 854,
          "metadata": {},
          "output_type": "execute_result"
        }
      ],
      "source": [
        "#checking our data after splitting\n",
        "len(X_train)"
      ]
    },
    {
      "cell_type": "markdown",
      "id": "e14b74e4-c95c-45f4-be88-cfe10308b012",
      "metadata": {
        "id": "e14b74e4-c95c-45f4-be88-cfe10308b012"
      },
      "source": [
        "There are 734 entries in the X_train data"
      ]
    },
    {
      "cell_type": "code",
      "execution_count": null,
      "id": "21bbd9c1-7ff7-41ee-aca8-81c1acb6f24f",
      "metadata": {
        "id": "21bbd9c1-7ff7-41ee-aca8-81c1acb6f24f",
        "outputId": "3312b207-c228-4298-d7b5-e7f6ffb40074"
      },
      "outputs": [
        {
          "data": {
            "text/plain": [
              "array([0, 0, 1, 1, 0, 1, 1, 0, 1, 1, 0, 0, 1, 0, 1, 1, 0, 1, 1, 0, 0, 1,\n",
              "       0, 1, 1, 1, 0, 1, 0, 0, 1, 0, 1, 1, 1, 1, 1, 0, 1, 1, 1, 1, 1, 0,\n",
              "       0, 1, 1, 1, 1, 0, 0, 0, 1, 1, 1, 0, 0, 1, 1, 1, 0, 0, 0, 1, 0, 1,\n",
              "       1, 1, 1, 0, 0, 0, 1, 1, 0, 1, 0, 1, 0, 1, 0, 1, 1, 0, 1, 1, 0, 1,\n",
              "       0, 0, 0, 1, 1, 0, 1, 0, 1, 0, 1, 1, 0, 1, 0, 0, 0, 1, 0, 0, 1, 0,\n",
              "       1, 1, 0, 0, 1, 0, 1, 0, 1, 0, 1, 1, 0, 1, 0, 0, 0, 0, 0, 0, 0, 1,\n",
              "       1, 0, 1, 0, 1, 1, 0, 1, 0, 0, 1, 1, 1, 1, 0, 0, 0, 0, 0, 1, 1, 0,\n",
              "       1, 0, 0, 0, 0, 1, 0, 0, 1, 0, 1, 1, 1, 1, 0, 0, 1, 1, 0, 1, 0, 1,\n",
              "       0, 1, 0, 0, 1, 1, 0, 1], dtype=int64)"
            ]
          },
          "execution_count": 855,
          "metadata": {},
          "output_type": "execute_result"
        }
      ],
      "source": [
        "# using logistics regression as our Machine learning algorithm\n",
        "from sklearn.linear_model import LogisticRegression\n",
        "reg=LogisticRegression()\n",
        "reg.fit(X_train,Y_train)\n",
        "reg.predict(X_test)"
      ]
    },
    {
      "cell_type": "code",
      "execution_count": null,
      "id": "19fcc370-97f8-4ad0-ac3e-58f02a22862c",
      "metadata": {
        "id": "19fcc370-97f8-4ad0-ac3e-58f02a22862c",
        "outputId": "9915642b-7bdd-4f6f-a58a-604e210dc6f4"
      },
      "outputs": [
        {
          "data": {
            "text/plain": [
              "array([0, 0, 1, 1, 0, 1, 1, 0, 1, 1, 0, 0, 1, 0, 1, 1, 0, 1, 1, 0, 0, 1,\n",
              "       0, 1, 1, 1, 0, 1, 0, 0, 1, 0, 1, 1, 1, 1, 1, 0, 1, 1, 1, 1, 1, 0,\n",
              "       0, 1, 1, 1, 1, 0, 0, 0, 1, 1, 1, 0, 0, 1, 1, 1, 0, 0, 0, 1, 0, 1,\n",
              "       1, 1, 1, 0, 0, 0, 1, 1, 0, 1, 0, 1, 0, 1, 0, 1, 1, 0, 1, 1, 0, 1,\n",
              "       0, 0, 0, 1, 1, 0, 1, 0, 1, 0, 1, 1, 0, 1, 0, 0, 0, 1, 0, 0, 1, 0,\n",
              "       1, 1, 0, 0, 1, 0, 1, 0, 1, 0, 1, 1, 0, 1, 0, 0, 0, 0, 0, 0, 0, 1,\n",
              "       1, 0, 1, 0, 1, 1, 0, 1, 0, 0, 1, 1, 1, 1, 0, 0, 0, 0, 0, 1, 1, 0,\n",
              "       1, 0, 0, 0, 0, 1, 0, 0, 1, 0, 1, 1, 1, 1, 0, 0, 1, 1, 0, 1, 0, 1,\n",
              "       0, 1, 0, 0, 1, 1, 0, 1], dtype=int64)"
            ]
          },
          "execution_count": 856,
          "metadata": {},
          "output_type": "execute_result"
        }
      ],
      "source": [
        "#assigning a variable to check the accuracy our  predictions\n",
        "pred=reg.predict(X_test)\n",
        "pred"
      ]
    },
    {
      "cell_type": "code",
      "execution_count": null,
      "id": "25df53ab-1f06-47f2-806a-263237db2727",
      "metadata": {
        "id": "25df53ab-1f06-47f2-806a-263237db2727",
        "outputId": "5b142dd1-f67d-4a1e-8683-03e89e656641"
      },
      "outputs": [
        {
          "data": {
            "text/plain": [
              "1"
            ]
          },
          "execution_count": 857,
          "metadata": {},
          "output_type": "execute_result"
        }
      ],
      "source": [
        "#testing our model\n",
        "pred[5]"
      ]
    },
    {
      "cell_type": "code",
      "execution_count": null,
      "id": "1740c714-0986-4744-b154-346d7e215bae",
      "metadata": {
        "id": "1740c714-0986-4744-b154-346d7e215bae",
        "outputId": "e5ba6f8b-8110-4229-bb98-1e6ad62b5442"
      },
      "outputs": [
        {
          "data": {
            "text/plain": [
              "0"
            ]
          },
          "execution_count": 858,
          "metadata": {},
          "output_type": "execute_result"
        }
      ],
      "source": [
        "#testing our model\n",
        "pred[20]"
      ]
    },
    {
      "cell_type": "code",
      "execution_count": null,
      "id": "c80e206c-43d1-4701-8be5-ccdde10c596f",
      "metadata": {
        "id": "c80e206c-43d1-4701-8be5-ccdde10c596f",
        "outputId": "48478e6c-409a-4854-edb9-ad22916a3031"
      },
      "outputs": [
        {
          "data": {
            "text/plain": [
              "84.23913043478261"
            ]
          },
          "execution_count": 859,
          "metadata": {},
          "output_type": "execute_result"
        }
      ],
      "source": [
        "# checking our models prediction accuracy\n",
        "reg.score(X_test,Y_test)*100\n"
      ]
    },
    {
      "cell_type": "code",
      "execution_count": null,
      "id": "34de5caa-a030-4ab5-833c-3f4419c6c07a",
      "metadata": {
        "id": "34de5caa-a030-4ab5-833c-3f4419c6c07a",
        "outputId": "a42a929b-5e82-451d-e0eb-b020ff056975"
      },
      "outputs": [
        {
          "data": {
            "image/png": "[encoded data removed]",
            "text/plain": [
              "<Figure size 600x400 with 2 Axes>"
            ]
          },
          "metadata": {},
          "output_type": "display_data"
        }
      ],
      "source": [
        "# Confusion Matrix for Logistic Regression\n",
        "from sklearn.metrics import accuracy_score, confusion_matrix\n",
        "cm = confusion_matrix(Y_test, pred)\n",
        "plt.figure(figsize=(6,4))\n",
        "sns.heatmap(cm, annot=True, fmt='d', cmap='Blues')\n",
        "plt.title('Confusion Matrix - Logistic Regression')\n",
        "plt.xlabel('Predicted')\n",
        "plt.ylabel('Actual')\n",
        "plt.show()"
      ]
    },
    {
      "cell_type": "markdown",
      "id": "7e52da60-ed3e-449a-8f85-e9119573226c",
      "metadata": {
        "id": "7e52da60-ed3e-449a-8f85-e9119573226c"
      },
      "source": [
        "Per the Above confution metrix we can make the following insights\n",
        "*  68 Patient were correctly predicted of not having heart disease.\n",
        "* 9 Patient were incorrectly predicted to have heart disease (they actually did not have heart disease).\n",
        "* 20 Patient were incorrectly predicted to not have heart disease (but they did have heart disease ).\n",
        "* 87 Patient were correctly predicted to have heart disease."
      ]
    },
    {
      "cell_type": "code",
      "execution_count": null,
      "id": "5ff41a3b-43e8-40ad-9035-21430d45d82b",
      "metadata": {
        "id": "5ff41a3b-43e8-40ad-9035-21430d45d82b",
        "outputId": "ead806be-5193-43f9-a2d0-8866ffdd9d5f"
      },
      "outputs": [
        {
          "data": {
            "text/plain": [
              "0.842391304347826"
            ]
          },
          "execution_count": 861,
          "metadata": {},
          "output_type": "execute_result"
        }
      ],
      "source": [
        "from sklearn.metrics import accuracy_score, confusion_matrix\n",
        "\n",
        "accuracy_score(pred, Y_test)"
      ]
    },
    {
      "cell_type": "markdown",
      "id": "443324d7-f8a3-4240-9a75-add9ebad5bf1",
      "metadata": {
        "id": "443324d7-f8a3-4240-9a75-add9ebad5bf1"
      },
      "source": [
        "The accuracy score is 0.84 and this would translate to an 84%, meaning our model did learn well on the data it was trained with (being the heart disease data: heart1.csv) and accurately predicted 84% of the entire data it learnt on.\n",
        "\n",
        "This was as a result of the use of logistics regression model for model training. The logidtic regression model is a versatile widely used statistical method for predicing a binary outcome based on one or more predictor variable (independent variables), just like the target/label variable in the data we worked with.\n"
      ]
    },
    {
      "cell_type": "markdown",
      "id": "95d28409-335d-40dc-95c2-ea56b3dbf89c",
      "metadata": {
        "id": "95d28409-335d-40dc-95c2-ea56b3dbf89c"
      },
      "source": [
        "We will use the Knearest neighbor algorithm to further verify the accuracy from the logistic regression algorithm"
      ]
    },
    {
      "cell_type": "code",
      "execution_count": null,
      "id": "e4299037-1691-4f1e-8e8e-efb58102d89c",
      "metadata": {
        "id": "e4299037-1691-4f1e-8e8e-efb58102d89c",
        "outputId": "d618b8cd-adee-4348-88c7-4d6deac2d2cd"
      },
      "outputs": [
        {
          "data": {
            "text/html": [
              "<style>#sk-container-id-5 {\n",
              "  /* Definition of color scheme common for light and dark mode */\n",
              "  --sklearn-color-text: black;\n",
              "  --sklearn-color-line: gray;\n",
              "  /* Definition of color scheme for unfitted estimators */\n",
              "  --sklearn-color-unfitted-level-0: #fff5e6;\n",
              "  --sklearn-color-unfitted-level-1: #f6e4d2;\n",
              "  --sklearn-color-unfitted-level-2: #ffe0b3;\n",
              "  --sklearn-color-unfitted-level-3: chocolate;\n",
              "  /* Definition of color scheme for fitted estimators */\n",
              "  --sklearn-color-fitted-level-0: #f0f8ff;\n",
              "  --sklearn-color-fitted-level-1: #d4ebff;\n",
              "  --sklearn-color-fitted-level-2: #b3dbfd;\n",
              "  --sklearn-color-fitted-level-3: cornflowerblue;\n",
              "\n",
              "  /* Specific color for light theme */\n",
              "  --sklearn-color-text-on-default-background: var(--sg-text-color, var(--theme-code-foreground, var(--jp-content-font-color1, black)));\n",
              "  --sklearn-color-background: var(--sg-background-color, var(--theme-background, var(--jp-layout-color0, white)));\n",
              "  --sklearn-color-border-box: var(--sg-text-color, var(--theme-code-foreground, var(--jp-content-font-color1, black)));\n",
              "  --sklearn-color-icon: #696969;\n",
              "\n",
              "  @media (prefers-color-scheme: dark) {\n",
              "    /* Redefinition of color scheme for dark theme */\n",
              "    --sklearn-color-text-on-default-background: var(--sg-text-color, var(--theme-code-foreground, var(--jp-content-font-color1, white)));\n",
              "    --sklearn-color-background: var(--sg-background-color, var(--theme-background, var(--jp-layout-color0, #111)));\n",
              "    --sklearn-color-border-box: var(--sg-text-color, var(--theme-code-foreground, var(--jp-content-font-color1, white)));\n",
              "    --sklearn-color-icon: #878787;\n",
              "  }\n",
              "}\n",
              "\n",
              "#sk-container-id-5 {\n",
              "  color: var(--sklearn-color-text);\n",
              "}\n",
              "\n",
              "#sk-container-id-5 pre {\n",
              "  padding: 0;\n",
              "}\n",
              "\n",
              "#sk-container-id-5 input.sk-hidden--visually {\n",
              "  border: 0;\n",
              "  clip: rect(1px 1px 1px 1px);\n",
              "  clip: rect(1px, 1px, 1px, 1px);\n",
              "  height: 1px;\n",
              "  margin: -1px;\n",
              "  overflow: hidden;\n",
              "  padding: 0;\n",
              "  position: absolute;\n",
              "  width: 1px;\n",
              "}\n",
              "\n",
              "#sk-container-id-5 div.sk-dashed-wrapped {\n",
              "  border: 1px dashed var(--sklearn-color-line);\n",
              "  margin: 0 0.4em 0.5em 0.4em;\n",
              "  box-sizing: border-box;\n",
              "  padding-bottom: 0.4em;\n",
              "  background-color: var(--sklearn-color-background);\n",
              "}\n",
              "\n",
              "#sk-container-id-5 div.sk-container {\n",
              "  /* jupyter's `normalize.less` sets `[hidden] { display: none; }`\n",
              "     but bootstrap.min.css set `[hidden] { display: none !important; }`\n",
              "     so we also need the `!important` here to be able to override the\n",
              "     default hidden behavior on the sphinx rendered scikit-learn.org.\n",
              "     See: https://github.com/scikit-learn/scikit-learn/issues/21755 */\n",
              "  display: inline-block !important;\n",
              "  position: relative;\n",
              "}\n",
              "\n",
              "#sk-container-id-5 div.sk-text-repr-fallback {\n",
              "  display: none;\n",
              "}\n",
              "\n",
              "div.sk-parallel-item,\n",
              "div.sk-serial,\n",
              "div.sk-item {\n",
              "  /* draw centered vertical line to link estimators */\n",
              "  background-image: linear-gradient(var(--sklearn-color-text-on-default-background), var(--sklearn-color-text-on-default-background));\n",
              "  background-size: 2px 100%;\n",
              "  background-repeat: no-repeat;\n",
              "  background-position: center center;\n",
              "}\n",
              "\n",
              "/* Parallel-specific style estimator block */\n",
              "\n",
              "#sk-container-id-5 div.sk-parallel-item::after {\n",
              "  content: \"\";\n",
              "  width: 100%;\n",
              "  border-bottom: 2px solid var(--sklearn-color-text-on-default-background);\n",
              "  flex-grow: 1;\n",
              "}\n",
              "\n",
              "#sk-container-id-5 div.sk-parallel {\n",
              "  display: flex;\n",
              "  align-items: stretch;\n",
              "  justify-content: center;\n",
              "  background-color: var(--sklearn-color-background);\n",
              "  position: relative;\n",
              "}\n",
              "\n",
              "#sk-container-id-5 div.sk-parallel-item {\n",
              "  display: flex;\n",
              "  flex-direction: column;\n",
              "}\n",
              "\n",
              "#sk-container-id-5 div.sk-parallel-item:first-child::after {\n",
              "  align-self: flex-end;\n",
              "  width: 50%;\n",
              "}\n",
              "\n",
              "#sk-container-id-5 div.sk-parallel-item:last-child::after {\n",
              "  align-self: flex-start;\n",
              "  width: 50%;\n",
              "}\n",
              "\n",
              "#sk-container-id-5 div.sk-parallel-item:only-child::after {\n",
              "  width: 0;\n",
              "}\n",
              "\n",
              "/* Serial-specific style estimator block */\n",
              "\n",
              "#sk-container-id-5 div.sk-serial {\n",
              "  display: flex;\n",
              "  flex-direction: column;\n",
              "  align-items: center;\n",
              "  background-color: var(--sklearn-color-background);\n",
              "  padding-right: 1em;\n",
              "  padding-left: 1em;\n",
              "}\n",
              "\n",
              "\n",
              "/* Toggleable style: style used for estimator/Pipeline/ColumnTransformer box that is\n",
              "clickable and can be expanded/collapsed.\n",
              "- Pipeline and ColumnTransformer use this feature and define the default style\n",
              "- Estimators will overwrite some part of the style using the `sk-estimator` class\n",
              "*/\n",
              "\n",
              "/* Pipeline and ColumnTransformer style (default) */\n",
              "\n",
              "#sk-container-id-5 div.sk-toggleable {\n",
              "  /* Default theme specific background. It is overwritten whether we have a\n",
              "  specific estimator or a Pipeline/ColumnTransformer */\n",
              "  background-color: var(--sklearn-color-background);\n",
              "}\n",
              "\n",
              "/* Toggleable label */\n",
              "#sk-container-id-5 label.sk-toggleable__label {\n",
              "  cursor: pointer;\n",
              "  display: block;\n",
              "  width: 100%;\n",
              "  margin-bottom: 0;\n",
              "  padding: 0.5em;\n",
              "  box-sizing: border-box;\n",
              "  text-align: center;\n",
              "}\n",
              "\n",
              "#sk-container-id-5 label.sk-toggleable__label-arrow:before {\n",
              "  /* Arrow on the left of the label */\n",
              "  content: \"▸\";\n",
              "  float: left;\n",
              "  margin-right: 0.25em;\n",
              "  color: var(--sklearn-color-icon);\n",
              "}\n",
              "\n",
              "#sk-container-id-5 label.sk-toggleable__label-arrow:hover:before {\n",
              "  color: var(--sklearn-color-text);\n",
              "}\n",
              "\n",
              "/* Toggleable content - dropdown */\n",
              "\n",
              "#sk-container-id-5 div.sk-toggleable__content {\n",
              "  max-height: 0;\n",
              "  max-width: 0;\n",
              "  overflow: hidden;\n",
              "  text-align: left;\n",
              "  /* unfitted */\n",
              "  background-color: var(--sklearn-color-unfitted-level-0);\n",
              "}\n",
              "\n",
              "#sk-container-id-5 div.sk-toggleable__content.fitted {\n",
              "  /* fitted */\n",
              "  background-color: var(--sklearn-color-fitted-level-0);\n",
              "}\n",
              "\n",
              "#sk-container-id-5 div.sk-toggleable__content pre {\n",
              "  margin: 0.2em;\n",
              "  border-radius: 0.25em;\n",
              "  color: var(--sklearn-color-text);\n",
              "  /* unfitted */\n",
              "  background-color: var(--sklearn-color-unfitted-level-0);\n",
              "}\n",
              "\n",
              "#sk-container-id-5 div.sk-toggleable__content.fitted pre {\n",
              "  /* unfitted */\n",
              "  background-color: var(--sklearn-color-fitted-level-0);\n",
              "}\n",
              "\n",
              "#sk-container-id-5 input.sk-toggleable__control:checked~div.sk-toggleable__content {\n",
              "  /* Expand drop-down */\n",
              "  max-height: 200px;\n",
              "  max-width: 100%;\n",
              "  overflow: auto;\n",
              "}\n",
              "\n",
              "#sk-container-id-5 input.sk-toggleable__control:checked~label.sk-toggleable__label-arrow:before {\n",
              "  content: \"▾\";\n",
              "}\n",
              "\n",
              "/* Pipeline/ColumnTransformer-specific style */\n",
              "\n",
              "#sk-container-id-5 div.sk-label input.sk-toggleable__control:checked~label.sk-toggleable__label {\n",
              "  color: var(--sklearn-color-text);\n",
              "  background-color: var(--sklearn-color-unfitted-level-2);\n",
              "}\n",
              "\n",
              "#sk-container-id-5 div.sk-label.fitted input.sk-toggleable__control:checked~label.sk-toggleable__label {\n",
              "  background-color: var(--sklearn-color-fitted-level-2);\n",
              "}\n",
              "\n",
              "/* Estimator-specific style */\n",
              "\n",
              "/* Colorize estimator box */\n",
              "#sk-container-id-5 div.sk-estimator input.sk-toggleable__control:checked~label.sk-toggleable__label {\n",
              "  /* unfitted */\n",
              "  background-color: var(--sklearn-color-unfitted-level-2);\n",
              "}\n",
              "\n",
              "#sk-container-id-5 div.sk-estimator.fitted input.sk-toggleable__control:checked~label.sk-toggleable__label {\n",
              "  /* fitted */\n",
              "  background-color: var(--sklearn-color-fitted-level-2);\n",
              "}\n",
              "\n",
              "#sk-container-id-5 div.sk-label label.sk-toggleable__label,\n",
              "#sk-container-id-5 div.sk-label label {\n",
              "  /* The background is the default theme color */\n",
              "  color: var(--sklearn-color-text-on-default-background);\n",
              "}\n",
              "\n",
              "/* On hover, darken the color of the background */\n",
              "#sk-container-id-5 div.sk-label:hover label.sk-toggleable__label {\n",
              "  color: var(--sklearn-color-text);\n",
              "  background-color: var(--sklearn-color-unfitted-level-2);\n",
              "}\n",
              "\n",
              "/* Label box, darken color on hover, fitted */\n",
              "#sk-container-id-5 div.sk-label.fitted:hover label.sk-toggleable__label.fitted {\n",
              "  color: var(--sklearn-color-text);\n",
              "  background-color: var(--sklearn-color-fitted-level-2);\n",
              "}\n",
              "\n",
              "/* Estimator label */\n",
              "\n",
              "#sk-container-id-5 div.sk-label label {\n",
              "  font-family: monospace;\n",
              "  font-weight: bold;\n",
              "  display: inline-block;\n",
              "  line-height: 1.2em;\n",
              "}\n",
              "\n",
              "#sk-container-id-5 div.sk-label-container {\n",
              "  text-align: center;\n",
              "}\n",
              "\n",
              "/* Estimator-specific */\n",
              "#sk-container-id-5 div.sk-estimator {\n",
              "  font-family: monospace;\n",
              "  border: 1px dotted var(--sklearn-color-border-box);\n",
              "  border-radius: 0.25em;\n",
              "  box-sizing: border-box;\n",
              "  margin-bottom: 0.5em;\n",
              "  /* unfitted */\n",
              "  background-color: var(--sklearn-color-unfitted-level-0);\n",
              "}\n",
              "\n",
              "#sk-container-id-5 div.sk-estimator.fitted {\n",
              "  /* fitted */\n",
              "  background-color: var(--sklearn-color-fitted-level-0);\n",
              "}\n",
              "\n",
              "/* on hover */\n",
              "#sk-container-id-5 div.sk-estimator:hover {\n",
              "  /* unfitted */\n",
              "  background-color: var(--sklearn-color-unfitted-level-2);\n",
              "}\n",
              "\n",
              "#sk-container-id-5 div.sk-estimator.fitted:hover {\n",
              "  /* fitted */\n",
              "  background-color: var(--sklearn-color-fitted-level-2);\n",
              "}\n",
              "\n",
              "/* Specification for estimator info (e.g. \"i\" and \"?\") */\n",
              "\n",
              "/* Common style for \"i\" and \"?\" */\n",
              "\n",
              ".sk-estimator-doc-link,\n",
              "a:link.sk-estimator-doc-link,\n",
              "a:visited.sk-estimator-doc-link {\n",
              "  float: right;\n",
              "  font-size: smaller;\n",
              "  line-height: 1em;\n",
              "  font-family: monospace;\n",
              "  background-color: var(--sklearn-color-background);\n",
              "  border-radius: 1em;\n",
              "  height: 1em;\n",
              "  width: 1em;\n",
              "  text-decoration: none !important;\n",
              "  margin-left: 1ex;\n",
              "  /* unfitted */\n",
              "  border: var(--sklearn-color-unfitted-level-1) 1pt solid;\n",
              "  color: var(--sklearn-color-unfitted-level-1);\n",
              "}\n",
              "\n",
              ".sk-estimator-doc-link.fitted,\n",
              "a:link.sk-estimator-doc-link.fitted,\n",
              "a:visited.sk-estimator-doc-link.fitted {\n",
              "  /* fitted */\n",
              "  border: var(--sklearn-color-fitted-level-1) 1pt solid;\n",
              "  color: var(--sklearn-color-fitted-level-1);\n",
              "}\n",
              "\n",
              "/* On hover */\n",
              "div.sk-estimator:hover .sk-estimator-doc-link:hover,\n",
              ".sk-estimator-doc-link:hover,\n",
              "div.sk-label-container:hover .sk-estimator-doc-link:hover,\n",
              ".sk-estimator-doc-link:hover {\n",
              "  /* unfitted */\n",
              "  background-color: var(--sklearn-color-unfitted-level-3);\n",
              "  color: var(--sklearn-color-background);\n",
              "  text-decoration: none;\n",
              "}\n",
              "\n",
              "div.sk-estimator.fitted:hover .sk-estimator-doc-link.fitted:hover,\n",
              ".sk-estimator-doc-link.fitted:hover,\n",
              "div.sk-label-container:hover .sk-estimator-doc-link.fitted:hover,\n",
              ".sk-estimator-doc-link.fitted:hover {\n",
              "  /* fitted */\n",
              "  background-color: var(--sklearn-color-fitted-level-3);\n",
              "  color: var(--sklearn-color-background);\n",
              "  text-decoration: none;\n",
              "}\n",
              "\n",
              "/* Span, style for the box shown on hovering the info icon */\n",
              ".sk-estimator-doc-link span {\n",
              "  display: none;\n",
              "  z-index: 9999;\n",
              "  position: relative;\n",
              "  font-weight: normal;\n",
              "  right: .2ex;\n",
              "  padding: .5ex;\n",
              "  margin: .5ex;\n",
              "  width: min-content;\n",
              "  min-width: 20ex;\n",
              "  max-width: 50ex;\n",
              "  color: var(--sklearn-color-text);\n",
              "  box-shadow: 2pt 2pt 4pt #999;\n",
              "  /* unfitted */\n",
              "  background: var(--sklearn-color-unfitted-level-0);\n",
              "  border: .5pt solid var(--sklearn-color-unfitted-level-3);\n",
              "}\n",
              "\n",
              ".sk-estimator-doc-link.fitted span {\n",
              "  /* fitted */\n",
              "  background: var(--sklearn-color-fitted-level-0);\n",
              "  border: var(--sklearn-color-fitted-level-3);\n",
              "}\n",
              "\n",
              ".sk-estimator-doc-link:hover span {\n",
              "  display: block;\n",
              "}\n",
              "\n",
              "/* \"?\"-specific style due to the `<a>` HTML tag */\n",
              "\n",
              "#sk-container-id-5 a.estimator_doc_link {\n",
              "  float: right;\n",
              "  font-size: 1rem;\n",
              "  line-height: 1em;\n",
              "  font-family: monospace;\n",
              "  background-color: var(--sklearn-color-background);\n",
              "  border-radius: 1rem;\n",
              "  height: 1rem;\n",
              "  width: 1rem;\n",
              "  text-decoration: none;\n",
              "  /* unfitted */\n",
              "  color: var(--sklearn-color-unfitted-level-1);\n",
              "  border: var(--sklearn-color-unfitted-level-1) 1pt solid;\n",
              "}\n",
              "\n",
              "#sk-container-id-5 a.estimator_doc_link.fitted {\n",
              "  /* fitted */\n",
              "  border: var(--sklearn-color-fitted-level-1) 1pt solid;\n",
              "  color: var(--sklearn-color-fitted-level-1);\n",
              "}\n",
              "\n",
              "/* On hover */\n",
              "#sk-container-id-5 a.estimator_doc_link:hover {\n",
              "  /* unfitted */\n",
              "  background-color: var(--sklearn-color-unfitted-level-3);\n",
              "  color: var(--sklearn-color-background);\n",
              "  text-decoration: none;\n",
              "}\n",
              "\n",
              "#sk-container-id-5 a.estimator_doc_link.fitted:hover {\n",
              "  /* fitted */\n",
              "  background-color: var(--sklearn-color-fitted-level-3);\n",
              "}\n",
              "</style><div id=\"sk-container-id-5\" class=\"sk-top-container\"><div class=\"sk-text-repr-fallback\"><pre>KNeighborsClassifier()</pre><b>In a Jupyter environment, please rerun this cell to show the HTML representation or trust the notebook. <br />On GitHub, the HTML representation is unable to render, please try loading this page with nbviewer.org.</b></div><div class=\"sk-container\" hidden><div class=\"sk-item\"><div class=\"sk-estimator fitted sk-toggleable\"><input class=\"sk-toggleable__control sk-hidden--visually\" id=\"sk-estimator-id-5\" type=\"checkbox\" checked><label for=\"sk-estimator-id-5\" class=\"sk-toggleable__label fitted sk-toggleable__label-arrow fitted\">&nbsp;&nbsp;KNeighborsClassifier<a class=\"sk-estimator-doc-link fitted\" rel=\"noreferrer\" target=\"_blank\" href=\"https://scikit-learn.org/1.5/modules/generated/sklearn.neighbors.KNeighborsClassifier.html\">?<span>Documentation for KNeighborsClassifier</span></a><span class=\"sk-estimator-doc-link fitted\">i<span>Fitted</span></span></label><div class=\"sk-toggleable__content fitted\"><pre>KNeighborsClassifier()</pre></div> </div></div></div></div>"
            ],
            "text/plain": [
              "KNeighborsClassifier()"
            ]
          },
          "execution_count": 862,
          "metadata": {},
          "output_type": "execute_result"
        }
      ],
      "source": [
        "#defining a variable for our knn algorithm\n",
        "knn = KNeighborsClassifier(5)\n",
        "knn.fit(X_train,Y_train)"
      ]
    },
    {
      "cell_type": "code",
      "execution_count": null,
      "id": "b6118ff3-a770-45cd-b83e-c8084630b344",
      "metadata": {
        "id": "b6118ff3-a770-45cd-b83e-c8084630b344",
        "outputId": "aaa3dcca-270e-4a80-db82-602cc09a1ecc"
      },
      "outputs": [
        {
          "data": {
            "text/plain": [
              "0.8719346049046321"
            ]
          },
          "execution_count": 863,
          "metadata": {},
          "output_type": "execute_result"
        }
      ],
      "source": [
        "#Checking knn's prediction accuracy\n",
        "knn.score(X_train, Y_train)"
      ]
    },
    {
      "cell_type": "markdown",
      "id": "ce7bce95-c7aa-48f4-b2c3-9fb13da74073",
      "metadata": {
        "id": "ce7bce95-c7aa-48f4-b2c3-9fb13da74073"
      },
      "source": [
        "The accuracy score the knn model happens to be 0.87 which also translate into 87%. This affirms the accuracy from the logistic regression model used above.\n",
        "\n",
        "Comparing the accuracy score of both models it can said that the accuracy score of the knn classifier is higher than that of the logistic regression model. The KNN gave a higher accuracy compared to the logistic regression model because of its simplicity (it does not require an extensive data preprocessing), non-parametric nature (it ability to effectively capture complex relationships between variables within the data) and it is flexible since it can be used for both classification and regression tasks in different machine learning scenarios."
      ]
    },
    {
      "cell_type": "markdown",
      "id": "6b67e845-2c7a-4056-9a3e-f67f10594770",
      "metadata": {
        "id": "6b67e845-2c7a-4056-9a3e-f67f10594770"
      },
      "source": [
        "###**Conclusion**###\n",
        "\n",
        "Cardiovascular disease (CVD) is a major global health issue, particularly affecting men over 40 years old. Despite its severity, public awareness remains low. Key risk factors including smoking, high blood pressure, high cholesterol, poor diet, physical inactivity, and obesity increase the likelihood of heart disease.\n",
        "\n",
        "Fortunately, many heart conditions are preventable through lifestyle changes, routine health screenings, and increased education. Strengthening public sensitization and improving access to preventive healthcare are essential for reducing heart disease prevalence and saving lives. In this project, where we introduced a heart disease prediction system to two different types of classifier techniques which are Logistic regression and K-Nearest Neighbor for the prediction of heart disease.\n",
        "\n",
        "The history of the patient that contains a collection of data that leads to heart disease, the data collection of the medical history includes CP (Chest Pain), MaxHR (MaxHearthRate), fasting blood sugar, exerciseangina, resting bood pressure, cholesterol, age, gender amongst others. This heart disease prediction project combined data analysis and machine learning to identify risk factors with strong accuracy.\n",
        "\n",
        "Using logistic regression and K-Nearest Neighbor, we evaluated models on key health metrics like cholesterol, resting blood pressure, age, gender, exerceangina, fasting bloos sugar amongst others. Feature selection and cross-validation helped refine performance, with the KNN achieving the highest precision.\n",
        "\n",
        "The results show that machine learning can effectively flag high-risk patients, aiding early intervention. However, challenges like imbalanced data and feature dependencies were addressed through resampling and correlation analysis. While the model performs well, real-world deployment would require continuous updates with diverse patient data.\n",
        "\n",
        "Future work could explore deep learning or integrate wearable device data for real-time predictions. By improving accessibility and accuracy, such tools can support doctors in making faster, data-backed decisions. Ultimately, this project highlights the power of predictive analytics in preventive healthcare but human expertise remains irreplaceable. The next step? Let bring this analysis into practice, one heartbeat at a time."
      ]
    }
  ],
  "metadata": {
    "colab": {
      "provenance": []
    },
    "kernelspec": {
      "display_name": "Python 3 (ipykernel)",
      "language": "python",
      "name": "python3"
    },
    "language_info": {
      "codemirror_mode": {
        "name": "ipython",
        "version": 3
      },
      "file_extension": ".py",
      "mimetype": "text/x-python",
      "name": "python",
      "nbconvert_exporter": "python",
      "pygments_lexer": "ipython3",
      "version": "3.12.7"
    }
  },
  "nbformat": 4,
  "nbformat_minor": 5
}